{
 "cells": [
  {
   "cell_type": "markdown",
   "metadata": {},
   "source": [
    "# AEVB Model Development"
   ]
  },
  {
   "cell_type": "markdown",
   "metadata": {},
   "source": [
    "## 1. Version Log\n",
    "\n",
    "1. 2020/04/22: first baseline version created.\n",
    "    - alpha: 0.01 does not work, can train with 0.001\n",
    "2. 2020/04/24: \n",
    "    - ADAM\n",
    "        - implemented ADAM\n",
    "        - added functionality to output file status during training\n",
    "        - added flexibility to start training based on user-specified parameters\n",
    "    - profiling\n",
    "3. 2020/04/25:\n",
    "    - speed up\n",
    "        - updated training function to take in grad as function for easier testing\n",
    "4. 2020/04/28:\n",
    "    - \"total_loss\"\n",
    "        - corrected error in \"total_loss\" function though it didn't have any effect before as L has been set to 1\n",
    "5. 2020/04/30:\n",
    "    - finalized with each version and all workings documented and tidied up\n",
    "6. 2020/05/07 (section 7.6):\n",
    "    - model correction\n",
    "        - model specification mistake where the same latent variable sample is used across all data points\n",
    "    - train function\n",
    "        - from discussion with VR, update train function so that X is expected to be M by dx, rather than M by Xdim1 by Xdim2 which is rather arbitrary for MNIST data\n",
    "7. 2020/05/08 (section 7.7):\n",
    "    - try Eigen + pybind\n",
    "    - align MDN version to model version in section 7, this is v5"
   ]
  },
  {
   "cell_type": "code",
   "execution_count": 1,
   "metadata": {},
   "outputs": [],
   "source": [
    "Model_version = \"v5\""
   ]
  },
  {
   "cell_type": "markdown",
   "metadata": {},
   "source": [
    "## 2. Variable Dimensions\n",
    "\n",
    "Data\n",
    "- X: M by dx (100 by 784)\n",
    "- y: M by L by dx (100 by 1 by 784)\n",
    "\n",
    "for calculating total loss by batch\n",
    "- q_mu: M by dz (100 by dz)\n",
    "- q_s2: M by dz (100 by dz)\n",
    "- q_a2: M by dz (100 by dz)\n",
    "\n",
    "for calculating gradients by batch\n",
    "- q_h1: M by dm (100 by dm)\n",
    "- p_h2: M by L by dm (100 by 1 by dm)\n",
    "- z: M by L by dz (100 by 1 by dz)\n",
    "- eps: M by L by dz (100 by 1 by dz)"
   ]
  },
  {
   "cell_type": "markdown",
   "metadata": {},
   "source": [
    "## 3. Load Data"
   ]
  },
  {
   "cell_type": "code",
   "execution_count": 2,
   "metadata": {},
   "outputs": [
    {
     "name": "stderr",
     "output_type": "stream",
     "text": [
      "Using TensorFlow backend.\n"
     ]
    },
    {
     "name": "stdout",
     "output_type": "stream",
     "text": [
      "Train: X=(60000, 28, 28), y=(60000,)\n",
      "Test: X=(10000, 28, 28), y=(10000,)\n"
     ]
    }
   ],
   "source": [
    "# load dataset\n",
    "from keras.datasets import mnist\n",
    "import matplotlib.pyplot as plt\n",
    "\n",
    "(trainX, trainy), (testX, testy) = mnist.load_data()\n",
    "# summarize loaded dataset\n",
    "print('Train: X=%s, y=%s' % (trainX.shape, trainy.shape))\n",
    "print('Test: X=%s, y=%s' % (testX.shape, testy.shape))"
   ]
  },
  {
   "cell_type": "code",
   "execution_count": 3,
   "metadata": {},
   "outputs": [
    {
     "data": {
      "image/png": "[encoded data removed]",
      "text/plain": [
       "<Figure size 432x288 with 9 Axes>"
      ]
     },
     "metadata": {},
     "output_type": "display_data"
    }
   ],
   "source": [
    "# plot first few images\n",
    "for i in range(9):\n",
    "    # define subplot\n",
    "    plt.subplot(330 + 1 + i)\n",
    "    # plot raw pixel data\n",
    "    plt.imshow(trainX[i], cmap=plt.get_cmap('gray'))\n",
    "# show the figure\n",
    "plt.show()"
   ]
  },
  {
   "cell_type": "markdown",
   "metadata": {},
   "source": [
    "## 4. Baseline Codes"
   ]
  },
  {
   "cell_type": "code",
   "execution_count": 4,
   "metadata": {},
   "outputs": [],
   "source": [
    "# load packages\n",
    "import numpy as np\n",
    "import datetime\n",
    "import pytz\n",
    "import pickle"
   ]
  },
  {
   "cell_type": "markdown",
   "metadata": {},
   "source": [
    "### 4.1 Baseline Functions"
   ]
  },
  {
   "cell_type": "markdown",
   "metadata": {},
   "source": [
    "These are baseline version codes (model v0 in final report). Note that due to changes during optimization, some of the functions are not compatible with later/ final version of the codes."
   ]
  },
  {
   "cell_type": "code",
   "execution_count": 5,
   "metadata": {},
   "outputs": [],
   "source": [
    "def get_Batch(M, trainX, trainy):\n",
    "    \"\"\"randomly sample a mini batch of size M from the training data\"\"\"\n",
    "    \n",
    "    N = trainX.shape[0]\n",
    "    sample = np.random.choice(N,M)\n",
    "    \n",
    "    return trainX[sample], trainy[sample]\n",
    "\n",
    "def sigmoid(x):\n",
    "    \"\"\"sigmoid function\"\"\"\n",
    "    return 1/(1+np.exp(-x))\n",
    "\n",
    "def sigmoid_gradient(x):\n",
    "    \"\"\"gradient of sigmoid function\"\"\"\n",
    "    return x * (1-x)\n",
    "\n",
    "def tanh(x):\n",
    "    \"\"\"tanh function\"\"\"\n",
    "    return np.tanh(x)\n",
    "    \n",
    "def tanh_gradient(x):\n",
    "    \"\"\"gradient of tanh function\"\"\"\n",
    "    return 1-np.power(x,2)"
   ]
  },
  {
   "cell_type": "code",
   "execution_count": 6,
   "metadata": {},
   "outputs": [],
   "source": [
    "def init_random(dx, dm, dz, option = \"xavier\"):\n",
    "    \"\"\"\n",
    "    parameter initialization\n",
    "    xavier initialization for weights\n",
    "    all zero for bias\n",
    "    can be used to initialize all zero variables for ADAM by setting \"option = zeros\"\n",
    "    \"\"\"\n",
    "    \n",
    "    # weights initialization\n",
    "    if option == \"zeros\":\n",
    "        # only for variables in ADAM algorithm, not to be used for true model parameters\n",
    "        q_W1 = np.zeros((dm, dx))\n",
    "        p_W5 = np.zeros((dx, dm))\n",
    "        q_W2 = np.zeros((dz, dm))\n",
    "        q_W3 = np.zeros((dz, dm))\n",
    "        p_W4 = np.zeros((dm, dz))\n",
    "    elif option == \"xavier\":\n",
    "        bound = np.sqrt(6)/ np.sqrt(dx + dm)\n",
    "        q_W1 = np.random.uniform(-bound, bound, (dm, dx))\n",
    "        p_W5 = np.random.uniform(-bound, bound, (dx, dm))\n",
    "        bound = np.sqrt(6)/ np.sqrt(dm + dz)\n",
    "        q_W2 = np.random.uniform(-bound, bound, (dz, dm))\n",
    "        q_W3 = np.random.uniform(-bound, bound, (dz, dm))\n",
    "        p_W4 = np.random.uniform(-bound, bound, (dm, dz))\n",
    "    \n",
    "    # bias initialization\n",
    "    q_b1 = np.zeros((dm, 1))\n",
    "    p_b5 = np.zeros((dx, 1))\n",
    "    q_b2 = np.zeros((dz, 1))\n",
    "    q_b3 = np.zeros((dz, 1))\n",
    "    p_b4 = np.zeros((dm, 1))\n",
    "    \n",
    "    W = [q_W1, q_W2, q_W3, p_W4, p_W5]\n",
    "    b = [q_b1, q_b2, q_b3, p_b4, p_b5]\n",
    "    \n",
    "    return W, b"
   ]
  },
  {
   "cell_type": "code",
   "execution_count": 7,
   "metadata": {},
   "outputs": [],
   "source": [
    "def total_loss(X, y, q_a2, q_mu, q_s2):\n",
    "    \"\"\"target total loss function - to minimize\"\"\"\n",
    "    \n",
    "    M = X.shape[0]\n",
    "    L = y.shape[1]\n",
    "    \n",
    "    loss = 0\n",
    "    for iD in range(M):\n",
    "        for iL in range(L):\n",
    "            # reconstruction loss for each sample of latent variable\n",
    "            loss = loss - np.sum(X[iD,] * np.log(y[iD,iL,]) + (1-X[iD,]) * np.log(1-y[iD,iL,])) / L\n",
    "        \n",
    "        # KL divergence/ regularization\n",
    "        loss = loss + np.sum(np.power(q_mu[iD,],2) + q_s2[iD,] - q_a2[iD,] - 1)/2\n",
    "    \n",
    "    return loss / M"
   ]
  },
  {
   "cell_type": "code",
   "execution_count": 8,
   "metadata": {},
   "outputs": [],
   "source": [
    "def encoder_forward(X, W, b):\n",
    "    \"\"\"\n",
    "    encoder forward propagation for each data point\n",
    "    X: dx by 1\n",
    "    \"\"\"\n",
    "    \n",
    "    q_W1, q_W2, q_W3, d,d = W\n",
    "    q_b1, q_b2, q_b3, d,d = b\n",
    "    \n",
    "    q_a1 = q_W1 @ X + q_b1\n",
    "    q_h1 = tanh(q_a1)\n",
    "    q_mu = q_W2 @ q_h1 + q_b2\n",
    "    q_a2 = q_W3 @ q_h1 + q_b3\n",
    "    q_s2 = np.exp(q_a2)\n",
    "    \n",
    "    return q_h1.T, q_a2.T, q_mu.T, q_s2.T"
   ]
  },
  {
   "cell_type": "code",
   "execution_count": 9,
   "metadata": {},
   "outputs": [],
   "source": [
    "def sample_z(q_mu, q_s2, eps):\n",
    "    \"\"\"sample z\"\"\"\n",
    "    return q_mu + np.sqrt(q_s2) * eps"
   ]
  },
  {
   "cell_type": "code",
   "execution_count": 10,
   "metadata": {},
   "outputs": [],
   "source": [
    "def decoder_forward(W, b, z):\n",
    "    \"\"\"\n",
    "    decoder forward propagation for each data point and each sample latent variable\n",
    "    z: dz by 1\n",
    "    \"\"\"\n",
    "    \n",
    "    d,d,d, p_W4, p_W5 = W\n",
    "    d,d,d, p_b4, p_b5 = b\n",
    "    \n",
    "    p_a3 = p_W4 @ z + p_b4\n",
    "    p_h2 = tanh(p_a3)\n",
    "            \n",
    "    p_a4 = p_W5 @ p_h2 + p_b5\n",
    "    y = sigmoid(p_a4)\n",
    "    \n",
    "    return y.T, p_h2.T"
   ]
  },
  {
   "cell_type": "code",
   "execution_count": 11,
   "metadata": {},
   "outputs": [],
   "source": [
    "def grad(X, y, W, b, H, Lt):\n",
    "    \"\"\"\"\n",
    "    batch gradient\n",
    "    inputs:\n",
    "        X: M by dx\n",
    "        y: M by L by dx\n",
    "        W: weights\n",
    "        b: bias\n",
    "        H: q_h1 (M by dm), p_h2 (M by L by dm)\n",
    "        Lt: eps (L by dz), z (M by L by dz), q_s2 (M by dz), q_mu (M by dz)\n",
    "    \"\"\"\n",
    "    q_W1, q_W2, q_W3, p_W4, p_W5 = W\n",
    "    q_b1, q_b2, q_b3, p_b4, p_b5 = b\n",
    "    q_h1, p_h2 = H\n",
    "    q_mu, q_s2, z, eps = Lt\n",
    "    \n",
    "    M = X.shape[0]\n",
    "    L = y.shape[1]\n",
    "    \n",
    "    # initialize gradient variables\n",
    "    \n",
    "    # L: loss; R: regularization; J: total target\n",
    "    dL_dW1 = dJ_dW1 = dR_dW1 = np.zeros_like(q_W1)\n",
    "    dL_db1 = dJ_db1 = dR_db1 = np.zeros_like(q_b1)\n",
    "    dL_dW2 = dJ_dW2 = dR_dW2 = np.zeros_like(q_W2)\n",
    "    dL_db2 = dJ_db2 = dR_db2 = np.zeros_like(q_b2)\n",
    "    dL_dW3 = dJ_dW3 = dR_dW3 = np.zeros_like(q_W3)\n",
    "    dL_db3 = dJ_db3 = dR_db3 = np.zeros_like(q_b3)\n",
    "    dL_dW4 = dJ_dW4 = np.zeros_like(p_W4)\n",
    "    dL_db4 = dJ_db4 = np.zeros_like(p_b4)    \n",
    "    dL_dW5 = dJ_dW5 = np.zeros_like(p_W5)\n",
    "    dL_db5 = dJ_db5 = np.zeros_like(p_b5)\n",
    "    \n",
    "    for iD in range(M):\n",
    "        for iL in range(L):\n",
    "            # back propagation for loss\n",
    "\n",
    "            #L_d4 = (np.divide(y[iD,iL,]-X[iD,], y[iD,iL,] * (1-y[iD,iL,])) * sigmoid_gradient(y[iD,iL,])).reshape(-1,1)\n",
    "            \n",
    "            # simplied L_d4\n",
    "            L_d4 = (y[iD,iL,]-X[iD,]).reshape(-1,1)\n",
    "            dL_dW5 = dL_dW5 + L_d4 @ p_h2[iD,iL,].reshape(1,-1)\n",
    "            dL_db5 = dL_db5 + L_d4\n",
    "            \n",
    "            L_d3 = p_W5.T @ L_d4 * tanh_gradient(p_h2[iD,iL,]).reshape(-1,1)\n",
    "            dL_dW4 = dL_dW4 + L_d3 @ z[iD,iL,].reshape(1,-1)\n",
    "            dL_db4 = dL_db4 + L_d3\n",
    "            \n",
    "            L_d22 = p_W4.T @ L_d3 * eps[iL,].reshape(-1,1) * np.sqrt(q_s2[iD,]).reshape(-1,1) / 2\n",
    "            dL_dW3 = dL_dW3 + L_d22 @ q_h1[iD,].reshape(1,-1)\n",
    "            dL_db3 = dL_db3 + L_d22\n",
    "            \n",
    "            L_d21 = p_W4.T @ L_d3\n",
    "            dL_dW2 = dL_dW2 + L_d21 @ q_h1[iD,].reshape(1,-1)\n",
    "            dL_db2 = dL_db2 + L_d21\n",
    "            \n",
    "            L_d1 = (q_W2.T @ L_d21 + q_W3.T @ L_d22) * tanh_gradient(q_h1[iD,]).reshape(-1,1)\n",
    "            dL_dW1 = dL_dW1 + L_d1 @ X[iD,].reshape(1,-1)\n",
    "            dL_db1 = dL_db1 + L_d1\n",
    "        \n",
    "        # back propagation for regularization\n",
    "        R_d22 = ((q_s2[iD,]-1)/2).reshape(-1,1)\n",
    "        dR_dW3 = dR_dW3 + R_d22 @ q_h1[iD,].reshape(1,-1)\n",
    "        dR_db3 = dR_db3 + R_d22\n",
    "\n",
    "        R_d21 = q_mu[iD,].reshape(-1,1)\n",
    "        dR_dW2 = dR_dW2 + R_d21 @ q_h1[iD,].reshape(1,-1)\n",
    "        dR_db2 = dR_db2 + R_d21\n",
    "\n",
    "        R_d1 = (q_W3.T @ R_d22 + q_W2.T @ R_d21) * tanh_gradient(q_h1[iD,]).reshape(-1,1)\n",
    "        dR_dW1 = dR_dW1 + R_d1 @ X[iD,].reshape(1,-1)\n",
    "        dR_db1 = dR_db1 + R_d1\n",
    "    \n",
    "    dJ_dW1 = dL_dW1 / L / M + dR_dW1 / M\n",
    "    dJ_db1 = dL_db1 / L / M + dR_db1 / M\n",
    "    dJ_dW2 = dL_dW2 / L / M + dR_dW2 / M\n",
    "    dJ_db2 = dL_db2 / L / M + dR_db2 / M    \n",
    "    dJ_dW3 = dL_dW3 / L / M + dR_dW3 / M\n",
    "    dJ_db3 = dL_db3 / L / M + dR_db3 / M\n",
    "    dJ_dW4 = dL_dW4 / L / M\n",
    "    dJ_db4 = dL_db4 / L / M \n",
    "    dJ_dW5 = dL_dW5 / L / M\n",
    "    dJ_db5 = dL_db5 / L / M\n",
    "    \n",
    "    dW = [dJ_dW1, dJ_dW2, dJ_dW3, dJ_dW4, dJ_dW5]\n",
    "    db = [dJ_db1, dJ_db2, dJ_db3, dJ_db4, dJ_db5]\n",
    "    \n",
    "    return dW, db"
   ]
  },
  {
   "cell_type": "code",
   "execution_count": 12,
   "metadata": {},
   "outputs": [],
   "source": [
    "def batch_forward(Spec, X, W, b, eps):\n",
    "    \"\"\"forward propagation for one batch\"\"\"\n",
    "    d, M, L, d, d, dm, dz, d, d = Spec\n",
    "    \n",
    "    # initialize variables for calculating gradients/ loss by batch\n",
    "    q_h1 = np.zeros((M, dm))\n",
    "    q_mu = np.zeros((M, dz))\n",
    "    q_s2 = np.zeros((M, dz))\n",
    "    q_a2 = np.zeros((M, dz))\n",
    "    p_h2 = np.zeros((M, L, dm))\n",
    "    z = np.zeros((M, L, dz))\n",
    "    y = np.zeros((M, L, dx))\n",
    "    \n",
    "    for iD in range(M):\n",
    "        q_h1[iD,], q_a2[iD,], q_mu[iD,], q_s2[iD,] = encoder_forward(X[iD,].reshape(-1,1), W, b)\n",
    "\n",
    "        for iL in range(L):\n",
    "            z[iD,iL,] = sample_z(q_mu[iD,], q_s2[iD,], eps[iL,])\n",
    "            y[iD,iL,], p_h2[iD,iL,] = decoder_forward(W, b, z[iD,iL,].reshape(-1,1))\n",
    "    \n",
    "    H = [q_h1, p_h2]\n",
    "    Lt = [q_mu, q_s2, z, eps]\n",
    "    loss = total_loss(X, y, q_a2, q_mu, q_s2)\n",
    "    return y, H, Lt, loss"
   ]
  },
  {
   "cell_type": "code",
   "execution_count": 13,
   "metadata": {},
   "outputs": [],
   "source": [
    "def para_update(W, b, dW, db, alpha):\n",
    "    \"\"\"update weights and bias for gradient descent\"\"\"\n",
    "    \n",
    "    assert len(W) == len(b) == len(dW) == len(db)\n",
    "    n = len(W)\n",
    "    \n",
    "    for i in range(n):\n",
    "        W[i] = W[i] - alpha * dW[i]\n",
    "        b[i] = b[i] - alpha * db[i]\n",
    "    \n",
    "    return W, b"
   ]
  },
  {
   "cell_type": "code",
   "execution_count": 14,
   "metadata": {},
   "outputs": [],
   "source": [
    "def plot_samples(Spec, n, W, b):\n",
    "    \"\"\"plot n number of random sampled figures as well as the model-reconstructed versions\"\"\"\n",
    "    \n",
    "    d, d, L, std_const, dx, dm, dz, d, d = Spec\n",
    "    Spec[1] = n\n",
    "    \n",
    "    batchX, batchy = get_Batch(n, trainX, trainy)\n",
    "    Xdim1, Xdim2 = batchX[0].shape[0], batchX[0].shape[1]\n",
    "    assert dx == Xdim1 * Xdim2\n",
    "    X = batchX.reshape(n, dx) / std_const\n",
    "    eps = np.zeros((L, dz))\n",
    "    \n",
    "    y, d,d,d = batch_forward(Spec, X, W, b, eps)\n",
    "    \n",
    "    for i in range(n):\n",
    "        # define subplot\n",
    "        plt.subplot(330 + 1 + i)\n",
    "        # plot raw pixel data\n",
    "        plt.imshow(batchX[i], cmap=plt.get_cmap('gray'))\n",
    "    # show the figure\n",
    "    plt.show()\n",
    "    \n",
    "    for i in range(n):\n",
    "        # define subplot\n",
    "        plt.subplot(330 + 1 + i)\n",
    "        # plot raw pixel data\n",
    "        plt.imshow(y[i,L-1,].reshape(Xdim1, Xdim2) * std_const, cmap=plt.get_cmap('gray'))\n",
    "    # show the figure\n",
    "    plt.show()"
   ]
  },
  {
   "cell_type": "code",
   "execution_count": 15,
   "metadata": {},
   "outputs": [],
   "source": [
    "def train(trainX, trainy, Spec, grad, doc = \"\"):\n",
    "    \"\"\"train model with vanila gradient descent\"\"\"\n",
    "    nBatch, M, L, std_const, dx, dm, dz, alpha, nP = Spec\n",
    "    status_file = get_filename(\"status\")\n",
    "    para_file = get_filename(\"parameter\")\n",
    "    \n",
    "    # weights and bias initialization\n",
    "    W, b = init_random(dx, dm, dz)\n",
    "\n",
    "    # loss\n",
    "    loss = np.zeros(nBatch)\n",
    "    \n",
    "    # create status file\n",
    "    update_status(status_file, \"x\", \"Training starts: \" + get_timestamp() + \"\\n\")\n",
    "    \n",
    "    for iB in range(nBatch):\n",
    "        # sample a random batch\n",
    "        batchX, batchy = get_Batch(M, trainX, trainy)\n",
    "        X = batchX.reshape(M, dx) / std_const\n",
    "\n",
    "        # sample random noise for latent variable, assuming each batch uses the same random noise for now\n",
    "        eps = np.random.randn(L, dz)\n",
    "\n",
    "        y, H, Lt, loss[iB] = batch_forward(Spec, X, W, b, eps)\n",
    "\n",
    "        dW, db = grad(X, y, W, b, H, Lt)\n",
    "        W, b = para_update(W, b, dW, db, alpha)\n",
    "        \n",
    "        if (iB+1) % nP == 0:\n",
    "            # append status file\n",
    "            update_status(status_file, \"a\", \"Batch \" + str(iB+1) + \" : \" + get_timestamp() + \"\\n\")\n",
    "    \n",
    "    # save parameter to file\n",
    "    save_para(para_file, doc = doc, Spec = Spec, W = W, b = b, loss = loss)\n",
    "    \n",
    "    return Spec, W, b, loss"
   ]
  },
  {
   "cell_type": "markdown",
   "metadata": {},
   "source": [
    "### 4.2 Baseline Training"
   ]
  },
  {
   "cell_type": "markdown",
   "metadata": {},
   "source": [
    "Codes used to call baseline version functions for model training. Again due to later changes during optimization, some of these codes might not be compatible to later/ final version of the codes."
   ]
  },
  {
   "cell_type": "code",
   "execution_count": 16,
   "metadata": {},
   "outputs": [],
   "source": [
    "# set parameters\n",
    "nBatch = 60000 # number of mini-batch to train\n",
    "M = 100 # batch size\n",
    "L = 1 # sample size\n",
    "std_const = 255 # to standardize data\n",
    "\n",
    "Xdim1, Xdim2 = trainX[0].shape[0], trainX[0].shape[1]\n",
    "dx = Xdim1 * Xdim2 # dimension of the input\n",
    "dm = 500 # dimension of the hidden layer\n",
    "dz = 3 # dimension of latent variable\n",
    "\n",
    "alpha = 0.005 # learning rate\n",
    "\n",
    "nP = 1000 # print out status every nP batches\n",
    "\n",
    "Spec = [nBatch, M, L, std_const, dx, dm, dz, alpha, nP]"
   ]
  },
  {
   "cell_type": "markdown",
   "metadata": {},
   "source": [
    "Example codes to train using Model v0"
   ]
  },
  {
   "cell_type": "code",
   "execution_count": 17,
   "metadata": {},
   "outputs": [],
   "source": [
    "# Spec, W, b, loss = train(trainX, trainy, Spec, grad)"
   ]
  },
  {
   "cell_type": "markdown",
   "metadata": {},
   "source": [
    "### 4.3 Helper Functions"
   ]
  },
  {
   "cell_type": "markdown",
   "metadata": {},
   "source": [
    "These are functions used during model developments but not used in anyb way in the final version of the codes."
   ]
  },
  {
   "cell_type": "code",
   "execution_count": 18,
   "metadata": {},
   "outputs": [],
   "source": [
    "def save_para(filename, **kwargs):\n",
    "    \"\"\"save weights and bias parameters\"\"\"\n",
    "    file = open(filename, 'wb')\n",
    "    pickle.dump(kwargs, file)\n",
    "    file.close()\n",
    "\n",
    "def get_para(filename):\n",
    "    \"\"\"read parameters from file\"\"\"\n",
    "    file = open(filename, 'rb')\n",
    "    dict = pickle.load(file)\n",
    "    return dict\n",
    "\n",
    "def get_filename(suffix=\"\", format = \"%Y_%m_%d_%H_%M_%S\", ext = \".txt\"):\n",
    "    \"\"\"create file name\"\"\"\n",
    "    if suffix != \"\":\n",
    "        suffix = \"_\" + suffix\n",
    "    res = get_timestamp(format = format) + \"_Model_\" + Model_version + suffix + ext\n",
    "    return res\n",
    "\n",
    "def update_status(filename, mode, msg):\n",
    "    \"\"\"for training status update\"\"\"\n",
    "    with open(filename, mode) as f:\n",
    "        f.write(msg)\n",
    "        \n",
    "def get_timestamp(timezone = \"America/New_York\", format = \"%Y/%m/%d %H:%M:%S\"):\n",
    "    \"\"\"formatted date time in local timezone\"\"\"\n",
    "    now = datetime.datetime.now().astimezone(pytz.timezone(\"America/New_York\"))\n",
    "    return now.strftime(format)"
   ]
  },
  {
   "cell_type": "markdown",
   "metadata": {},
   "source": [
    "Example codes to save model parameters after model run."
   ]
  },
  {
   "cell_type": "code",
   "execution_count": 19,
   "metadata": {},
   "outputs": [],
   "source": [
    "#doc = \"\"\"Second run using ADAM.\"\"\"\n",
    "\n",
    "#filename = get_filename(\"parameter\")\n",
    "#save_para(filename, doc = doc, Spec = Spec, W = W, b = b, loss = loss)"
   ]
  },
  {
   "cell_type": "markdown",
   "metadata": {},
   "source": [
    "Example codes to read back parameters."
   ]
  },
  {
   "cell_type": "code",
   "execution_count": 20,
   "metadata": {},
   "outputs": [],
   "source": [
    "# filename = \"2020_04_24_15_25_12_Model_v1.1_parameter.txt\"\n",
    "# para = get_para(filename)\n",
    "# doc = para['doc']\n",
    "# W = para['W']\n",
    "# b = para['b']"
   ]
  },
  {
   "cell_type": "markdown",
   "metadata": {},
   "source": [
    "Example codes ro continue training using existing parameters (only applies to model version after v1)"
   ]
  },
  {
   "cell_type": "code",
   "execution_count": 21,
   "metadata": {},
   "outputs": [],
   "source": [
    "# Spec, W, b, loss = train_ADAM(trainX, trainy, Spec, grad, W = W, b = b, doc = \"continue run from 2020_04_24_15_25_12 parameter\")"
   ]
  },
  {
   "cell_type": "markdown",
   "metadata": {},
   "source": [
    "Example codes to plot a few samples"
   ]
  },
  {
   "cell_type": "code",
   "execution_count": 22,
   "metadata": {},
   "outputs": [],
   "source": [
    "# plot_samples(Spec, 9, W, b)"
   ]
  },
  {
   "cell_type": "markdown",
   "metadata": {},
   "source": [
    "Example codes to plot loss returned by the model."
   ]
  },
  {
   "cell_type": "code",
   "execution_count": 23,
   "metadata": {},
   "outputs": [],
   "source": [
    "# plt.plot(loss);"
   ]
  },
  {
   "cell_type": "markdown",
   "metadata": {},
   "source": [
    "## 5. Optimization -- Algorithm"
   ]
  },
  {
   "cell_type": "markdown",
   "metadata": {},
   "source": [
    "These are codes for the first implementation of ADAM algorithm (Model v1 in the final report)."
   ]
  },
  {
   "cell_type": "code",
   "execution_count": 24,
   "metadata": {},
   "outputs": [],
   "source": [
    "def train_ADAM(trainX, trainy, Spec, batch_forward, grad, W = \"\", b = \"\", doc = \"\"):\n",
    "    \"\"\"train model with ADAM\"\"\"\n",
    "    \n",
    "    nBatch, M, L, std_const, dx, dm, dz, alpha, nP = Spec\n",
    "    \n",
    "    if doc != \"\":\n",
    "        status_file = get_filename(\"status\")\n",
    "        para_file = get_filename(\"parameter\")\n",
    "        update_status(status_file, \"x\", \"Training starts: \" + get_timestamp() + \"\\n\")\n",
    "    \n",
    "    # parameters for ADAM algorithm\n",
    "    beta1 = 0.9\n",
    "    beta2 = 0.999\n",
    "    eps_stable = 1e-8\n",
    "    \n",
    "    # initiate parameters for ADAM\n",
    "    # need to use separate lines of codes otherwise they share the same reference\n",
    "    v_dW, v_db = init_random(dx, dm, dz, option = \"zeros\")\n",
    "    s_dW, s_db = init_random(dx, dm, dz, option = \"zeros\")\n",
    "    vc_dW, vc_db = init_random(dx, dm, dz, option = \"zeros\")\n",
    "    sc_dW, sc_db = init_random(dx, dm, dz, option = \"zeros\")\n",
    "    num_para = len(v_dW)\n",
    "    \n",
    "    # weights and bias initialization\n",
    "    if len(W) == len(b) == 0:\n",
    "        W, b = init_random(dx, dm, dz)\n",
    "\n",
    "    # loss\n",
    "    loss = np.zeros(nBatch)\n",
    "    \n",
    "    for iB in range(nBatch):\n",
    "        # sample a random batch\n",
    "        batchX, batchy = get_Batch(M, trainX, trainy)\n",
    "        X = batchX.reshape(M, dx) / std_const\n",
    "\n",
    "        # sample random noise for latent variable, assuming each batch uses the same random noise for now\n",
    "        eps = np.random.randn(L, dz)\n",
    "\n",
    "        y, H, Lt, loss[iB] = batch_forward(Spec, X, W, b, eps)\n",
    "        dW, db = grad(X, y, W, b, H, Lt)\n",
    "        \n",
    "        # ADAM\n",
    "        for i in range(num_para):\n",
    "            v_dW[i] = beta1*v_dW[i] + (1-beta1)*dW[i]\n",
    "            v_db[i] = beta1*v_db[i] + (1-beta1)*db[i]\n",
    "            s_dW[i] = beta2*s_dW[i] + (1-beta2)*np.power(dW[i],2)\n",
    "            s_db[i] = beta2*s_db[i] + (1-beta2)*np.power(db[i],2)\n",
    "        \n",
    "            vc_dW[i] = v_dW[i]/(1-beta1**(iB+1))\n",
    "            vc_db[i] = v_db[i]/(1-beta1**(iB+1))\n",
    "            sc_dW[i] = s_dW[i]/(1-beta2**(iB+1))\n",
    "            sc_db[i] = s_db[i]/(1-beta2**(iB+1))\n",
    "        \n",
    "            dW[i] = vc_dW[i] / (np.sqrt(sc_dW[i]) + eps_stable)\n",
    "            db[i] = vc_db[i] / (np.sqrt(sc_db[i]) + eps_stable)\n",
    "        \n",
    "        W, b = para_update(W, b, dW, db, alpha)\n",
    "        \n",
    "        if doc != \"\":\n",
    "            if (iB+1) % nP == 0:\n",
    "                # append status file\n",
    "                update_status(status_file, \"a\", \"Batch \" + str(iB+1) + \" : \" + get_timestamp() + \"\\n\")\n",
    "    \n",
    "    # save parameter to file\n",
    "    if doc != \"\":\n",
    "        save_para(para_file, doc = doc, Spec = Spec, W = W, b = b, loss = loss)\n",
    "\n",
    "    return Spec, W, b, loss"
   ]
  },
  {
   "cell_type": "markdown",
   "metadata": {},
   "source": [
    "## 6. Profiling"
   ]
  },
  {
   "cell_type": "markdown",
   "metadata": {},
   "source": [
    "We did profiling on Model v1, i.e., baseline codes with ADAM algorithm."
   ]
  },
  {
   "cell_type": "code",
   "execution_count": 25,
   "metadata": {},
   "outputs": [],
   "source": [
    "import pstats"
   ]
  },
  {
   "cell_type": "markdown",
   "metadata": {},
   "source": [
    "Example codes to create profiling file name, change batch size to 100 and proceed with profiling."
   ]
  },
  {
   "cell_type": "code",
   "execution_count": 26,
   "metadata": {},
   "outputs": [],
   "source": [
    "# profile_filename = get_filename(\"profiling\", ext = \".prof\")\n",
    "# Spec = [100, M, L, std_const, dx, dm, dz, alpha, 10]"
   ]
  },
  {
   "cell_type": "code",
   "execution_count": 27,
   "metadata": {},
   "outputs": [],
   "source": [
    "# %prun -q -D $profile_filename train_ADAM(trainX, trainy, Spec, grad_nb, doc = \"Profiling grad_nb\")"
   ]
  },
  {
   "cell_type": "markdown",
   "metadata": {},
   "source": [
    "Example codes to print all the statistics (random order)"
   ]
  },
  {
   "cell_type": "code",
   "execution_count": 28,
   "metadata": {},
   "outputs": [],
   "source": [
    "# p = pstats.Stats(profile_filename)\n",
    "# p.print_stats()\n",
    "# pass"
   ]
  },
  {
   "cell_type": "markdown",
   "metadata": {},
   "source": [
    "Example codes to get statistics sorted by run time. Note that we can specify the specific function to look at by changing inputs in \"print_stats\"."
   ]
  },
  {
   "cell_type": "code",
   "execution_count": 29,
   "metadata": {},
   "outputs": [],
   "source": [
    "# p.sort_stats('time', 'cumulative').print_stats(5)\n",
    "# pass"
   ]
  },
  {
   "cell_type": "code",
   "execution_count": 30,
   "metadata": {},
   "outputs": [],
   "source": [
    "# p.sort_stats('time', 'cumulative').print_stats('grad')\n",
    "# pass"
   ]
  },
  {
   "cell_type": "markdown",
   "metadata": {},
   "source": [
    "Example codes for statistics sorted by number of calls."
   ]
  },
  {
   "cell_type": "code",
   "execution_count": 31,
   "metadata": {},
   "outputs": [],
   "source": [
    "# p.sort_stats('ncalls').print_stats(5)\n",
    "# pass"
   ]
  },
  {
   "cell_type": "markdown",
   "metadata": {},
   "source": [
    "## 7. Optimization"
   ]
  },
  {
   "cell_type": "code",
   "execution_count": 32,
   "metadata": {},
   "outputs": [],
   "source": [
    "import numba\n",
    "from numba import jit, njit"
   ]
  },
  {
   "cell_type": "code",
   "execution_count": 33,
   "metadata": {},
   "outputs": [],
   "source": [
    "from numba.errors import NumbaDeprecationWarning, NumbaPendingDeprecationWarning\n",
    "import warnings\n",
    "\n",
    "warnings.simplefilter('ignore', category=NumbaDeprecationWarning)\n",
    "warnings.simplefilter('ignore', category=NumbaPendingDeprecationWarning)"
   ]
  },
  {
   "cell_type": "markdown",
   "metadata": {},
   "source": [
    "### 7.1 Minimalist\n",
    "\n",
    "This version is to try to use minimal efforts to speed up (denoted as model v1.5 because it is in between model v1 and v2 referenced by the final report). The goal here is to try make minimal changes to the codes and use numba jit.\n",
    "\n",
    "Naming convension:\n",
    "    - functions which I enviziege will only have one version of numba implementation are named with suffix \"_nb\".\n",
    "    - functions which I realize I'll try other versions of numba implementations (in order to use nopython) are named with suffix \"_nb1\".\n",
    "    \n",
    "Here we try to use *nopython* as much as possible. However, because of the use of heterogeneous lists in the codes for passing parameters, a number of functions can only be jitted under object mode."
   ]
  },
  {
   "cell_type": "markdown",
   "metadata": {},
   "source": [
    "#### 7.1.1 Model v1.5 Codes"
   ]
  },
  {
   "cell_type": "code",
   "execution_count": 34,
   "metadata": {},
   "outputs": [],
   "source": [
    "sigmoid_nb = jit(sigmoid, nopython=True, cache=True)\n",
    "sigmoid_gradient_nb = jit(sigmoid_gradient, nopython=True, cache=True)\n",
    "tanh_nb = jit(tanh, nopython=True, cache=True)\n",
    "tanh_gradient_nb = jit(tanh_gradient, nopython=True, cache=True)\n",
    "total_loss_nb = jit(total_loss, nopython=True, cache=True)\n",
    "sample_z_nb = jit(sample_z, nopython=True, cache=True)"
   ]
  },
  {
   "cell_type": "code",
   "execution_count": 35,
   "metadata": {},
   "outputs": [],
   "source": [
    "@njit(cache=True)\n",
    "def encoder_forward_nb1(X, W, b):\n",
    "    \"\"\"\n",
    "    encoder forward propagation for each data point\n",
    "    X: dx by 1\n",
    "    \"\"\"\n",
    "    \n",
    "    q_W1, q_W2, q_W3, d,d = W\n",
    "    q_b1, q_b2, q_b3, d,d = b\n",
    "    \n",
    "    q_a1 = q_W1 @ X + q_b1\n",
    "    q_h1 = tanh_nb(q_a1)\n",
    "    q_mu = q_W2 @ q_h1 + q_b2\n",
    "    q_a2 = q_W3 @ q_h1 + q_b3\n",
    "    q_s2 = np.exp(q_a2)\n",
    "    \n",
    "    return q_h1.T, q_a2.T, q_mu.T, q_s2.T"
   ]
  },
  {
   "cell_type": "code",
   "execution_count": 36,
   "metadata": {},
   "outputs": [],
   "source": [
    "@njit(cache=True)\n",
    "def decoder_forward_nb1(W, b, z):\n",
    "    \"\"\"\n",
    "    decoder forward propagation for each data point and each sample latent variable\n",
    "    z: dz by 1\n",
    "    \"\"\"\n",
    "    \n",
    "    d,d,d, p_W4, p_W5 = W\n",
    "    d,d,d, p_b4, p_b5 = b\n",
    "    \n",
    "    p_a3 = p_W4 @ z + p_b4\n",
    "    p_h2 = tanh_nb(p_a3)\n",
    "            \n",
    "    p_a4 = p_W5 @ p_h2 + p_b5\n",
    "    y = sigmoid_nb(p_a4)\n",
    "    \n",
    "    return y.T, p_h2.T"
   ]
  },
  {
   "cell_type": "code",
   "execution_count": 37,
   "metadata": {},
   "outputs": [],
   "source": [
    "@jit(cache=True)\n",
    "def batch_forward_nb1(Spec, X, W, b, eps):\n",
    "    \"\"\"forward propagation for one batch\"\"\"\n",
    "    d, M, L, d, d, dm, dz, d, d = Spec\n",
    "    \n",
    "    # initialize variables for calculating gradients/ loss by batch\n",
    "    q_h1 = np.zeros((M, dm))\n",
    "    q_mu = np.zeros((M, dz))\n",
    "    q_s2 = np.zeros((M, dz))\n",
    "    q_a2 = np.zeros((M, dz))\n",
    "    p_h2 = np.zeros((M, L, dm))\n",
    "    z = np.zeros((M, L, dz))\n",
    "    y = np.zeros((M, L, dx))\n",
    "    \n",
    "    for iD in range(M):\n",
    "        q_h1[iD,], q_a2[iD,], q_mu[iD,], q_s2[iD,] = encoder_forward_nb1(X[iD,].reshape(-1,1), W, b)\n",
    "\n",
    "        for iL in range(L):\n",
    "            z[iD,iL,] = sample_z_nb(q_mu[iD,], q_s2[iD,], eps[iL,])\n",
    "            y[iD,iL,], p_h2[iD,iL,] = decoder_forward_nb1(W, b, z[iD,iL,].reshape(-1,1))\n",
    "    \n",
    "    H = [q_h1, p_h2]\n",
    "    Lt = [q_mu, q_s2, z, eps]\n",
    "    loss = total_loss_nb(X, y, q_a2, q_mu, q_s2)\n",
    "    return (y, H, Lt, loss)"
   ]
  },
  {
   "cell_type": "code",
   "execution_count": 38,
   "metadata": {},
   "outputs": [],
   "source": [
    "@jit(cache=True)\n",
    "def grad_nb1(X, y, W, b, H, Lt):\n",
    "    \"\"\"\"\n",
    "    batch gradient\n",
    "    inputs:\n",
    "        X: M by dx\n",
    "        y: M by L by dx\n",
    "        W: weights\n",
    "        b: bias\n",
    "        H: q_h1 (M by dm), p_h2 (M by L by dm)\n",
    "        Lt: eps (L by dz), z (M by L by dz), q_s2 (M by dz), q_mu (M by dz)\n",
    "    \"\"\"\n",
    "    q_W1, q_W2, q_W3, p_W4, p_W5 = W\n",
    "    q_b1, q_b2, q_b3, p_b4, p_b5 = b\n",
    "    q_h1, p_h2 = H\n",
    "    q_mu, q_s2, z, eps = Lt\n",
    "    \n",
    "    M = X.shape[0]\n",
    "    L = y.shape[1]\n",
    "    \n",
    "    # initialize gradient variables\n",
    "    \n",
    "    # L: loss; R: regularization; J: total target\n",
    "    dL_dW1 = dJ_dW1 = dR_dW1 = np.zeros_like(q_W1)\n",
    "    dL_db1 = dJ_db1 = dR_db1 = np.zeros_like(q_b1)\n",
    "    dL_dW2 = dJ_dW2 = dR_dW2 = np.zeros_like(q_W2)\n",
    "    dL_db2 = dJ_db2 = dR_db2 = np.zeros_like(q_b2)\n",
    "    dL_dW3 = dJ_dW3 = dR_dW3 = np.zeros_like(q_W3)\n",
    "    dL_db3 = dJ_db3 = dR_db3 = np.zeros_like(q_b3)\n",
    "    dL_dW4 = dJ_dW4 = np.zeros_like(p_W4)\n",
    "    dL_db4 = dJ_db4 = np.zeros_like(p_b4)    \n",
    "    dL_dW5 = dJ_dW5 = np.zeros_like(p_W5)\n",
    "    dL_db5 = dJ_db5 = np.zeros_like(p_b5)\n",
    "    \n",
    "    for iD in range(M):\n",
    "        for iL in range(L):\n",
    "            # back propagation for loss\n",
    "\n",
    "            #L_d4 = (np.divide(y[iD,iL,]-X[iD,], y[iD,iL,] * (1-y[iD,iL,])) * sigmoid_gradient(y[iD,iL,])).reshape(-1,1)\n",
    "            \n",
    "            # simplied L_d4\n",
    "            L_d4 = (y[iD,iL,]-X[iD,]).reshape(-1,1)\n",
    "            dL_dW5 = dL_dW5 + L_d4 @ p_h2[iD,iL,].reshape(1,-1)\n",
    "            dL_db5 = dL_db5 + L_d4\n",
    "            \n",
    "            L_d3 = p_W5.T @ L_d4 * tanh_gradient_nb(p_h2[iD,iL,]).reshape(-1,1)\n",
    "            dL_dW4 = dL_dW4 + L_d3 @ z[iD,iL,].reshape(1,-1)\n",
    "            dL_db4 = dL_db4 + L_d3\n",
    "            \n",
    "            L_d22 = p_W4.T @ L_d3 * eps[iL,].reshape(-1,1) * np.sqrt(q_s2[iD,]).reshape(-1,1) / 2\n",
    "            dL_dW3 = dL_dW3 + L_d22 @ q_h1[iD,].reshape(1,-1)\n",
    "            dL_db3 = dL_db3 + L_d22\n",
    "            \n",
    "            L_d21 = p_W4.T @ L_d3\n",
    "            dL_dW2 = dL_dW2 + L_d21 @ q_h1[iD,].reshape(1,-1)\n",
    "            dL_db2 = dL_db2 + L_d21\n",
    "            \n",
    "            L_d1 = (q_W2.T @ L_d21 + q_W3.T @ L_d22) * tanh_gradient_nb(q_h1[iD,]).reshape(-1,1)\n",
    "            dL_dW1 = dL_dW1 + L_d1 @ X[iD,].reshape(1,-1)\n",
    "            dL_db1 = dL_db1 + L_d1\n",
    "        \n",
    "        # back propagation for regularization\n",
    "        R_d22 = ((q_s2[iD,]-1)/2).reshape(-1,1)\n",
    "        dR_dW3 = dR_dW3 + R_d22 @ q_h1[iD,].reshape(1,-1)\n",
    "        dR_db3 = dR_db3 + R_d22\n",
    "\n",
    "        R_d21 = q_mu[iD,].reshape(-1,1)\n",
    "        dR_dW2 = dR_dW2 + R_d21 @ q_h1[iD,].reshape(1,-1)\n",
    "        dR_db2 = dR_db2 + R_d21\n",
    "\n",
    "        R_d1 = (q_W3.T @ R_d22 + q_W2.T @ R_d21) * tanh_gradient_nb(q_h1[iD,]).reshape(-1,1)\n",
    "        dR_dW1 = dR_dW1 + R_d1 @ X[iD,].reshape(1,-1)\n",
    "        dR_db1 = dR_db1 + R_d1\n",
    "    \n",
    "    dJ_dW1 = dL_dW1 / L / M + dR_dW1 / M\n",
    "    dJ_db1 = dL_db1 / L / M + dR_db1 / M\n",
    "    dJ_dW2 = dL_dW2 / L / M + dR_dW2 / M\n",
    "    dJ_db2 = dL_db2 / L / M + dR_db2 / M    \n",
    "    dJ_dW3 = dL_dW3 / L / M + dR_dW3 / M\n",
    "    dJ_db3 = dL_db3 / L / M + dR_db3 / M\n",
    "    dJ_dW4 = dL_dW4 / L / M\n",
    "    dJ_db4 = dL_db4 / L / M \n",
    "    dJ_dW5 = dL_dW5 / L / M\n",
    "    dJ_db5 = dL_db5 / L / M\n",
    "    \n",
    "    dW = [dJ_dW1, dJ_dW2, dJ_dW3, dJ_dW4, dJ_dW5]\n",
    "    db = [dJ_db1, dJ_db2, dJ_db3, dJ_db4, dJ_db5]\n",
    "    \n",
    "    return dW, db"
   ]
  },
  {
   "cell_type": "code",
   "execution_count": 39,
   "metadata": {},
   "outputs": [],
   "source": [
    "@jit\n",
    "def train_ADAM_nb1(trainX, trainy, Spec, batch_forward, grad, W = \"\", b = \"\"):\n",
    "    \"\"\"train model with ADAM\"\"\"\n",
    "    \n",
    "    nBatch, M, L, std_const, dx, dm, dz, alpha, nP = Spec\n",
    "    \n",
    "    # parameters for ADAM algorithm\n",
    "    beta1 = 0.9\n",
    "    beta2 = 0.999\n",
    "    eps_stable = 1e-8\n",
    "    \n",
    "    # initiate parameters for ADAM\n",
    "    # need to use separate lines of codes otherwise they share the same reference\n",
    "    v_dW, v_db = init_random(dx, dm, dz, option = \"zeros\")\n",
    "    s_dW, s_db = init_random(dx, dm, dz, option = \"zeros\")\n",
    "    vc_dW, vc_db = init_random(dx, dm, dz, option = \"zeros\")\n",
    "    sc_dW, sc_db = init_random(dx, dm, dz, option = \"zeros\")\n",
    "    num_para = len(v_dW)\n",
    "    \n",
    "    # weights and bias initialization\n",
    "    if len(W) == len(b) == 0:\n",
    "        W, b = init_random(dx, dm, dz)\n",
    "\n",
    "    # loss\n",
    "    loss = np.zeros(nBatch)\n",
    "    \n",
    "    for iB in range(nBatch):\n",
    "        # sample a random batch\n",
    "        batchX, batchy = get_Batch(M, trainX, trainy)\n",
    "        X = batchX.reshape(M, dx) / std_const\n",
    "\n",
    "        # sample random noise for latent variable, assuming each batch uses the same random noise for now\n",
    "        eps = np.random.randn(L, dz)\n",
    "\n",
    "        y, H, Lt, loss[iB] = batch_forward(Spec, X, W, b, eps)\n",
    "        dW, db = grad(X, y, W, b, H, Lt)\n",
    "        \n",
    "        # ADAM\n",
    "        for i in range(num_para):\n",
    "            v_dW[i] = beta1*v_dW[i] + (1-beta1)*dW[i]\n",
    "            v_db[i] = beta1*v_db[i] + (1-beta1)*db[i]\n",
    "            s_dW[i] = beta2*s_dW[i] + (1-beta2)*np.power(dW[i],2)\n",
    "            s_db[i] = beta2*s_db[i] + (1-beta2)*np.power(db[i],2)\n",
    "        \n",
    "            vc_dW[i] = v_dW[i]/(1-beta1**(iB+1))\n",
    "            vc_db[i] = v_db[i]/(1-beta1**(iB+1))\n",
    "            sc_dW[i] = s_dW[i]/(1-beta2**(iB+1))\n",
    "            sc_db[i] = s_db[i]/(1-beta2**(iB+1))\n",
    "        \n",
    "            dW[i] = vc_dW[i] / (np.sqrt(sc_dW[i]) + eps_stable)\n",
    "            db[i] = vc_db[i] / (np.sqrt(sc_db[i]) + eps_stable)\n",
    "        \n",
    "        W, b = para_update(W, b, dW, db, alpha)\n",
    "\n",
    "    return Spec, W, b, loss"
   ]
  },
  {
   "cell_type": "markdown",
   "metadata": {},
   "source": [
    "#### 7.1.2 Model v1.5 Profiling"
   ]
  },
  {
   "cell_type": "markdown",
   "metadata": {},
   "source": [
    "The following are codes used for profiling. Currently comma out for documentation"
   ]
  },
  {
   "cell_type": "code",
   "execution_count": 40,
   "metadata": {},
   "outputs": [],
   "source": [
    "# profile_filename = get_filename(\"profiling_v1\", ext = \".prof\")\n",
    "# Spec = [100, M, L, std_const, dx, dm, dz, alpha, 10]"
   ]
  },
  {
   "cell_type": "code",
   "execution_count": 41,
   "metadata": {},
   "outputs": [],
   "source": [
    "#%prun -q -D $profile_filename train_ADAM_nb1(trainX, \\\n",
    "#                                         trainy, Spec, batch_forward_nb1, grad_nb1, doc = \"Optimization v1\")"
   ]
  },
  {
   "cell_type": "code",
   "execution_count": 42,
   "metadata": {},
   "outputs": [],
   "source": [
    "# p = pstats.Stats(profile_filename)\n",
    "# p.sort_stats('time', 'cumulative').print_stats(5)\n",
    "# pass"
   ]
  },
  {
   "cell_type": "markdown",
   "metadata": {},
   "source": [
    "### 7.2 Vectorization\n",
    "\n",
    "In this version (Model v2 in the final report), we remove at least the inner loop through vectorization. We first tried to remove the inner loop in the Model v2, i.e., loop for latent variable samples. But soon we realized that since most of the time we only sample $1$ latent variable, removing this loop does not give us much speed up. Therefore we did a second version of vectorization (refer to *grad_vec2*) by removing the loop on sample data and keeping the loop for latent variable sampling. We decided to still keep one layer of looping to ensure calculations do not involve 3-D arrays so as to fully utilize numba later. And because we expect most of the time users will be using $L=1$, keeping the outer loop will not much affect code performance.\n",
    "\n",
    "Note the following:\n",
    "\n",
    "1. part of this version uses the functions already jitted in Model v3, but the main functions (e.g., *batch_forward* and *grad*) are not jitted.\n",
    "2. somehow jit does not work on *grad_vec* even for object mode with error message *\"can't unbox heterogeneous list: array(float64, 2d, C) != array(float64, 3d, C)\".*"
   ]
  },
  {
   "cell_type": "markdown",
   "metadata": {},
   "source": [
    "#### 7.2.1 Model v2 Codes"
   ]
  },
  {
   "cell_type": "code",
   "execution_count": 43,
   "metadata": {},
   "outputs": [],
   "source": [
    "def encoder_forward_vec(X, W, b):\n",
    "    \"\"\"\n",
    "    encoder forward propagation - vectorized version\n",
    "    X: M by dx\n",
    "    q_h1.T: M by dm\n",
    "    q_a2.T: M by dz\n",
    "    q_mu.T: M by dz\n",
    "    q_s2.T: M by dz\n",
    "    \n",
    "    \"\"\"\n",
    "    \n",
    "    q_W1, q_W2, q_W3, d,d = W\n",
    "    q_b1, q_b2, q_b3, d,d = b\n",
    "    \n",
    "    q_a1 = q_W1 @ X.T + q_b1 # dm by M\n",
    "    q_h1 = tanh_nb(q_a1) # dm by M\n",
    "    q_mu = q_W2 @ q_h1 + q_b2 # dz by M\n",
    "    q_a2 = q_W3 @ q_h1 + q_b3 # dz by M\n",
    "    q_s2 = np.exp(q_a2) # dz by M\n",
    "    \n",
    "    return q_h1.T, q_a2.T, q_mu.T, q_s2.T"
   ]
  },
  {
   "cell_type": "code",
   "execution_count": 44,
   "metadata": {},
   "outputs": [],
   "source": [
    "def sample_z_vec(q_mu, q_s2, eps):\n",
    "    \"\"\"sample latent variable z - vectorized version\"\"\"\n",
    "    \n",
    "    M, dz = q_mu.shape \n",
    "\n",
    "    return q_mu.reshape(M,1,dz) + np.sqrt(q_s2).reshape(M,1,dz) * eps"
   ]
  },
  {
   "cell_type": "code",
   "execution_count": 45,
   "metadata": {},
   "outputs": [],
   "source": [
    "def decoder_forward_vec(W, b, z):\n",
    "    \"\"\"\n",
    "    decoder forward propagation - vectorized version\n",
    "    z: M by L by dz\n",
    "    \"\"\"\n",
    "    \n",
    "    d,d,d, p_W4, p_W5 = W\n",
    "    d,d,d, p_b4, p_b5 = b\n",
    "    \n",
    "    p_a3 = z @ p_W4.T + p_b4.T # M by L by dm\n",
    "    p_h2 = tanh_nb(p_a3) # M by L by dm\n",
    "            \n",
    "    p_a4 = p_h2 @ p_W5.T + p_b5.T # M by L by dx\n",
    "    y = sigmoid_nb(p_a4) # M by L by dx\n",
    "    \n",
    "    return y, p_h2"
   ]
  },
  {
   "cell_type": "code",
   "execution_count": 46,
   "metadata": {},
   "outputs": [],
   "source": [
    "def batch_forward_vec(Spec, X, W, b, eps):\n",
    "    \"\"\"forward propagation for one batch - vectorized version\"\"\"\n",
    "    d, M, L, d, d, dm, dz, d, d = Spec\n",
    "    \n",
    "    # initialize variables for calculating gradients/ loss by batch\n",
    "    p_h2 = np.zeros((M, L, dm))\n",
    "    z = np.zeros((M, L, dz))\n",
    "    y = np.zeros((M, L, dx))\n",
    "    \n",
    "    q_h1, q_a2, q_mu, q_s2 = encoder_forward_vec(X, W, b)\n",
    "    z = sample_z_vec(q_mu, q_s2, eps)\n",
    "    y, p_h2 = decoder_forward_vec(W, b, z)\n",
    "    \n",
    "    H = [q_h1, p_h2]\n",
    "    Lt = [q_mu, q_s2, z, eps]\n",
    "    loss = total_loss_vec(X, y, q_a2, q_mu, q_s2)\n",
    "    \n",
    "    return (y, H, Lt, loss)"
   ]
  },
  {
   "cell_type": "code",
   "execution_count": 47,
   "metadata": {},
   "outputs": [],
   "source": [
    "def grad_vec(X, y, W, b, H, Lt):\n",
    "    \"\"\"\"\n",
    "    batch gradient\n",
    "    inputs:\n",
    "        X: M by dx\n",
    "        y: M by L by dx\n",
    "        W: weights\n",
    "        b: bias\n",
    "        H: q_h1 (M by dm), p_h2 (M by L by dm)\n",
    "        Lt: eps (L by dz), z (M by L by dz), q_s2 (M by dz), q_mu (M by dz)\n",
    "    \"\"\"\n",
    "    q_W1, q_W2, q_W3, p_W4, p_W5 = W\n",
    "    q_b1, q_b2, q_b3, p_b4, p_b5 = b\n",
    "    q_h1, p_h2 = H\n",
    "    q_mu, q_s2, z, eps = Lt\n",
    "    \n",
    "    M = X.shape[0]\n",
    "    L = y.shape[1]\n",
    "    \n",
    "    # initialize gradient variables\n",
    "    \n",
    "    # L: loss; R: regularization; J: total target\n",
    "    dL_dW1 = dJ_dW1 = dR_dW1 = np.zeros_like(q_W1)\n",
    "    dL_db1 = dJ_db1 = dR_db1 = np.zeros_like(q_b1)\n",
    "    dL_dW2 = dJ_dW2 = dR_dW2 = np.zeros_like(q_W2)\n",
    "    dL_db2 = dJ_db2 = dR_db2 = np.zeros_like(q_b2)\n",
    "    dL_dW3 = dJ_dW3 = dR_dW3 = np.zeros_like(q_W3)\n",
    "    dL_db3 = dJ_db3 = dR_db3 = np.zeros_like(q_b3)\n",
    "    dL_dW4 = dJ_dW4 = np.zeros_like(p_W4)\n",
    "    dL_db4 = dJ_db4 = np.zeros_like(p_b4)    \n",
    "    dL_dW5 = dJ_dW5 = np.zeros_like(p_W5)\n",
    "    dL_db5 = dJ_db5 = np.zeros_like(p_b5)\n",
    "    \n",
    "    for iD in range(M):\n",
    "        \n",
    "        # back propagation for loss\n",
    "        L_d4 = y[iD,] - X[iD,].reshape(1,-1) # L by dx\n",
    "        dL_dW5 = dL_dW5 + L_d4.T @ p_h2[iD,] # dx by dm\n",
    "        dL_db5 = dL_db5 + np.sum(L_d4, axis = 0).reshape(-1,1) # dx by 1\n",
    "        \n",
    "        L_d3 = L_d4 @ p_W5 * tanh_gradient_nb(p_h2[iD,]) # L by dm\n",
    "        dL_dW4 = dL_dW4 + L_d3.T @ z[iD,] # dm by dz\n",
    "        dL_db4 = dL_db4 + np.sum(L_d3, axis = 0).reshape(-1,1) # dm by 1\n",
    "        \n",
    "        L_d22 = (np.sum(L_d3 @ p_W4 * eps, axis=0)* np.sqrt(q_s2[iD,]) / 2).reshape(-1,1)  # dz by 1\n",
    "        dL_dW3 = dL_dW3 + L_d22 @ q_h1[iD,].reshape(1,-1) # dz by dm\n",
    "        dL_db3 = dL_db3 + L_d22 # dz by 1\n",
    "        \n",
    "        L_d21 = np.sum(L_d3 @ p_W4, axis = 0).reshape(-1,1) # dz by 1\n",
    "        dL_dW2 = dL_dW2 + L_d21 @ q_h1[iD,].reshape(1,-1) # dz by dm\n",
    "        dL_db2 = dL_db2 + L_d21 # dz by 1\n",
    "        \n",
    "        L_d1 = (q_W2.T @ L_d21 + q_W3.T @ L_d22) * tanh_gradient_nb(q_h1[iD,]).reshape(-1,1) #dm by 1\n",
    "        dL_dW1 = dL_dW1 + L_d1 @ X[iD,].reshape(1,-1) # dm by dx\n",
    "        dL_db1 = dL_db1 + L_d1 # dm by 1\n",
    "\n",
    "        # back propagation for regularization\n",
    "        R_d22 = ((q_s2[iD,]-1)/2).reshape(-1,1)\n",
    "        dR_dW3 = dR_dW3 + R_d22 @ q_h1[iD,].reshape(1,-1)\n",
    "        dR_db3 = dR_db3 + R_d22\n",
    "\n",
    "        R_d21 = q_mu[iD,].reshape(-1,1)\n",
    "        dR_dW2 = dR_dW2 + R_d21 @ q_h1[iD,].reshape(1,-1)\n",
    "        dR_db2 = dR_db2 + R_d21\n",
    "\n",
    "        R_d1 = (q_W3.T @ R_d22 + q_W2.T @ R_d21) * tanh_gradient_nb(q_h1[iD,]).reshape(-1,1)\n",
    "        dR_dW1 = dR_dW1 + R_d1 @ X[iD,].reshape(1,-1)\n",
    "        dR_db1 = dR_db1 + R_d1\n",
    "    \n",
    "    dJ_dW1 = dL_dW1 / L / M + dR_dW1 / M\n",
    "    dJ_db1 = dL_db1 / L / M + dR_db1 / M\n",
    "    dJ_dW2 = dL_dW2 / L / M + dR_dW2 / M\n",
    "    dJ_db2 = dL_db2 / L / M + dR_db2 / M    \n",
    "    dJ_dW3 = dL_dW3 / L / M + dR_dW3 / M\n",
    "    dJ_db3 = dL_db3 / L / M + dR_db3 / M\n",
    "    dJ_dW4 = dL_dW4 / L / M\n",
    "    dJ_db4 = dL_db4 / L / M \n",
    "    dJ_dW5 = dL_dW5 / L / M\n",
    "    dJ_db5 = dL_db5 / L / M\n",
    "    \n",
    "    dW = [dJ_dW1, dJ_dW2, dJ_dW3, dJ_dW4, dJ_dW5]\n",
    "    db = [dJ_db1, dJ_db2, dJ_db3, dJ_db4, dJ_db5]\n",
    "    \n",
    "    return dW, db"
   ]
  },
  {
   "cell_type": "code",
   "execution_count": 48,
   "metadata": {},
   "outputs": [],
   "source": [
    "def grad_vec2(X, y, W, b, H, Lt):\n",
    "    \"\"\"\"\n",
    "    batch gradient\n",
    "    inputs:\n",
    "        X: M by dx\n",
    "        y: M by L by dx\n",
    "        W: weights\n",
    "        b: bias\n",
    "        H: q_h1 (M by dm), p_h2 (M by L by dm)\n",
    "        Lt: eps (L by dz), z (M by L by dz), q_s2 (M by dz), q_mu (M by dz)\n",
    "    \"\"\"\n",
    "    q_W1, q_W2, q_W3, p_W4, p_W5 = W\n",
    "    q_b1, q_b2, q_b3, p_b4, p_b5 = b\n",
    "    q_h1, p_h2 = H\n",
    "    q_mu, q_s2, z, eps = Lt\n",
    "    \n",
    "    M = X.shape[0]\n",
    "    L = y.shape[1]\n",
    "    \n",
    "    # initialize gradient variables\n",
    "    \n",
    "    # L: loss; R: regularization; J: total target\n",
    "    dL_dW1 = dJ_dW1 = dR_dW1 = np.zeros_like(q_W1)\n",
    "    dL_db1 = dJ_db1 = dR_db1 = np.zeros_like(q_b1)\n",
    "    dL_dW2 = dJ_dW2 = dR_dW2 = np.zeros_like(q_W2)\n",
    "    dL_db2 = dJ_db2 = dR_db2 = np.zeros_like(q_b2)\n",
    "    dL_dW3 = dJ_dW3 = dR_dW3 = np.zeros_like(q_W3)\n",
    "    dL_db3 = dJ_db3 = dR_db3 = np.zeros_like(q_b3)\n",
    "    dL_dW4 = dJ_dW4 = np.zeros_like(p_W4)\n",
    "    dL_db4 = dJ_db4 = np.zeros_like(p_b4)    \n",
    "    dL_dW5 = dJ_dW5 = np.zeros_like(p_W5)\n",
    "    dL_db5 = dJ_db5 = np.zeros_like(p_b5)\n",
    "\n",
    "    # back propagation for loss\n",
    "    for iL in range(L):\n",
    "        y_iL = y[:,iL,:] # M by dx\n",
    "        p_h2_iL = p_h2[:,iL,:] # M by dm\n",
    "        z_iL = z[:,iL,:] # M by dz\n",
    "        \n",
    "        L_d4 = y_iL - X # M by dx\n",
    "        dL_dW5 = dL_dW5 + L_d4.T @ p_h2_iL # dx by dm\n",
    "        dL_db5 = dL_db5 + np.sum(L_d4, axis = 0).reshape(-1,1) # dx by 1\n",
    "        \n",
    "        L_d3 = L_d4 @ p_W5 * tanh_gradient_nb(p_h2_iL) # M by dm\n",
    "        dL_dW4 = dL_dW4 + L_d3.T @ z_iL # dm by dz\n",
    "        dL_db4 = dL_db4 + np.sum(L_d3, axis = 0).reshape(-1,1) # dm by 1\n",
    "        \n",
    "        L_d22 = L_d3 @ p_W4 * eps[iL,] * np.sqrt(q_s2) / 2  # M by dz\n",
    "        dL_dW3 = dL_dW3 + L_d22.T @ q_h1 # dz by dm\n",
    "        dL_db3 = dL_db3 + np.sum(L_d22, axis = 0).reshape(-1,1) # dz by 1\n",
    "        \n",
    "        L_d21 = L_d3 @ p_W4 # M by dz\n",
    "        dL_dW2 = dL_dW2 + L_d21.T @ q_h1 # dz by dm\n",
    "        dL_db2 = dL_db2 + np.sum(L_d21, axis = 0).reshape(-1,1) # dz by 1\n",
    "\n",
    "        L_d1 = (L_d21 @ q_W2 + L_d22 @ q_W3) * tanh_gradient_nb(q_h1) # M by dm\n",
    "        dL_dW1 = dL_dW1 + L_d1.T @ X # dm by dx\n",
    "        dL_db1 = dL_db1 + np.sum(L_d1, axis = 0).reshape(-1,1) # dm by 1\n",
    "\n",
    "    # back propagation for regularization\n",
    "    R_d22 = (q_s2 - 1)/2 # M by dz\n",
    "    dR_dW3 = dR_dW3 + R_d22.T @ q_h1 # dz by dm\n",
    "    dR_db3 = dR_db3 + np.sum(R_d22, axis = 0).reshape(-1,1) # dz by 1\n",
    "    \n",
    "    R_d21 = q_mu # M by dz\n",
    "    dR_dW2 = dR_dW2 + R_d21.T @ q_h1 # dz by dm\n",
    "    dR_db2 = dR_db2 + np.sum(R_d21, axis = 0).reshape(-1,1) # dm by 1\n",
    "\n",
    "    R_d1 = (R_d22 @ q_W3 + R_d21 @ q_W2) * tanh_gradient_nb(q_h1) # M by dm\n",
    "    dR_dW1 = dR_dW1 + R_d1.T @ X # dm by dx\n",
    "    dR_db1 = dR_db1 + np.sum(R_d1, axis = 0).reshape(-1,1) # dm by 1\n",
    "    \n",
    "    dJ_dW1 = dL_dW1 / L / M + dR_dW1 / M\n",
    "    dJ_db1 = dL_db1 / L / M + dR_db1 / M\n",
    "    dJ_dW2 = dL_dW2 / L / M + dR_dW2 / M\n",
    "    dJ_db2 = dL_db2 / L / M + dR_db2 / M    \n",
    "    dJ_dW3 = dL_dW3 / L / M + dR_dW3 / M\n",
    "    dJ_db3 = dL_db3 / L / M + dR_db3 / M\n",
    "    dJ_dW4 = dL_dW4 / L / M\n",
    "    dJ_db4 = dL_db4 / L / M \n",
    "    dJ_dW5 = dL_dW5 / L / M\n",
    "    dJ_db5 = dL_db5 / L / M\n",
    "    \n",
    "    dW = [dJ_dW1, dJ_dW2, dJ_dW3, dJ_dW4, dJ_dW5]\n",
    "    db = [dJ_db1, dJ_db2, dJ_db3, dJ_db4, dJ_db5]\n",
    "    \n",
    "    return dW, db"
   ]
  },
  {
   "cell_type": "code",
   "execution_count": 49,
   "metadata": {},
   "outputs": [],
   "source": [
    "def total_loss_vec(X, y, q_a2, q_mu, q_s2):\n",
    "    \"\"\"target total loss function - to minimize - vectorized version\"\"\"\n",
    "    \n",
    "    M, dx, L = X.shape[0], X.shape[1], y.shape[1]\n",
    "    \n",
    "    # reconstruction loss for each sample of latent variable\n",
    "    loss = -np.sum(X.reshape(M,1,dx) * np.log(y) + (1-X.reshape(M,1,dx))* np.log(1-y)) / L\n",
    "    \n",
    "    # KL divergence/ regularization\n",
    "    loss = (loss + np.sum(np.power(q_mu,2) + q_s2 - q_a2 - 1)/2)/M\n",
    "    \n",
    "    return loss"
   ]
  },
  {
   "cell_type": "markdown",
   "metadata": {},
   "source": [
    "#### 7.2.2 Model v2 Profiling"
   ]
  },
  {
   "cell_type": "markdown",
   "metadata": {},
   "source": [
    "The following are codes used for profiling. Currently comma out for documentation"
   ]
  },
  {
   "cell_type": "code",
   "execution_count": 50,
   "metadata": {},
   "outputs": [],
   "source": [
    "# profile_filename = get_filename(\"profiling_v2\", ext = \".prof\")\n",
    "# Spec = [100, M, L, std_const, dx, dm, dz, alpha, 10]"
   ]
  },
  {
   "cell_type": "code",
   "execution_count": 51,
   "metadata": {},
   "outputs": [],
   "source": [
    "# %prun -q -D $profile_filename train_ADAM_nb1(trainX, \\\n",
    "#                                         trainy, Spec, batch_forward_vec, grad_vec)"
   ]
  },
  {
   "cell_type": "code",
   "execution_count": 52,
   "metadata": {},
   "outputs": [],
   "source": [
    "# p = pstats.Stats(profile_filename)\n",
    "# p.sort_stats('time', 'cumulative').print_stats(5)\n",
    "# pass"
   ]
  },
  {
   "cell_type": "markdown",
   "metadata": {},
   "source": [
    "### 7.3 Vectorized Numba\n",
    "\n",
    "In this version (Model v2.51 in the report), we try to use numba jit on the vectorized codes in Model v2 as much as possible. \n",
    "\n",
    "We noted that nopython mode cannot be used for matrix multiplication beyond 2-d using \"@\"."
   ]
  },
  {
   "cell_type": "markdown",
   "metadata": {},
   "source": [
    "#### 7.3.1 Model v2.51 Codes"
   ]
  },
  {
   "cell_type": "code",
   "execution_count": 53,
   "metadata": {},
   "outputs": [],
   "source": [
    "total_loss_vec_nb = jit(total_loss_vec, nopython=True, cache=True)\n",
    "sample_z_vec_nb = jit(sample_z_vec, nopython=True, cache=True)\n",
    "encoder_forward_vec_nb1 = jit(encoder_forward_vec, nopython=True, cache=True)\n",
    "decoder_forward_vec_nb1 = jit(decoder_forward_vec, cache=True)\n",
    "grad_vec_nb1 = jit(grad_vec, cache=True)\n",
    "grad_vec2_nb1 = jit(grad_vec2, cache=True)"
   ]
  },
  {
   "cell_type": "code",
   "execution_count": 54,
   "metadata": {},
   "outputs": [],
   "source": [
    "@jit(cache=True)\n",
    "def batch_forward_vec_nb1(Spec, X, W, b, eps):\n",
    "    \"\"\"forward propagation for one batch - vectorized version\"\"\"\n",
    "    d, M, L, d, d, dm, dz, d, d = Spec\n",
    "    \n",
    "    # initialize variables for calculating gradients/ loss by batch\n",
    "    p_h2 = np.zeros((M, L, dm))\n",
    "    z = np.zeros((M, L, dz))\n",
    "    y = np.zeros((M, L, dx))\n",
    "    \n",
    "    q_h1, q_a2, q_mu, q_s2 = encoder_forward_vec_nb1(X, W, b)\n",
    "    z = sample_z_vec_nb(q_mu, q_s2, eps)\n",
    "    y, p_h2 = decoder_forward_vec_nb1(W, b, z)\n",
    "    \n",
    "    H = [q_h1, p_h2]\n",
    "    Lt = [q_mu, q_s2, z, eps]\n",
    "    loss = total_loss_vec_nb(X, y, q_a2, q_mu, q_s2)\n",
    "    \n",
    "    return (y, H, Lt, loss)"
   ]
  },
  {
   "cell_type": "markdown",
   "metadata": {},
   "source": [
    "#### 7.3.2 Model v2.51 Profiling"
   ]
  },
  {
   "cell_type": "markdown",
   "metadata": {},
   "source": [
    "The following are codes used for profiling. Currently comma out for documentation"
   ]
  },
  {
   "cell_type": "code",
   "execution_count": 55,
   "metadata": {},
   "outputs": [],
   "source": [
    "# profile_filename = get_filename(\"profiling_v3\", ext = \".prof\")\n",
    "# Spec = [100, M, L, std_const, dx, dm, dz, alpha, 10]"
   ]
  },
  {
   "cell_type": "code",
   "execution_count": 56,
   "metadata": {},
   "outputs": [],
   "source": [
    "# %prun -q -D $profile_filename train_ADAM_nb1(trainX, \\\n",
    "#                                         trainy, Spec, batch_forward_vec_nb1, grad_vec_nb1)"
   ]
  },
  {
   "cell_type": "code",
   "execution_count": 57,
   "metadata": {},
   "outputs": [],
   "source": [
    "# p = pstats.Stats(profile_filename)\n",
    "# p.sort_stats('time', 'cumulative').print_stats(5)\n",
    "# pass"
   ]
  },
  {
   "cell_type": "markdown",
   "metadata": {},
   "source": [
    "### 7.4 Non-vectorized Numba Nopython\n",
    "\n",
    "From the minimalist version (Model v1.5), we noticed that we cannot use *jit nopython* because of the use of heterogeneous lists. In this version we try to remove those lists using the non-vectorized version of codes to see how much speed up it gives us. In this version we also try to use numba jit as much as possible by jitting all the functions.\n",
    "\n",
    "Note the following:\n",
    "\n",
    "1. Naming convension, for all functions for which I needed to make changes in order to break the heterogeneous lists, I name them with suffix \"_nb2\" to distinguish from the previous version of jitted functions\n",
    "2. there are two versions of *train_ADAM* implemented in this section. The first one (*train_ADAM_nb2*) is to avoid using heterogeneous list (as can be seen by the super long lines of codes because we cannot update parameters by looping through them in a list). The second version (*train_ADAM_v2*) is to give up using nopython for *train_ADAM* function and thus keep the same structure as before while utilizaing other functions in this section"
   ]
  },
  {
   "cell_type": "markdown",
   "metadata": {},
   "source": [
    "#### 7.4.1 Model v2.52 Codes"
   ]
  },
  {
   "cell_type": "code",
   "execution_count": 58,
   "metadata": {},
   "outputs": [],
   "source": [
    "get_Batch_nb = jit(get_Batch, nopython=True)"
   ]
  },
  {
   "cell_type": "code",
   "execution_count": 59,
   "metadata": {},
   "outputs": [],
   "source": [
    "@njit(cache=True)\n",
    "def init_random_nb2(dx, dm, dz, option = \"xavier\"):\n",
    "    \"\"\"\n",
    "    parameter random initialization\n",
    "    xavier initialization for parameters\n",
    "    all zero for bias\n",
    "    \"\"\"\n",
    "    \n",
    "    # weights initialization\n",
    "    if option == \"zeros\":\n",
    "        # only for variables in ADAM algorithm, not to be used for true model parameters\n",
    "        q_W1 = np.zeros((dm, dx))\n",
    "        p_W5 = np.zeros((dx, dm))\n",
    "        q_W2 = np.zeros((dz, dm))\n",
    "        q_W3 = np.zeros((dz, dm))\n",
    "        p_W4 = np.zeros((dm, dz))\n",
    "    elif option == \"xavier\":\n",
    "        bound = np.sqrt(6)/ np.sqrt(dx + dm)\n",
    "        q_W1 = np.random.uniform(-bound, bound, (dm, dx))\n",
    "        p_W5 = np.random.uniform(-bound, bound, (dx, dm))\n",
    "        bound = np.sqrt(6)/ np.sqrt(dm + dz)\n",
    "        q_W2 = np.random.uniform(-bound, bound, (dz, dm))\n",
    "        q_W3 = np.random.uniform(-bound, bound, (dz, dm))\n",
    "        p_W4 = np.random.uniform(-bound, bound, (dm, dz))\n",
    "    \n",
    "    # bias initialization\n",
    "    q_b1 = np.zeros((dm, 1))\n",
    "    p_b5 = np.zeros((dx, 1))\n",
    "    q_b2 = np.zeros((dz, 1))\n",
    "    q_b3 = np.zeros((dz, 1))\n",
    "    p_b4 = np.zeros((dm, 1))\n",
    "\n",
    "    return q_W1, q_W2, q_W3, p_W4, p_W5, q_b1, q_b2, q_b3, p_b4, p_b5"
   ]
  },
  {
   "cell_type": "code",
   "execution_count": 60,
   "metadata": {},
   "outputs": [],
   "source": [
    "@njit(cache=True)\n",
    "def encoder_forward_nb2(X, q_W1, q_W2, q_W3, q_b1, q_b2, q_b3):\n",
    "    \"\"\"\n",
    "    encoder forward propagation for each data point\n",
    "    X: dx by 1\n",
    "    \"\"\"\n",
    "    \n",
    "    q_a1 = q_W1 @ X + q_b1\n",
    "    q_h1 = tanh_nb(q_a1)\n",
    "    q_mu = q_W2 @ q_h1 + q_b2\n",
    "    q_a2 = q_W3 @ q_h1 + q_b3\n",
    "    q_s2 = np.exp(q_a2)\n",
    "    \n",
    "    return q_h1.T, q_a2.T, q_mu.T, q_s2.T"
   ]
  },
  {
   "cell_type": "code",
   "execution_count": 61,
   "metadata": {},
   "outputs": [],
   "source": [
    "@njit(cache=True)\n",
    "def decoder_forward_nb2(p_W4, p_W5, p_b4, p_b5, z):\n",
    "    \"\"\"\n",
    "    decoder forward propagation for each data point and each sample latent variable\n",
    "    z: dz by 1\n",
    "    \"\"\"\n",
    "    \n",
    "    p_a3 = p_W4 @ z + p_b4\n",
    "    p_h2 = tanh_nb(p_a3)\n",
    "            \n",
    "    p_a4 = p_W5 @ p_h2 + p_b5\n",
    "    y = sigmoid_nb(p_a4)\n",
    "    \n",
    "    return y.T, p_h2.T"
   ]
  },
  {
   "cell_type": "code",
   "execution_count": 62,
   "metadata": {},
   "outputs": [],
   "source": [
    "@njit(cache=True)\n",
    "def batch_forward_nb2(M, L, dm, dz, X, q_W1, q_W2, q_W3, p_W4, p_W5, q_b1, q_b2, q_b3, p_b4, p_b5, eps):\n",
    "    \"\"\"forward propagation for one batch\"\"\"\n",
    "    \n",
    "    # initialize variables for calculating gradients/ loss by batch\n",
    "    q_h1 = np.zeros((M, dm))\n",
    "    q_mu = np.zeros((M, dz))\n",
    "    q_s2 = np.zeros((M, dz))\n",
    "    q_a2 = np.zeros((M, dz))\n",
    "    p_h2 = np.zeros((M, L, dm))\n",
    "    z = np.zeros((M, L, dz))\n",
    "    y = np.zeros((M, L, dx))\n",
    "    \n",
    "    for iD in range(M):\n",
    "        q_h1[iD,], q_a2[iD,], q_mu[iD,], q_s2[iD,] =\\\n",
    "        encoder_forward_nb2(X[iD,].reshape(-1,1), q_W1, q_W2, q_W3, q_b1, q_b2, q_b3)\n",
    "\n",
    "        for iL in range(L):\n",
    "            z[iD,iL,] = sample_z_nb(q_mu[iD,], q_s2[iD,], eps[iL,])\n",
    "            y[iD,iL,], p_h2[iD,iL,] = decoder_forward_nb2(p_W4, p_W5, p_b4, p_b5, z[iD,iL,].reshape(-1,1))\n",
    "    \n",
    "    loss = total_loss_nb(X, y, q_a2, q_mu, q_s2)\n",
    "    \n",
    "    return y, q_h1, p_h2, q_mu, q_s2, z, loss"
   ]
  },
  {
   "cell_type": "code",
   "execution_count": 63,
   "metadata": {},
   "outputs": [],
   "source": [
    "@njit(cache=True)\n",
    "def grad_nb2(X, y, q_W1, q_W2, q_W3, p_W4, p_W5, q_b1, q_b2, q_b3, p_b4, p_b5, q_h1, p_h2, q_mu, q_s2, z, eps):\n",
    "    \"\"\"\"\n",
    "    batch gradient\n",
    "    inputs:\n",
    "        X: M by dx\n",
    "        y: M by L by dx\n",
    "        W: weights\n",
    "        b: bias\n",
    "        H: q_h1 (M by dm), p_h2 (M by L by dm)\n",
    "        Lt: eps (L by dz), z (M by L by dz), q_s2 (M by dz), q_mu (M by dz)\n",
    "    \"\"\"\n",
    "    M = X.shape[0]\n",
    "    L = y.shape[1]\n",
    "    \n",
    "    # initialize gradient variables\n",
    "    \n",
    "    # L: loss; R: regularization; J: total target\n",
    "    dL_dW1 = dJ_dW1 = dR_dW1 = np.zeros_like(q_W1)\n",
    "    dL_db1 = dJ_db1 = dR_db1 = np.zeros_like(q_b1)\n",
    "    dL_dW2 = dJ_dW2 = dR_dW2 = np.zeros_like(q_W2)\n",
    "    dL_db2 = dJ_db2 = dR_db2 = np.zeros_like(q_b2)\n",
    "    dL_dW3 = dJ_dW3 = dR_dW3 = np.zeros_like(q_W3)\n",
    "    dL_db3 = dJ_db3 = dR_db3 = np.zeros_like(q_b3)\n",
    "    dL_dW4 = dJ_dW4 = np.zeros_like(p_W4)\n",
    "    dL_db4 = dJ_db4 = np.zeros_like(p_b4)    \n",
    "    dL_dW5 = dJ_dW5 = np.zeros_like(p_W5)\n",
    "    dL_db5 = dJ_db5 = np.zeros_like(p_b5)\n",
    "    \n",
    "    for iD in range(M):\n",
    "        for iL in range(L):\n",
    "            # back propagation for loss\n",
    "\n",
    "            #L_d4 = (np.divide(y[iD,iL,]-X[iD,], y[iD,iL,] * (1-y[iD,iL,])) * sigmoid_gradient(y[iD,iL,])).reshape(-1,1)\n",
    "            \n",
    "            # simplied L_d4\n",
    "            L_d4 = (y[iD,iL,]-X[iD,]).reshape(-1,1)\n",
    "            dL_dW5 = dL_dW5 + L_d4 @ p_h2[iD,iL,].reshape(1,-1)\n",
    "            dL_db5 = dL_db5 + L_d4\n",
    "            \n",
    "            L_d3 = p_W5.T @ L_d4 * tanh_gradient_nb(p_h2[iD,iL,]).reshape(-1,1)\n",
    "            dL_dW4 = dL_dW4 + L_d3 @ z[iD,iL,].reshape(1,-1)\n",
    "            dL_db4 = dL_db4 + L_d3\n",
    "            \n",
    "            L_d22 = p_W4.T @ L_d3 * eps[iL,].reshape(-1,1) * np.sqrt(q_s2[iD,]).reshape(-1,1) / 2\n",
    "            dL_dW3 = dL_dW3 + L_d22 @ q_h1[iD,].reshape(1,-1)\n",
    "            dL_db3 = dL_db3 + L_d22\n",
    "            \n",
    "            L_d21 = p_W4.T @ L_d3\n",
    "            dL_dW2 = dL_dW2 + L_d21 @ q_h1[iD,].reshape(1,-1)\n",
    "            dL_db2 = dL_db2 + L_d21\n",
    "            \n",
    "            L_d1 = (q_W2.T @ L_d21 + q_W3.T @ L_d22) * tanh_gradient_nb(q_h1[iD,]).reshape(-1,1)\n",
    "            dL_dW1 = dL_dW1 + L_d1 @ X[iD,].reshape(1,-1)\n",
    "            dL_db1 = dL_db1 + L_d1\n",
    "        \n",
    "        # back propagation for regularization\n",
    "        R_d22 = ((q_s2[iD,]-1)/2).reshape(-1,1)\n",
    "        dR_dW3 = dR_dW3 + R_d22 @ q_h1[iD,].reshape(1,-1)\n",
    "        dR_db3 = dR_db3 + R_d22\n",
    "\n",
    "        R_d21 = q_mu[iD,].reshape(-1,1)\n",
    "        dR_dW2 = dR_dW2 + R_d21 @ q_h1[iD,].reshape(1,-1)\n",
    "        dR_db2 = dR_db2 + R_d21\n",
    "\n",
    "        R_d1 = (q_W3.T @ R_d22 + q_W2.T @ R_d21) * tanh_gradient_nb(q_h1[iD,]).reshape(-1,1)\n",
    "        dR_dW1 = dR_dW1 + R_d1 @ X[iD,].reshape(1,-1)\n",
    "        dR_db1 = dR_db1 + R_d1\n",
    "    \n",
    "    dJ_dW1 = dL_dW1 / L / M + dR_dW1 / M\n",
    "    dJ_db1 = dL_db1 / L / M + dR_db1 / M\n",
    "    dJ_dW2 = dL_dW2 / L / M + dR_dW2 / M\n",
    "    dJ_db2 = dL_db2 / L / M + dR_db2 / M    \n",
    "    dJ_dW3 = dL_dW3 / L / M + dR_dW3 / M\n",
    "    dJ_db3 = dL_db3 / L / M + dR_db3 / M\n",
    "    dJ_dW4 = dL_dW4 / L / M\n",
    "    dJ_db4 = dL_db4 / L / M \n",
    "    dJ_dW5 = dL_dW5 / L / M\n",
    "    dJ_db5 = dL_db5 / L / M\n",
    "    \n",
    "    return dJ_dW1, dJ_dW2, dJ_dW3, dJ_dW4, dJ_dW5, dJ_db1, dJ_db2, dJ_db3, dJ_db4, dJ_db5"
   ]
  },
  {
   "cell_type": "code",
   "execution_count": 64,
   "metadata": {},
   "outputs": [],
   "source": [
    "@jit\n",
    "def train_ADAM_nb2(trainX, trainy, nBatch, M, L, std_const, dx, dm, dz, alpha, batch_forward, grad):\n",
    "    \"\"\"train model with ADAM\"\"\"\n",
    "\n",
    "    # parameters for ADAM algorithm\n",
    "    beta1 = 0.9\n",
    "    beta2 = 0.999\n",
    "    eps_stable = 1e-8\n",
    "    \n",
    "    # initiate parameters for ADAM\n",
    "    # need to use separate lines of codes otherwise they share the same reference\n",
    "    v_dW1, v_dW2, v_dW3, v_dW4, v_dW5, v_db1, v_db2, v_db3, v_db4, v_db5 = \\\n",
    "    init_random_nb2(dx, dm, dz, option = \"zeros\")\n",
    "    s_dW1, s_dW2, s_dW3, s_dW4, s_dW5, s_db1, s_db2, s_db3, s_db4, s_db5 = \\\n",
    "    init_random_nb2(dx, dm, dz, option = \"zeros\")\n",
    "    vc_dW1, vc_dW2, vc_dW3, vc_dW4, vc_dW5, vc_db1, vc_db2, vc_db3, vc_db4, vc_db5 = \\\n",
    "    init_random_nb2(dx, dm, dz, option = \"zeros\")\n",
    "    sc_dW1, sc_dW2, sc_dW3, sc_dW4, sc_dW5, sc_db1, sc_db2, sc_db3, sc_db4, sc_db5 = \\\n",
    "    init_random_nb2(dx, dm, dz, option = \"zeros\")\n",
    "    \n",
    "    # weights and bias initialization\n",
    "    W1, W2, W3, W4, W5, b1, b2, b3, b4, b5 = init_random_nb2(dx, dm, dz)\n",
    "\n",
    "    # loss\n",
    "    loss = np.zeros(nBatch)\n",
    "    \n",
    "    for iB in range(nBatch):\n",
    "        # sample a random batch\n",
    "        batchX, batchy = get_Batch_nb(M, trainX, trainy)\n",
    "        X = batchX.reshape(M, dx) / std_const\n",
    "\n",
    "        # sample random noise for latent variable, assuming each batch uses the same random noise for now\n",
    "        eps = np.random.randn(L, dz)\n",
    "\n",
    "        y, q_h1, p_h2, q_mu, q_s2, z, loss[iB] = \\\n",
    "        batch_forward(M, L, dm, dz, X, W1, W2, W3, W4, W5, b1, b2, b3, b4, b5, eps)\n",
    "\n",
    "        dW1, dW2, dW3, dW4, dW5, db1, db2, db3, db4, db5 = \\\n",
    "        grad(X, y, W1, W2, W3, W4, W5, b1, b2, b3, b4, b5, q_h1, p_h2, q_mu, q_s2, z, eps)\n",
    "        \n",
    "        # ADAM\n",
    "        v_dW1 = beta1*v_dW1 + (1-beta1)*dW1\n",
    "        v_dW2 = beta1*v_dW2 + (1-beta1)*dW2\n",
    "        v_dW3 = beta1*v_dW3 + (1-beta1)*dW3\n",
    "        v_dW4 = beta1*v_dW4 + (1-beta1)*dW4\n",
    "        v_dW5 = beta1*v_dW5 + (1-beta1)*dW5\n",
    "        \n",
    "        v_db1 = beta1*v_db1 + (1-beta1)*db1\n",
    "        v_db2 = beta1*v_db2 + (1-beta1)*db2\n",
    "        v_db3 = beta1*v_db3 + (1-beta1)*db3\n",
    "        v_db4 = beta1*v_db4 + (1-beta1)*db4\n",
    "        v_db5 = beta1*v_db5 + (1-beta1)*db5\n",
    "        \n",
    "        s_dW1 = beta2*s_dW1 + (1-beta2)*np.power(dW1,2)\n",
    "        s_dW2 = beta2*s_dW2 + (1-beta2)*np.power(dW2,2)\n",
    "        s_dW3 = beta2*s_dW3 + (1-beta2)*np.power(dW3,2)\n",
    "        s_dW4 = beta2*s_dW4 + (1-beta2)*np.power(dW4,2)\n",
    "        s_dW5 = beta2*s_dW5 + (1-beta2)*np.power(dW5,2)\n",
    "        \n",
    "        s_db1 = beta2*s_db1 + (1-beta2)*np.power(db1,2)\n",
    "        s_db2 = beta2*s_db2 + (1-beta2)*np.power(db2,2)\n",
    "        s_db3 = beta2*s_db3 + (1-beta2)*np.power(db3,2)\n",
    "        s_db4 = beta2*s_db4 + (1-beta2)*np.power(db4,2)\n",
    "        s_db5 = beta2*s_db5 + (1-beta2)*np.power(db5,2)\n",
    "        \n",
    "        vc_dW1 = v_dW1/(1-beta1**(iB+1))\n",
    "        vc_dW2 = v_dW2/(1-beta1**(iB+1))\n",
    "        vc_dW3 = v_dW3/(1-beta1**(iB+1))\n",
    "        vc_dW4 = v_dW4/(1-beta1**(iB+1))\n",
    "        vc_dW5 = v_dW5/(1-beta1**(iB+1))\n",
    "        \n",
    "        vc_db1 = v_db1/(1-beta1**(iB+1))\n",
    "        vc_db2 = v_db2/(1-beta1**(iB+1))\n",
    "        vc_db3 = v_db3/(1-beta1**(iB+1))\n",
    "        vc_db4 = v_db4/(1-beta1**(iB+1))\n",
    "        vc_db5 = v_db5/(1-beta1**(iB+1))\n",
    "        \n",
    "        sc_dW1 = s_dW1/(1-beta2**(iB+1))\n",
    "        sc_dW2 = s_dW2/(1-beta2**(iB+1))\n",
    "        sc_dW3 = s_dW3/(1-beta2**(iB+1))\n",
    "        sc_dW4 = s_dW4/(1-beta2**(iB+1))\n",
    "        sc_dW5 = s_dW5/(1-beta2**(iB+1))\n",
    "        \n",
    "        sc_db1 = s_db1/(1-beta2**(iB+1))\n",
    "        sc_db2 = s_db2/(1-beta2**(iB+1))\n",
    "        sc_db3 = s_db3/(1-beta2**(iB+1))\n",
    "        sc_db4 = s_db4/(1-beta2**(iB+1))\n",
    "        sc_db5 = s_db5/(1-beta2**(iB+1))\n",
    "        \n",
    "        dW1 = vc_dW1 / (np.sqrt(sc_dW1) + eps_stable)\n",
    "        dW2 = vc_dW2 / (np.sqrt(sc_dW2) + eps_stable)\n",
    "        dW3 = vc_dW3 / (np.sqrt(sc_dW3) + eps_stable)\n",
    "        dW4 = vc_dW4 / (np.sqrt(sc_dW4) + eps_stable)\n",
    "        dW5 = vc_dW5 / (np.sqrt(sc_dW5) + eps_stable)\n",
    "        \n",
    "        db1 = vc_db1 / (np.sqrt(sc_db1) + eps_stable)\n",
    "        db2 = vc_db2 / (np.sqrt(sc_db2) + eps_stable)\n",
    "        db3 = vc_db3 / (np.sqrt(sc_db3) + eps_stable)\n",
    "        db4 = vc_db4 / (np.sqrt(sc_db4) + eps_stable)\n",
    "        db5 = vc_db5 / (np.sqrt(sc_db5) + eps_stable)\n",
    "        \n",
    "        W1 = W1 - alpha * dW1\n",
    "        W2 = W2 - alpha * dW2\n",
    "        W3 = W3 - alpha * dW3\n",
    "        W4 = W4 - alpha * dW4\n",
    "        W5 = W5 - alpha * dW5\n",
    "        \n",
    "        b1 = b1 - alpha * db1\n",
    "        b2 = b2 - alpha * db2\n",
    "        b3 = b3 - alpha * db3\n",
    "        b4 = b4 - alpha * db4\n",
    "        b5 = b5 - alpha * db5\n",
    "\n",
    "    return W1, W2, W3, W4, W5, b1, b2, b3, b4, b5, loss"
   ]
  },
  {
   "cell_type": "code",
   "execution_count": 65,
   "metadata": {},
   "outputs": [],
   "source": [
    "def train_ADAM_v2(trainX, trainy, Spec, batch_forward, grad, W = \"\", b = \"\", doc = \"\"):\n",
    "    \"\"\"train model with ADAM\"\"\"\n",
    "    \n",
    "    nBatch, M, L, std_const, dx, dm, dz, alpha, nP = Spec\n",
    "    \n",
    "    if doc != \"\":\n",
    "        status_file = get_filename(\"status\")\n",
    "        para_file = get_filename(\"parameter\")\n",
    "        update_status(status_file, \"x\", \"Training starts: \" + get_timestamp() + \"\\n\")\n",
    "    \n",
    "    # parameters for ADAM algorithm\n",
    "    beta1 = 0.9\n",
    "    beta2 = 0.999\n",
    "    eps_stable = 1e-8\n",
    "    \n",
    "    # initiate parameters for ADAM\n",
    "    # need to use separate lines of codes otherwise they share the same reference\n",
    "    v_dW, v_db = init_random(dx, dm, dz, option = \"zeros\")\n",
    "    s_dW, s_db = init_random(dx, dm, dz, option = \"zeros\")\n",
    "    vc_dW, vc_db = init_random(dx, dm, dz, option = \"zeros\")\n",
    "    sc_dW, sc_db = init_random(dx, dm, dz, option = \"zeros\")\n",
    "    num_para = len(v_dW)\n",
    "    \n",
    "    # weights and bias initialization\n",
    "    if len(W) == len(b) == 0:\n",
    "        W, b = init_random(dx, dm, dz)\n",
    "        q_W1, q_W2, q_W3, p_W4, p_W5 = W\n",
    "        q_b1, q_b2, q_b3, p_b4, p_b5 = b\n",
    "\n",
    "    # loss\n",
    "    loss = np.zeros(nBatch)\n",
    "    \n",
    "    for iB in range(nBatch):\n",
    "        # sample a random batch\n",
    "        batchX, batchy = get_Batch_nb(M, trainX, trainy)\n",
    "        X = batchX.reshape(M, dx) / std_const\n",
    "\n",
    "        # sample random noise for latent variable, assuming each batch uses the same random noise for now\n",
    "        eps = np.random.randn(L, dz)\n",
    "\n",
    "        y, q_h1, p_h2, q_mu, q_s2, z, loss[iB] = \\\n",
    "        batch_forward(M, L, dm, dz, X, q_W1, q_W2, q_W3, p_W4, p_W5, q_b1, q_b2, q_b3, p_b4, p_b5, eps)\n",
    "        dW1, dW2, dW3, dW4, dW5, db1, db2, db3, db4, db5 = \\\n",
    "        grad(X, y, q_W1, q_W2, q_W3, p_W4, p_W5, q_b1, q_b2, q_b3, p_b4, p_b5, q_h1, p_h2, q_mu, q_s2, z, eps)\n",
    "        \n",
    "        dW = [dW1, dW2, dW3, dW4, dW5]\n",
    "        db = [db1, db2, db3, db4, db5]\n",
    "        \n",
    "        # ADAM\n",
    "        for i in range(num_para):\n",
    "            v_dW[i] = beta1*v_dW[i] + (1-beta1)*dW[i]\n",
    "            v_db[i] = beta1*v_db[i] + (1-beta1)*db[i]\n",
    "            s_dW[i] = beta2*s_dW[i] + (1-beta2)*np.power(dW[i],2)\n",
    "            s_db[i] = beta2*s_db[i] + (1-beta2)*np.power(db[i],2)\n",
    "        \n",
    "            vc_dW[i] = v_dW[i]/(1-beta1**(iB+1))\n",
    "            vc_db[i] = v_db[i]/(1-beta1**(iB+1))\n",
    "            sc_dW[i] = s_dW[i]/(1-beta2**(iB+1))\n",
    "            sc_db[i] = s_db[i]/(1-beta2**(iB+1))\n",
    "        \n",
    "            dW[i] = vc_dW[i] / (np.sqrt(sc_dW[i]) + eps_stable)\n",
    "            db[i] = vc_db[i] / (np.sqrt(sc_db[i]) + eps_stable)\n",
    "        \n",
    "        W, b = para_update(W, b, dW, db, alpha)\n",
    "        \n",
    "        if doc != \"\":\n",
    "            if (iB+1) % nP == 0:\n",
    "                # append status file\n",
    "                update_status(status_file, \"a\", \"Batch \" + str(iB+1) + \" : \" + get_timestamp() + \"\\n\")\n",
    "    \n",
    "    # save parameter to file\n",
    "    if doc != \"\":\n",
    "        save_para(para_file, doc = doc, Spec = Spec, W = W, b = b, loss = loss)\n",
    "\n",
    "    return Spec, W, b, loss"
   ]
  },
  {
   "cell_type": "markdown",
   "metadata": {},
   "source": [
    "#### 7.4.2 Model v2.52 Profiling"
   ]
  },
  {
   "cell_type": "markdown",
   "metadata": {},
   "source": [
    "The following are codes used for profiling. Currently comma out for documentation"
   ]
  },
  {
   "cell_type": "code",
   "execution_count": 66,
   "metadata": {},
   "outputs": [],
   "source": [
    "# profile_filename = get_filename(\"profiling_v4\", ext = \".prof\")"
   ]
  },
  {
   "cell_type": "code",
   "execution_count": 67,
   "metadata": {},
   "outputs": [],
   "source": [
    "# %prun -q -D $profile_filename train_ADAM_nb2(\\\n",
    "#            trainX, trainy, 100, M, L, std_const, dx, dm, dz, alpha, batch_forward_nb2, grad_nb2)"
   ]
  },
  {
   "cell_type": "code",
   "execution_count": 68,
   "metadata": {},
   "outputs": [],
   "source": [
    "# p = pstats.Stats(profile_filename)\n",
    "# p.sort_stats('time', 'cumulative').print_stats(5)\n",
    "# pass"
   ]
  },
  {
   "cell_type": "markdown",
   "metadata": {},
   "source": [
    "### 7.5 Vectorized Numba"
   ]
  },
  {
   "cell_type": "markdown",
   "metadata": {},
   "source": [
    "This is our prelim final version (Model v3). In this version we combine the knowledge learned while working on all previous versions so as to have the maximum speed up with practical implementations:\n",
    "\n",
    "1. Vectorization gives great speed up therefore we use the vectorized version (along the dimension of looping over sample data)\n",
    "2. nopython can help us maximize numba jit performance therefore we try to use nopython whenever we can, except for the following two functions\n",
    "\n",
    "    - *batch_forward*: we cannot use nopython because it involves calculation and passing of a 3-D variable\n",
    "    - *train_ADAM*: in order to enable nopython we will have to avoid using heterogeneous lists completely which greatly reduces the readability of the codes and increases difficulties on maintenance. Therefore we have decided to keep it in the same format"
   ]
  },
  {
   "cell_type": "markdown",
   "metadata": {},
   "source": [
    "#### 7.5.1 Model v3 Codes"
   ]
  },
  {
   "cell_type": "code",
   "execution_count": 69,
   "metadata": {},
   "outputs": [],
   "source": [
    "init_random_nb1 = jit(init_random, nopython=True)\n",
    "para_update_nb = jit(para_update, nopython=True, cache=True)"
   ]
  },
  {
   "cell_type": "code",
   "execution_count": 70,
   "metadata": {},
   "outputs": [],
   "source": [
    "@jit(cache=True)\n",
    "def batch_forward_vec_nb2(Spec, X, W, b, eps):\n",
    "    \"\"\"forward propagation for one mini batch - full vectorized version\"\"\"\n",
    "    d, M, L, d, dx, dm, dz, d, d = Spec\n",
    "\n",
    "    p_h2 = np.zeros((M, L, dm))\n",
    "    z = np.zeros((M, L, dz))\n",
    "    y = np.zeros((M, L, dx))\n",
    "    \n",
    "    q_h1, q_a2, q_mu, q_s2 = encoder_forward_vec_nb1(X, W, b) # M by dm, M by dz, M by dz, M by dz\n",
    "    z = sample_z_vec_nb(q_mu, q_s2, eps)\n",
    "    y, p_h2 = decoder_forward_vec_nb1(W, b, z)\n",
    "    \n",
    "    loss = total_loss_vec_nb(X, y, q_a2, q_mu, q_s2)\n",
    "\n",
    "    return y, q_h1, p_h2, q_mu, q_s2, z, loss"
   ]
  },
  {
   "cell_type": "code",
   "execution_count": 71,
   "metadata": {},
   "outputs": [],
   "source": [
    "@njit\n",
    "def grad_vec2_nb2(X, y, q_W1, q_W2, q_W3, p_W4, p_W5, q_b1, q_b2, q_b3, p_b4, p_b5, q_h1, p_h2, q_mu, q_s2, z, eps):\n",
    "    \"\"\"\"\n",
    "    batch gradient calculation - vectorized version\n",
    "    not using lists for parameters to enable numba nopython\n",
    "    \n",
    "    inputs:\n",
    "        X: Data [M by dx]\n",
    "        y: Model results [M by L by dx]\n",
    "        q_W1, q_W2, q_W3: Weights for encoder\n",
    "        p_W4, p_W5: Weights for decoder\n",
    "        q_b1, q_b2, q_b3: Bias for encoder\n",
    "        p_b4, p_b5: Bias for decoder\n",
    "        q_h1 (M by dm), p_h2 (M by L by dm): intermediate activation variables\n",
    "        eps (L by dz), z (M by L by dz), q_s2 (M by dz), q_mu (M by dz): for sampling latent variables from posterior\n",
    "    \"\"\"\n",
    "    \n",
    "    M = X.shape[0]\n",
    "    L = y.shape[1]\n",
    "    \n",
    "    # initialize gradient variables\n",
    "    \n",
    "    # L: loss; R: regularization; J: total target\n",
    "    dL_dW1 = dJ_dW1 = dR_dW1 = np.zeros_like(q_W1)\n",
    "    dL_db1 = dJ_db1 = dR_db1 = np.zeros_like(q_b1)\n",
    "    dL_dW2 = dJ_dW2 = dR_dW2 = np.zeros_like(q_W2)\n",
    "    dL_db2 = dJ_db2 = dR_db2 = np.zeros_like(q_b2)\n",
    "    dL_dW3 = dJ_dW3 = dR_dW3 = np.zeros_like(q_W3)\n",
    "    dL_db3 = dJ_db3 = dR_db3 = np.zeros_like(q_b3)\n",
    "    dL_dW4 = dJ_dW4 = np.zeros_like(p_W4)\n",
    "    dL_db4 = dJ_db4 = np.zeros_like(p_b4)    \n",
    "    dL_dW5 = dJ_dW5 = np.zeros_like(p_W5)\n",
    "    dL_db5 = dJ_db5 = np.zeros_like(p_b5)\n",
    "\n",
    "    # back propagation for loss\n",
    "    for iL in range(L):\n",
    "        y_iL = y[:,iL,:] # M by dx\n",
    "        p_h2_iL = p_h2[:,iL,:] # M by dm\n",
    "        z_iL = z[:,iL,:] # M by dz\n",
    "        \n",
    "        L_d4 = y_iL - X # M by dx\n",
    "        dL_dW5 = dL_dW5 + L_d4.T @ p_h2_iL # dx by dm\n",
    "        dL_db5 = dL_db5 + np.sum(L_d4, axis = 0).reshape(-1,1) # dx by 1\n",
    "        \n",
    "        L_d3 = L_d4 @ p_W5 * tanh_gradient_nb(p_h2_iL) # M by dm\n",
    "        dL_dW4 = dL_dW4 + L_d3.T @ z_iL # dm by dz\n",
    "        dL_db4 = dL_db4 + np.sum(L_d3, axis = 0).reshape(-1,1) # dm by 1\n",
    "        \n",
    "        L_d22 = L_d3 @ p_W4 * eps[iL,] * np.sqrt(q_s2) / 2  # M by dz\n",
    "        dL_dW3 = dL_dW3 + L_d22.T @ q_h1 # dz by dm\n",
    "        dL_db3 = dL_db3 + np.sum(L_d22, axis = 0).reshape(-1,1) # dz by 1\n",
    "        \n",
    "        L_d21 = L_d3 @ p_W4 # M by dz\n",
    "        dL_dW2 = dL_dW2 + L_d21.T @ q_h1 # dz by dm\n",
    "        dL_db2 = dL_db2 + np.sum(L_d21, axis = 0).reshape(-1,1) # dz by 1\n",
    "\n",
    "        L_d1 = (L_d21 @ q_W2 + L_d22 @ q_W3) * tanh_gradient_nb(q_h1) # M by dm\n",
    "        dL_dW1 = dL_dW1 + L_d1.T @ X # dm by dx\n",
    "        dL_db1 = dL_db1 + np.sum(L_d1, axis = 0).reshape(-1,1) # dm by 1\n",
    "\n",
    "    # back propagation for regularization\n",
    "    R_d22 = (q_s2 - 1)/2 # M by dz\n",
    "    dR_dW3 = dR_dW3 + R_d22.T @ q_h1 # dz by dm\n",
    "    dR_db3 = dR_db3 + np.sum(R_d22, axis = 0).reshape(-1,1) # dz by 1\n",
    "    \n",
    "    R_d21 = q_mu # M by dz\n",
    "    dR_dW2 = dR_dW2 + R_d21.T @ q_h1 # dz by dm\n",
    "    dR_db2 = dR_db2 + np.sum(R_d21, axis = 0).reshape(-1,1) # dm by 1\n",
    "\n",
    "    R_d1 = (R_d22 @ q_W3 + R_d21 @ q_W2) * tanh_gradient_nb(q_h1) # M by dm\n",
    "    dR_dW1 = dR_dW1 + R_d1.T @ X # dm by dx\n",
    "    dR_db1 = dR_db1 + np.sum(R_d1, axis = 0).reshape(-1,1) # dm by 1\n",
    "    \n",
    "    dJ_dW1 = dL_dW1 / L / M + dR_dW1 / M\n",
    "    dJ_db1 = dL_db1 / L / M + dR_db1 / M\n",
    "    dJ_dW2 = dL_dW2 / L / M + dR_dW2 / M\n",
    "    dJ_db2 = dL_db2 / L / M + dR_db2 / M    \n",
    "    dJ_dW3 = dL_dW3 / L / M + dR_dW3 / M\n",
    "    dJ_db3 = dL_db3 / L / M + dR_db3 / M\n",
    "    dJ_dW4 = dL_dW4 / L / M\n",
    "    dJ_db4 = dL_db4 / L / M \n",
    "    dJ_dW5 = dL_dW5 / L / M\n",
    "    dJ_db5 = dL_db5 / L / M\n",
    "    \n",
    "    return dJ_dW1, dJ_dW2, dJ_dW3, dJ_dW4, dJ_dW5, dJ_db1, dJ_db2, dJ_db3, dJ_db4, dJ_db5"
   ]
  },
  {
   "cell_type": "code",
   "execution_count": 72,
   "metadata": {},
   "outputs": [],
   "source": [
    "@jit(cache=True)\n",
    "def train_ADAM_nb1_pl(trainX, trainy, Spec, batch_forward, grad, W = \"\", b = \"\"):\n",
    "    \"\"\"train model with ADAM\"\"\"\n",
    "    \n",
    "    nBatch, M, L, std_const, dx, dm, dz, alpha, nP = Spec\n",
    "    \n",
    "    # parameters for ADAM algorithm\n",
    "    beta1 = 0.9\n",
    "    beta2 = 0.999\n",
    "    eps_stable = 1e-8\n",
    "    \n",
    "    # initiate parameters for ADAM\n",
    "    # need to use separate lines of codes otherwise they share the same reference\n",
    "    v_dW, v_db = init_random_nb1(dx, dm, dz, option = \"zeros\")\n",
    "    s_dW, s_db = init_random_nb1(dx, dm, dz, option = \"zeros\")\n",
    "    vc_dW, vc_db = init_random_nb1(dx, dm, dz, option = \"zeros\")\n",
    "    sc_dW, sc_db = init_random_nb1(dx, dm, dz, option = \"zeros\")\n",
    "    num_para = len(v_dW)\n",
    "    \n",
    "    # weights and bias initialization\n",
    "    if len(W) == len(b) == 0:\n",
    "        W, b = init_random_nb1(dx, dm, dz)\n",
    "    \n",
    "    q_W1, q_W2, q_W3, p_W4, p_W5 = W\n",
    "    q_b1, q_b2, q_b3, p_b4, p_b5 = b\n",
    "\n",
    "    # loss\n",
    "    loss = np.zeros(nBatch)\n",
    "    \n",
    "    for iB in range(nBatch):\n",
    "        # sample a random batch\n",
    "        batchX, batchy = get_Batch_nb(M, trainX, trainy)\n",
    "        X = batchX.reshape(M, dx) / std_const\n",
    "\n",
    "        # sample random noise for latent variable, assuming each batch uses the same random noise for now\n",
    "        eps = np.random.randn(L, dz)\n",
    "\n",
    "        y, q_h1, p_h2, q_mu, q_s2, z, loss[iB] = batch_forward(Spec, X, W, b, eps)\n",
    "        \n",
    "        dJ_dW1, dJ_dW2, dJ_dW3, dJ_dW4, dJ_dW5, dJ_db1, dJ_db2, dJ_db3, dJ_db4, dJ_db5 =\\\n",
    "        grad(X, y, q_W1, q_W2, q_W3, p_W4, p_W5, q_b1, q_b2, q_b3, p_b4, p_b5, q_h1, p_h2, q_mu, q_s2, z, eps)\n",
    "        \n",
    "        dW = [dJ_dW1, dJ_dW2, dJ_dW3, dJ_dW4, dJ_dW5]\n",
    "        db = [dJ_db1, dJ_db2, dJ_db3, dJ_db4, dJ_db5]\n",
    "        \n",
    "        # ADAM\n",
    "        for i in range(num_para):\n",
    "            v_dW[i] = beta1*v_dW[i] + (1-beta1)*dW[i]\n",
    "            v_db[i] = beta1*v_db[i] + (1-beta1)*db[i]\n",
    "            s_dW[i] = beta2*s_dW[i] + (1-beta2)*np.power(dW[i],2)\n",
    "            s_db[i] = beta2*s_db[i] + (1-beta2)*np.power(db[i],2)\n",
    "        \n",
    "            vc_dW[i] = v_dW[i]/(1-beta1**(iB+1))\n",
    "            vc_db[i] = v_db[i]/(1-beta1**(iB+1))\n",
    "            sc_dW[i] = s_dW[i]/(1-beta2**(iB+1))\n",
    "            sc_db[i] = s_db[i]/(1-beta2**(iB+1))\n",
    "        \n",
    "            dW[i] = vc_dW[i] / (np.sqrt(sc_dW[i]) + eps_stable)\n",
    "            db[i] = vc_db[i] / (np.sqrt(sc_db[i]) + eps_stable)\n",
    "        \n",
    "        W, b = para_update_nb(W, b, dW, db, alpha)\n",
    "\n",
    "    return Spec, W, b, loss"
   ]
  },
  {
   "cell_type": "markdown",
   "metadata": {},
   "source": [
    "#### 7.5.2 Model v3 Profiling"
   ]
  },
  {
   "cell_type": "markdown",
   "metadata": {},
   "source": [
    "The following are codes used for profiling. Currently comma out for documentation"
   ]
  },
  {
   "cell_type": "code",
   "execution_count": 73,
   "metadata": {},
   "outputs": [],
   "source": [
    "# profile_filename = get_filename(\"profiling_v5\", ext = \".prof\")"
   ]
  },
  {
   "cell_type": "code",
   "execution_count": 74,
   "metadata": {},
   "outputs": [],
   "source": [
    "# %prun -q -D $profile_filename train_ADAM_nb1_pl(\\\n",
    "#            trainX, trainy, Spec, batch_forward_vec_nb2, grad_vec2_nb2)"
   ]
  },
  {
   "cell_type": "code",
   "execution_count": 75,
   "metadata": {},
   "outputs": [],
   "source": [
    "# p = pstats.Stats(profile_filename)\n",
    "# p.sort_stats('time', 'cumulative').print_stats(5)\n",
    "# pass"
   ]
  },
  {
   "cell_type": "markdown",
   "metadata": {},
   "source": [
    "### 7.6 Model Correction\n",
    "\n",
    "While working on the final report, VR noted that the current implementation uses the latent variable sample for all training data in a mini-batch. Theoretically this is not mathematically correct, and we suspect this is the reason for some weird patterns in the training results, for example, instead of the consistent decreasing trend we previously saw when train_ADAM was first implemented, the loss plot from the final model shows rather large fluctuation.\n",
    "\n",
    "For this version I start with the final codings.\n",
    "\n",
    "Starting from this version, there's no need to match any numbering to the final report since it is already done. This version is set to v4. Because tis is just for correction, no profiling was done.\n",
    "\n",
    "#### 7.6.1 Model v4 Codes"
   ]
  },
  {
   "cell_type": "code",
   "execution_count": 76,
   "metadata": {},
   "outputs": [],
   "source": [
    "@njit(cache=True)\n",
    "def grad_vec2_nb3(X, y, q_W1, q_W2, q_W3, p_W4, p_W5, q_b1, q_b2, q_b3, p_b4, p_b5, q_h1, p_h2, q_mu, q_s2, z, eps):\n",
    "    \"\"\"\"\n",
    "    batch gradient calculation - vectorized version\n",
    "    not using lists for parameters to enable numba nopython\n",
    "    \n",
    "    inputs:\n",
    "        X: Data [M by dx]\n",
    "        y: Model results [M by L by dx]\n",
    "        q_W1 (dm by dx), q_W2 (dz by dm), q_W3 (dz by dm): Weights for encoder\n",
    "        p_W4 (dm by dz), p_W5 (dx by dm): Weights for decoder\n",
    "        q_b1, q_b2, q_b3: Bias for encoder\n",
    "        p_b4, p_b5: Bias for decoder\n",
    "        q_h1 (M by dm), p_h2 (M by L by dm): intermediate activation variables\n",
    "        eps (M by L by dz), z (M by L by dz), q_s2 (M by dz), q_mu (M by dz): for sampling latent variables from posterior\n",
    "    \"\"\"\n",
    "    \n",
    "    M, L, d = y.shape\n",
    "    \n",
    "    # initialize gradient variables\n",
    "    \n",
    "    # L: loss; R: regularization; J: total target\n",
    "    dL_dW1 = dJ_dW1 = dR_dW1 = np.zeros_like(q_W1)\n",
    "    dL_db1 = dJ_db1 = dR_db1 = np.zeros_like(q_b1)\n",
    "    dL_dW2 = dJ_dW2 = dR_dW2 = np.zeros_like(q_W2)\n",
    "    dL_db2 = dJ_db2 = dR_db2 = np.zeros_like(q_b2)\n",
    "    dL_dW3 = dJ_dW3 = dR_dW3 = np.zeros_like(q_W3)\n",
    "    dL_db3 = dJ_db3 = dR_db3 = np.zeros_like(q_b3)\n",
    "    dL_dW4 = dJ_dW4 = np.zeros_like(p_W4)\n",
    "    dL_db4 = dJ_db4 = np.zeros_like(p_b4)    \n",
    "    dL_dW5 = dJ_dW5 = np.zeros_like(p_W5)\n",
    "    dL_db5 = dJ_db5 = np.zeros_like(p_b5)\n",
    "\n",
    "    # back propagation for loss\n",
    "    for iL in range(L):\n",
    "        y_iL = y[:,iL,:] # M by dx\n",
    "        p_h2_iL = p_h2[:,iL,:] # M by dm\n",
    "        z_iL = z[:,iL,:] # M by dz\n",
    "        \n",
    "        L_d4 = y_iL - X # M by dx\n",
    "        dL_dW5 = dL_dW5 + L_d4.T @ p_h2_iL # dx by dm\n",
    "        dL_db5 = dL_db5 + np.sum(L_d4, axis = 0).reshape(-1,1) # dx by 1\n",
    "        \n",
    "        L_d3 = L_d4 @ p_W5 * tanh_gradient_nb(p_h2_iL) # M by dm\n",
    "        dL_dW4 = dL_dW4 + L_d3.T @ z_iL # dm by dz\n",
    "        dL_db4 = dL_db4 + np.sum(L_d3, axis = 0).reshape(-1,1) # dm by 1\n",
    "        \n",
    "        L_d22 = L_d3 @ p_W4 * eps[:,iL,] * np.sqrt(q_s2) / 2  # M by dz\n",
    "        dL_dW3 = dL_dW3 + L_d22.T @ q_h1 # dz by dm\n",
    "        dL_db3 = dL_db3 + np.sum(L_d22, axis = 0).reshape(-1,1) # dz by 1\n",
    "        \n",
    "        L_d21 = L_d3 @ p_W4 # M by dz\n",
    "        dL_dW2 = dL_dW2 + L_d21.T @ q_h1 # dz by dm\n",
    "        dL_db2 = dL_db2 + np.sum(L_d21, axis = 0).reshape(-1,1) # dz by 1\n",
    "\n",
    "        L_d1 = (L_d21 @ q_W2 + L_d22 @ q_W3) * tanh_gradient_nb(q_h1) # M by dm\n",
    "        dL_dW1 = dL_dW1 + L_d1.T @ X # dm by dx\n",
    "        dL_db1 = dL_db1 + np.sum(L_d1, axis = 0).reshape(-1,1) # dm by 1\n",
    "\n",
    "    # back propagation for regularization\n",
    "    R_d22 = (q_s2 - 1)/2 # M by dz\n",
    "    dR_dW3 = dR_dW3 + R_d22.T @ q_h1 # dz by dm\n",
    "    dR_db3 = dR_db3 + np.sum(R_d22, axis = 0).reshape(-1,1) # dz by 1\n",
    "    \n",
    "    R_d21 = q_mu # M by dz\n",
    "    dR_dW2 = dR_dW2 + R_d21.T @ q_h1 # dz by dm\n",
    "    dR_db2 = dR_db2 + np.sum(R_d21, axis = 0).reshape(-1,1) # dm by 1\n",
    "\n",
    "    R_d1 = (R_d22 @ q_W3 + R_d21 @ q_W2) * tanh_gradient_nb(q_h1) # M by dm\n",
    "    dR_dW1 = dR_dW1 + R_d1.T @ X # dm by dx\n",
    "    dR_db1 = dR_db1 + np.sum(R_d1, axis = 0).reshape(-1,1) # dm by 1\n",
    "    \n",
    "    dJ_dW1 = dL_dW1 / L / M + dR_dW1 / M\n",
    "    dJ_db1 = dL_db1 / L / M + dR_db1 / M\n",
    "    dJ_dW2 = dL_dW2 / L / M + dR_dW2 / M\n",
    "    dJ_db2 = dL_db2 / L / M + dR_db2 / M    \n",
    "    dJ_dW3 = dL_dW3 / L / M + dR_dW3 / M\n",
    "    dJ_db3 = dL_db3 / L / M + dR_db3 / M\n",
    "    dJ_dW4 = dL_dW4 / L / M\n",
    "    dJ_db4 = dL_db4 / L / M \n",
    "    dJ_dW5 = dL_dW5 / L / M\n",
    "    dJ_db5 = dL_db5 / L / M\n",
    "    \n",
    "    return dJ_dW1, dJ_dW2, dJ_dW3, dJ_dW4, dJ_dW5, dJ_db1, dJ_db2, dJ_db3, dJ_db4, dJ_db5"
   ]
  },
  {
   "cell_type": "code",
   "execution_count": 77,
   "metadata": {},
   "outputs": [],
   "source": [
    "@jit(cache=True)\n",
    "def train_AEVB_v4(trainX, trainy, nBatch, M = 100, L = 1, std_const = 255, dm = 500, dz = 3, alpha = 0.005, beta1 = 0.9, beta2 = 0.999, eps_stable = 1e-8, W = \"\", b = \"\", nP = 0):\n",
    "    \"\"\"\n",
    "    Internal notes: with model correction for latent variable sampling.\n",
    "    \n",
    "    AEVB model as described in the paper\n",
    "    Diederik P Kingma, Max Welling\n",
    "    Auto-Encoding Variational Bayes (2013).\n",
    "    \n",
    "    Training using ADAM algorithm as described in the paper\n",
    "    Diederik P Kingma, Jimmy Ba\n",
    "    Adam: A Method for Stochastic Optimization (2014).\n",
    "    \n",
    "    Input parameters：\n",
    "    ----------\n",
    "    trainX: array_like\n",
    "            Training dataset inputs.\n",
    "            Dimension: number of sample by dx\n",
    "    trainy: array_like\n",
    "            Training dataset labels. \n",
    "            This variable is not currently used in the function. For further developments.\n",
    "    nBatch: integer\n",
    "            Number of mini-batch to train.\n",
    "    M: integer, optional\n",
    "            Size of mini-batch.\n",
    "            Default at 100 as recommended in the paper.\n",
    "    L: integer, optional\n",
    "            Number of latent variable to sample.\n",
    "            Default at 1 as recommended in the paper.\n",
    "    std_const: scalar, optional\n",
    "            Normlizing constant for data.\n",
    "            Currently default at 255 which is usually used for black and white image data.\n",
    "    dm: integer, optional\n",
    "            Dimension for middle layer of the encoder and decoder.\n",
    "            Default at 500 which used for MNIST dataset in the paper.\n",
    "    dz: integer, optional\n",
    "            Dimension for latent variables. \n",
    "            Currently default at 3\n",
    "    alpha: float, optional\n",
    "            Learning rate.\n",
    "            Default at 0.005.\n",
    "    beta1: float, optional\n",
    "            Parameter for ADAM.\n",
    "            Default at 0.9.\n",
    "    beta2: float, optional\n",
    "            Parameter for ADAM.\n",
    "            Default at 0.999.\n",
    "    eps_stable: float, optional\n",
    "            Parameter for ADAM.\n",
    "            Default at 1e-08.\n",
    "    W: list, optional\n",
    "            List of model weights parameters, same format as function output variable W.\n",
    "            In case user wants to start training from existing parameters.\n",
    "    b: list, optional\n",
    "            List of model bias parameters, same format as function output variable b.\n",
    "            In case user wants to start training from existing parameters.\n",
    "    nP: integer, optional\n",
    "            If specified with non-zero number, function will print out \n",
    "            status message after completing every nP batches.\n",
    "    \n",
    "    Returns:\n",
    "    ----------\n",
    "    W: list\n",
    "            List of model weights parameters in the order of: q_W1, q_W2, q_W3, p_W4, p_W5.\n",
    "            q_W1, q_W2, q_W3: weights for Gaussian MLP encoder as specified in paper Appendix C.\n",
    "            p_W4, p_W5: weights for Bernoulli MLP decoder as specified in paper Appendix C\n",
    "    b: list\n",
    "            List of model bias parameters in the order of q_b1, q_b2, q_b3, p_b4, p_b5.\n",
    "            q_b1, q_b2, q_b3: bias for Gaussian MLP encoder as specified in paper Appendix C.\n",
    "            p_b4, p_b5: weights for Bernoulli MLP decoder as specified in paper Appendix C.\n",
    "    loss: array-like\n",
    "            Array which stores total loss for each mini-batch.\n",
    "    \"\"\"\n",
    "    \n",
    "    dx = trainX.shape[1]\n",
    "    Spec = [nBatch, M, L, std_const, dx, dm, dz, alpha, nP]\n",
    "    \n",
    "    # initiate parameters for ADAM\n",
    "    # need to use separate lines of codes otherwise they share the same reference\n",
    "    v_dW, v_db = init_random_nb1(dx, dm, dz, option = \"zeros\")\n",
    "    s_dW, s_db = init_random_nb1(dx, dm, dz, option = \"zeros\")\n",
    "    vc_dW, vc_db = init_random_nb1(dx, dm, dz, option = \"zeros\")\n",
    "    sc_dW, sc_db = init_random_nb1(dx, dm, dz, option = \"zeros\")\n",
    "    num_para = len(v_dW)\n",
    "    \n",
    "    # weights and bias initialization\n",
    "    if len(W) == len(b) == 0:\n",
    "        W, b = init_random_nb1(dx, dm, dz)\n",
    "\n",
    "    # loss\n",
    "    loss = np.zeros(nBatch)\n",
    "    \n",
    "    for iB in range(nBatch):\n",
    "        # sample a random batch\n",
    "        batchX, batchy = get_Batch_nb(M, trainX, trainy)\n",
    "        X = batchX.reshape(M, dx) / std_const\n",
    "\n",
    "        # sample random noise for latent variable, assuming each batch uses the same random noise for now\n",
    "        eps = np.random.randn(M, L, dz)\n",
    "\n",
    "        y, q_h1, p_h2, q_mu, q_s2, z, loss[iB] = batch_forward_vec_nb2(Spec, X, W, b, eps)\n",
    "            \n",
    "        q_W1, q_W2, q_W3, p_W4, p_W5 = W\n",
    "        q_b1, q_b2, q_b3, p_b4, p_b5 = b\n",
    "        \n",
    "        dJ_dW1, dJ_dW2, dJ_dW3, dJ_dW4, dJ_dW5, dJ_db1, dJ_db2, dJ_db3, dJ_db4, dJ_db5 =\\\n",
    "        grad_vec2_nb3(X, y, q_W1, q_W2, q_W3, p_W4, p_W5, q_b1, q_b2, q_b3, p_b4, p_b5, q_h1, p_h2, q_mu, q_s2, z, eps)\n",
    "        \n",
    "        dW = [dJ_dW1, dJ_dW2, dJ_dW3, dJ_dW4, dJ_dW5]\n",
    "        db = [dJ_db1, dJ_db2, dJ_db3, dJ_db4, dJ_db5]\n",
    "        \n",
    "        # ADAM\n",
    "        for i in range(num_para):\n",
    "            v_dW[i] = beta1*v_dW[i] + (1-beta1)*dW[i]\n",
    "            v_db[i] = beta1*v_db[i] + (1-beta1)*db[i]\n",
    "            s_dW[i] = beta2*s_dW[i] + (1-beta2)*np.power(dW[i],2)\n",
    "            s_db[i] = beta2*s_db[i] + (1-beta2)*np.power(db[i],2)\n",
    "        \n",
    "            vc_dW[i] = v_dW[i]/(1-beta1**(iB+1))\n",
    "            vc_db[i] = v_db[i]/(1-beta1**(iB+1))\n",
    "            sc_dW[i] = s_dW[i]/(1-beta2**(iB+1))\n",
    "            sc_db[i] = s_db[i]/(1-beta2**(iB+1))\n",
    "        \n",
    "            dW[i] = vc_dW[i] / (np.sqrt(sc_dW[i]) + eps_stable)\n",
    "            db[i] = vc_db[i] / (np.sqrt(sc_db[i]) + eps_stable)\n",
    "        \n",
    "        W, b = para_update_nb(W, b, dW, db, alpha)\n",
    "        \n",
    "        if (nP != 0) and (iB+1) % nP == 0:\n",
    "            print(\"Batch \" + str(iB+1) + \" completed.\")\n",
    "\n",
    "    return W, b, loss"
   ]
  },
  {
   "cell_type": "markdown",
   "metadata": {},
   "source": [
    "### 7.7 pybind11 + Eigen\n",
    "\n",
    "Some notes for working with pybind11 + Eigen.\n",
    "\n",
    "1. I guess the reason why it's called \"pybind11\" is because it works with c++11. So any features that are only on c++14 or c++17 does not work.\n",
    "2. Suppose I write a cpp file and try to use cppimport to read it in and bind it to a variable called eigen_t. The first thing that needs to be done is to get the cpp file pass the compiler. Otherwise will keep getting \"gcc\" errors when trying to bind the eigen library to python variable. It's very tricky to know exactly where's the problems. Here I list down a few common ones to check first:\n",
    "    - forgetting \";\" at the end of sentence\n",
    "    - forget to declare variable\n",
    "    - function input/ output doesn't match\n",
    "3. If checked all obvious reasons and still cannot figure out why, the most efficient way (compared to random guess and wait for miracle to show by themselves), is to write cpp file to check. In that way, the compiler error would be popped up with more details. Refer to section 7.7.1 for the basic set up to do testing. If anything unclear or cannot run, google, or refer back to 663 notebook S12_CPP.\n",
    "4. Before the cpp file pass the compiler, basically the binding to the pythong variable won't work yet. And once it passes the compiler, it'll be assigned to the python variable, for example call it \"eigen_t\" here. After this, I can still make changes to the cpp file by overwriting it, but when I read it back, the new information doesn't seem to be able to automatically overwrite \"eigen_t\". For example, if I make change to one function to correct it, it won't flow through, or if I add a new function in the cpp file, it won't show up in python by simply re-reading the file. Here I need to restart the kernel for it to work. [perhaps should do some research to see whether there are ways to force it to happen].\n",
    "\n",
    "However, this turns out to be slower than our last version."
   ]
  },
  {
   "cell_type": "markdown",
   "metadata": {},
   "source": [
    "#### 7.7.1 C++ Codes Check"
   ]
  },
  {
   "cell_type": "markdown",
   "metadata": {},
   "source": [
    "Codes in this section is to check compiler errors for the c++ codes. I've made everything into text format for now because ... not sure why, if I have jupyter workbook run through these codes, then the \"grad_vec_nb3\" function will die (kernel die) while compiling through numba..."
   ]
  },
  {
   "cell_type": "markdown",
   "metadata": {},
   "source": [
    "%%file test_eigen.cpp\n",
    "#include <algorithm> // std::random_shuffle\n",
    "#include <random>\n",
    "#include <functional>\n",
    "#include <Eigen/Dense>\n",
    "#include <cstdlib> // std::rand, std::srand\n",
    "#include <iostream>\n",
    "#include <fstream>\n",
    "\n",
    "using namespace Eigen;\n",
    "using std::default_random_engine;\n",
    "using std::normal_distribution;\n",
    "using std::random_shuffle;\n",
    "using std::rand;\n",
    "using std::srand;\n",
    "using std::tuple;\n",
    "using std::make_tuple;\n",
    "using std::string;\n",
    "using std::tie;\n",
    "        \n",
    "using std::cout;\n",
    "using std::endl;\n",
    "using std::ofstream;\n",
    "\n",
    "\n",
    "// testing print in C++\n",
    "int test_print(int M){\n",
    "    for (int i=0; i<M; i++) {\n",
    "        cout << i << \"\\n\";\n",
    "    }\n",
    "    \n",
    "    return 5;\n",
    "}\n",
    "\n",
    "                    \n",
    "int main() \n",
    "{\n",
    "    srand(time(NULL));\n",
    "    string s = \"zeros\";\n",
    "    MatrixXd q_W1, p_W5, X;\n",
    "    int dm = 2;\n",
    "    int dx = 5;\n",
    "    int dz = 1;\n",
    "    int M = 3;\n",
    "\n",
    "    q_W1 = MatrixXd::Random(dm, dx);\n",
    "   \n",
    "    VectorXd q_b1 = VectorXd::Zero(dm);\n",
    "    \n",
    "    X = MatrixXd::Constant(M, dx, 1);\n",
    "    \n",
    "    int nP = 2;\n",
    "    \n",
    "    if ((nP !=0) && (2 % nP == 0)){\n",
    "        nP = 1;\n",
    "    }\n",
    "    \n",
    "    MatrixXd temp1, temp2;\n",
    "    cout << \"X\\n\" << X << \"\\n\";\n",
    "    cout << \"nP\" << nP << \"\\n\";\n",
    "\n",
    "}"
   ]
  },
  {
   "cell_type": "markdown",
   "metadata": {},
   "source": [
    "%%bash\n",
    "\n",
    "g++ -o test_eigen.exe test_eigen.cpp -std=c++11 -I./eigen"
   ]
  },
  {
   "cell_type": "markdown",
   "metadata": {},
   "source": [
    "%%bash\n",
    "\n",
    "./test_eigen.exe"
   ]
  },
  {
   "cell_type": "markdown",
   "metadata": {},
   "source": [
    "The following section is for testing with pybind11 + Eigen. Not really used in the final eigen library."
   ]
  },
  {
   "cell_type": "code",
   "execution_count": 78,
   "metadata": {},
   "outputs": [],
   "source": [
    "import cppimport"
   ]
  },
  {
   "cell_type": "code",
   "execution_count": 79,
   "metadata": {},
   "outputs": [
    {
     "name": "stdout",
     "output_type": "stream",
     "text": [
      "Overwriting eigen_testing.cpp\n"
     ]
    }
   ],
   "source": [
    "%%file eigen_testing.cpp\n",
    "<%\n",
    "cfg['compiler_args'] = ['-std=c++11']\n",
    "cfg['include_dirs'] = ['eigen']\n",
    "setup_pybind11(cfg)\n",
    "%>\n",
    "\n",
    "// v1.0\n",
    "#include <pybind11/pybind11.h>\n",
    "#include <pybind11/eigen.h>\n",
    "\n",
    "#include <Eigen/Dense>\n",
    "\n",
    "namespace py = pybind11;\n",
    "\n",
    "// matrix multiplication\n",
    "Eigen::MatrixXd mmult(Eigen::MatrixXd m1, Eigen::MatrixXd m2) {\n",
    "    return m1 * m2;\n",
    "}\n",
    "    \n",
    "// element wise multiplication\n",
    "Eigen::MatrixXd emult(Eigen::MatrixXd m1, Eigen::MatrixXd m2) {\n",
    "    return m1.array() * m2.array();\n",
    "}\n",
    "    \n",
    "// matrix addition    \n",
    "Eigen::MatrixXd add(Eigen::MatrixXd m1, Eigen::MatrixXd m2) {\n",
    "    return m1 + m2;\n",
    "}   \n",
    "\n",
    "// matrix substraction \n",
    "Eigen::MatrixXd substract(Eigen::MatrixXd m1, Eigen::MatrixXd m2) {\n",
    "    return m1 - m2;\n",
    "} \n",
    "\n",
    "// initialize matrix with all zero like input matrix\n",
    "Eigen::MatrixXd zeros_like(Eigen::MatrixXd m1) {\n",
    "    Eigen::MatrixXd m2 = Eigen::MatrixXd::Zero(m1.rows(), m1.cols());\n",
    "    return m2;\n",
    "} \n",
    "\n",
    "PYBIND11_MODULE(eigen_testing, m) {\n",
    "    m.doc() = \"auto-compiled c++ extension\";\n",
    "    m.def(\"mmult\", &mmult);\n",
    "    m.def(\"emult\", &emult);\n",
    "    m.def(\"add\", &add);\n",
    "    m.def(\"substract\", &substract);\n",
    "    m.def(\"zeros_like\", &zeros_like);\n",
    "}"
   ]
  },
  {
   "cell_type": "code",
   "execution_count": 80,
   "metadata": {},
   "outputs": [
    {
     "name": "stdout",
     "output_type": "stream",
     "text": [
      "[[ 1  2  1]\n",
      " [ 2  1  0]\n",
      " [-1  1  2]]\n",
      "[[4. 4. 4.]\n",
      " [3. 3. 3.]\n",
      " [2. 2. 2.]]\n",
      "[[ 1.  2.  1.]\n",
      " [ 2.  1.  0.]\n",
      " [-1.  1.  2.]]\n",
      "[[2. 3. 2.]\n",
      " [3. 2. 1.]\n",
      " [0. 2. 3.]]\n",
      "[[ 0.  1.  0.]\n",
      " [ 1.  0. -1.]\n",
      " [-2.  0.  1.]]\n",
      "[[0. 0. 0.]\n",
      " [0. 0. 0.]\n",
      " [0. 0. 0.]]\n"
     ]
    }
   ],
   "source": [
    "eigen_testing = cppimport.imp(\"eigen_testing\")\n",
    "\n",
    "A = np.array([[1,2,1],\n",
    "              [2,1,0],\n",
    "              [-1,1,2]])\n",
    "\n",
    "B = np.ones((3,3))\n",
    "\n",
    "print(A)\n",
    "print(eigen_testing.mmult(A,B))\n",
    "print(eigen_testing.emult(A,B))\n",
    "print(eigen_testing.add(A,B))\n",
    "print(eigen_testing.substract(A,B))\n",
    "print(eigen_testing.zeros_like(B))"
   ]
  },
  {
   "cell_type": "markdown",
   "metadata": {},
   "source": [
    "#### 7.7.2 Model v5 Codes\n",
    "\n",
    "##### Pybind + Eigen library for Model v5"
   ]
  },
  {
   "cell_type": "code",
   "execution_count": 81,
   "metadata": {},
   "outputs": [
    {
     "name": "stdout",
     "output_type": "stream",
     "text": [
      "Overwriting eigen_lib.cpp\n"
     ]
    }
   ],
   "source": [
    "%%file eigen_lib.cpp\n",
    "<%\n",
    "cfg['compiler_args'] = ['-std=c++11']\n",
    "cfg['include_dirs'] = ['eigen']\n",
    "setup_pybind11(cfg)\n",
    "%>\n",
    "\n",
    "#include <pybind11/pybind11.h>\n",
    "#include <pybind11/eigen.h>\n",
    "#include <algorithm> // std::random_shuffle\n",
    "#include <random>\n",
    "#include <functional>\n",
    "#include <Eigen/Dense>\n",
    "#include <cstdlib> // std::rand, std::srand\n",
    "\n",
    "namespace py = pybind11;\n",
    "using namespace Eigen;\n",
    "using std::default_random_engine;\n",
    "using std::normal_distribution;\n",
    "using std::random_shuffle;\n",
    "using std::rand;\n",
    "using std::srand;\n",
    "using std::tuple;\n",
    "using std::make_tuple;\n",
    "using std::string;\n",
    "using std::tie;\n",
    "\n",
    "// start random number engine with fixed seed\n",
    "default_random_engine re{421};\n",
    "normal_distribution<double> norm(0,1); // mean and standard deviation\n",
    "auto rnorm = bind(norm, re);\n",
    "\n",
    "// sigmoid function\n",
    "MatrixXd sigmoid(Ref<const MatrixXd> m1) {\n",
    "    return 1/(1+ (-m1).array().exp());\n",
    "}   \n",
    "    \n",
    "// gradient of sigmoid function\n",
    "MatrixXd sigmoid_gradient(Ref<const MatrixXd> m1) {\n",
    "    return m1.array() * (1 - m1.array());\n",
    "}\n",
    "\n",
    "// gradient of tanh function\n",
    "MatrixXd tanh_gradient(Ref<const MatrixXd> m1) {\n",
    "    return 1- m1.array().pow(2);\n",
    "}\n",
    "\n",
    "// tanh function\n",
    "MatrixXd mtanh(Ref<const MatrixXd> m1) {\n",
    "    return m1.array().tanh();\n",
    "}\n",
    "\n",
    "int myrandom (int i){\n",
    "    return rand()%i;\n",
    "}\n",
    "\n",
    "// get random mini-batch\n",
    "MatrixXd get_batch(int M, Ref<const MatrixXd> trainX){\n",
    "    int N = trainX.rows();\n",
    "    int dx = trainX.cols();\n",
    "    MatrixXd batchX = MatrixXd::Zero(M, dx);\n",
    "    \n",
    "    VectorXi indices = VectorXi::LinSpaced(N, 1, N);\n",
    "    random_shuffle(indices.begin(), indices.end(), myrandom);\n",
    "    \n",
    "    for (int i=0; i<M; i++) {\n",
    "        batchX.row(i) = trainX.row(indices(i));\n",
    "    }\n",
    "    \n",
    "    return batchX;\n",
    "}\n",
    "\n",
    "// initialize variables\n",
    "tuple<MatrixXd, MatrixXd, MatrixXd, MatrixXd, MatrixXd, VectorXd, VectorXd, VectorXd, VectorXd, VectorXd>\n",
    "init_para(int dx, int dm, int dz, string option){\n",
    "    \n",
    "    MatrixXd q_W1, q_W2, q_W3, p_W4, p_W5;\n",
    "    VectorXd q_b1, q_b2, q_b3, p_b4, p_b5;\n",
    "    double bound;\n",
    "    \n",
    "    // weights initialization\n",
    "    if (option == \"zeros\"){ // initialize all zero for ADAM\n",
    "        q_W1 = MatrixXd::Zero(dm, dx);\n",
    "        p_W5 = MatrixXd::Zero(dx, dm);\n",
    "        q_W2 = MatrixXd::Zero(dz, dm);\n",
    "        q_W3 = MatrixXd::Zero(dz, dm);\n",
    "        p_W4 = MatrixXd::Zero(dm, dz);\n",
    "    } else if (option == \"xavier\") { // xavier initialization\n",
    "        bound = sqrt(6)/ sqrt(dx + dm);\n",
    "        q_W1 = MatrixXd::Random(dm, dx) * bound;\n",
    "        p_W5 = MatrixXd::Random(dx, dm) * bound;\n",
    "        bound = sqrt(6)/ sqrt(dm + dz);\n",
    "        q_W2 = MatrixXd::Random(dz, dm) * bound;\n",
    "        q_W3 = MatrixXd::Random(dz, dm) * bound;\n",
    "        p_W4 = MatrixXd::Random(dm, dz) * bound;\n",
    "    }\n",
    "    \n",
    "    // bias initialization\n",
    "    q_b1 = VectorXd::Zero(dm);\n",
    "    p_b5 = VectorXd::Zero(dx);  \n",
    "    q_b2 = VectorXd::Zero(dz);\n",
    "    q_b3 = VectorXd::Zero(dz);\n",
    "    p_b4 = VectorXd::Zero(dm);\n",
    "   \n",
    "    return make_tuple(q_W1, q_W2, q_W3, p_W4, p_W5, q_b1, q_b2, q_b3, p_b4, p_b5);\n",
    "}\n",
    "\n",
    "// encoder forward\n",
    "tuple<MatrixXd, MatrixXd, MatrixXd, MatrixXd>\n",
    "encoder_forward(Ref<const MatrixXd> X, Ref<const MatrixXd> q_W1, Ref<const MatrixXd> q_W2, Ref<const MatrixXd> q_W3,\n",
    "               Ref<const VectorXd> q_b1, Ref<const VectorXd> q_b2, Ref<const VectorXd> q_b3){\n",
    "    \n",
    "    MatrixXd q_a1, q_h1, q_mu, q_a2, q_s2;\n",
    "    \n",
    "    q_a1 = (q_W1 * X.transpose()).colwise() + q_b1; // dm by M\n",
    "    q_h1 = mtanh(q_a1); // dm by M\n",
    "    q_mu = (q_W2 * q_h1).colwise() + q_b2; // dz by M\n",
    "    q_a2 = (q_W3 * q_h1).colwise() + q_b3; // dz by M\n",
    "    q_s2 = q_a2.array().exp(); // dz by M\n",
    "    \n",
    "    return make_tuple(q_h1.transpose(), q_a2.transpose(), q_mu.transpose(), q_s2.transpose());\n",
    "\n",
    "}\n",
    "\n",
    "// decoder forward\n",
    "tuple<MatrixXd, MatrixXd>\n",
    "decoder_forward(Ref<const MatrixXd> p_W4, Ref<const MatrixXd> p_W5, Ref<const VectorXd> p_b4, \n",
    "                Ref<const VectorXd> p_b5, Ref<const MatrixXd> z){\n",
    "    \n",
    "    MatrixXd p_a3, p_h2, p_a4, y;\n",
    "    \n",
    "    p_a3 = (z * p_W4.transpose()).rowwise() + p_b4.transpose(); // M by dm\n",
    "    p_h2 = mtanh(p_a3); // M by dm\n",
    "    p_a4 = (p_h2 * p_W5.transpose()).rowwise() + p_b5.transpose(); // M by dx\n",
    "    y = sigmoid(p_a4); // M by dx\n",
    "    \n",
    "    return make_tuple(y, p_h2);\n",
    "\n",
    "}\n",
    "\n",
    "// Gaussian encoder back-propagation\n",
    "tuple<MatrixXd, MatrixXd, MatrixXd, VectorXd, VectorXd, VectorXd>\n",
    "encoder_back(Ref<const MatrixXd> X, Ref<const MatrixXd> q_W2, Ref<const MatrixXd> q_W3,\n",
    "       Ref<const MatrixXd> q_s2, Ref<const MatrixXd> q_h1, Ref<const MatrixXd> q_mu, \n",
    "             Ref<const MatrixXd> d22, Ref<const MatrixXd> d21){\n",
    "\n",
    "    // d22, d21: M by dz\n",
    "    \n",
    "    MatrixXd d1;\n",
    "    MatrixXd dW1, dW2, dW3;\n",
    "    VectorXd db1, db2, db3;\n",
    "    \n",
    "    dW3 = d22.transpose() * q_h1; // dz by dm\n",
    "    db3 = d22.colwise().sum().transpose(); // dz by 1\n",
    "\n",
    "    dW2 = d21.transpose() * q_h1; // dz by dm\n",
    "    db2 = d21.colwise().sum().transpose(); // dm by 1\n",
    "    \n",
    "    d1 = (d22 * q_W3 + d21 * q_W2).array() * tanh_gradient(q_h1).array(); // M by dm\n",
    "    dW1 = d1.transpose() * X; // dm by dx\n",
    "    db1 = d1.colwise().sum().transpose(); // dm by 1\n",
    "    \n",
    "    return make_tuple(dW1, dW2, dW3, db1, db2, db3);\n",
    "\n",
    "}\n",
    "\n",
    "// Bernoulli decoder back-propagation\n",
    "tuple<MatrixXd, MatrixXd, MatrixXd, MatrixXd, MatrixXd, VectorXd, VectorXd, VectorXd, VectorXd, VectorXd>\n",
    "decoder_back(Ref<const MatrixXd> X, Ref<const MatrixXd> q_W2, Ref<const MatrixXd> q_W3, Ref<const MatrixXd> p_W4,\n",
    "        Ref<const MatrixXd> p_W5, Ref<const MatrixXd> q_s2, Ref<const MatrixXd> q_h1, Ref<const MatrixXd> q_mu, \n",
    "             Ref<const MatrixXd> p_h2, Ref<const MatrixXd> eps, Ref<const MatrixXd> z, Ref<const MatrixXd> d4){\n",
    "\n",
    "    // d4 (M by dx); p_h2 (M by dm); eps (M by dz); z (M by dz)\n",
    "    \n",
    "    MatrixXd d1, d21, d22, d3;\n",
    "    MatrixXd dW1, dW2, dW3, dW4, dW5;\n",
    "    VectorXd db1, db2, db3, db4, db5;\n",
    "    \n",
    "    dW5 = d4.transpose() * p_h2; // dx by dm\n",
    "    db5 = d4.colwise().sum().transpose(); // dx by 1\n",
    "    \n",
    "    d3 = (d4 * p_W5).array() * tanh_gradient(p_h2).array(); // M by dm\n",
    "    dW4 = d3.transpose() * z; // dm by dz\n",
    "    db4 = d3.colwise().sum().transpose(); // dm by 1\n",
    "    \n",
    "    d22 = (d3 * p_W4).array() * eps.array() * q_s2.array().sqrt() / 2; // M by dz\n",
    "    d21 = d3 * p_W4; // M by dz\n",
    "    \n",
    "    tie(dW1, dW2, dW3, db1, db2, db3) = encoder_back(X, q_W2, q_W3, q_s2, q_h1, q_mu, d22, d21);\n",
    "    \n",
    "    return make_tuple(dW1, dW2, dW3, dW4, dW5, db1, db2, db3, db4, db5);\n",
    "\n",
    "}\n",
    "\n",
    "// batch gradient\n",
    "tuple<MatrixXd, MatrixXd, MatrixXd, MatrixXd, MatrixXd, VectorXd, VectorXd, VectorXd, VectorXd, VectorXd, double>\n",
    "batch_gradient(Ref<const MatrixXd> X, int L, Ref<const MatrixXd> q_W1, Ref<const MatrixXd> q_W2, \n",
    "              Ref<const MatrixXd> q_W3, Ref<const MatrixXd> p_W4, Ref<const MatrixXd> p_W5, \n",
    "              Ref<const VectorXd> q_b1, Ref<const VectorXd> q_b2, Ref<const VectorXd> q_b3, \n",
    "              Ref<const VectorXd> p_b4, Ref<const VectorXd> p_b5){\n",
    "    \n",
    "    int M = X.rows();\n",
    "    int dx = X.cols();\n",
    "    int dm = p_W4.rows();\n",
    "    int dz = p_W4.cols();\n",
    "    \n",
    "    MatrixXd q_h1, q_a2, q_mu, q_s2, y, p_h2, z, eps; //\n",
    "    MatrixXd d22, d21, d4;\n",
    "    MatrixXd R_dW1, R_dW2, R_dW3, dW1, dW2, dW3, dW4, dW5, t_dW1, t_dW2, t_dW3, t_dW4, t_dW5;\n",
    "    VectorXd R_db1, R_db2, R_db3, db1, db2, db3, db4, db5, t_db1, t_db2, t_db3, t_db4, t_db5;\n",
    "    double loss;\n",
    "    \n",
    "    // initialize parameters\n",
    "    tie(dW1, dW2, dW3, dW4, dW5, db1, db2, db3, db4, db5) = init_para(dx, dm, dz, \"zeros\");\n",
    "    tie(t_dW1, t_dW2, t_dW3, t_dW4, t_dW5, t_db1, t_db2, t_db3, t_db4, t_db5) = \n",
    "    init_para(dx, dm, dz, \"zeros\"); // t for temp\n",
    "\n",
    "    // encoder forward\n",
    "    tie(q_h1, q_a2, q_mu, q_s2) = encoder_forward(X, q_W1, q_W2, q_W3, q_b1, q_b2, q_b3);\n",
    "    \n",
    "    // KL divergence/ regularization\n",
    "    loss = (q_mu.array().pow(2) + q_s2.array() - q_a2.array() - 1).sum()/ 2/ M;\n",
    "    \n",
    "    // encoder back for KL divergence/ regularization\n",
    "    d22 = (q_s2.array() - 1)/ 2; // M by dz\n",
    "    d21 = q_mu; // M by dz\n",
    "    tie(R_dW1, R_dW2, R_dW3, R_db1, R_db2, R_db3) = encoder_back(X, q_W2, q_W3, q_s2, q_h1, q_mu, d22, d21);\n",
    "\n",
    "    for (int i=0; i<L; i++) {\n",
    "        // random normal noise M by dz\n",
    "        eps = MatrixXd::Zero(M, dz).unaryExpr([](double x) { return rnorm(); });\n",
    "        \n",
    "        // sample z, M by dz\n",
    "        z = q_mu.array() + q_s2.array().sqrt() * eps.array();\n",
    "        \n",
    "        // decoder forward\n",
    "        tie(y, p_h2) = decoder_forward(p_W4, p_W5, p_b4, p_b5, z);\n",
    "        \n",
    "        // reconstruction loss for each sample of latent variable\n",
    "        loss = loss - (X.array() * y.array().log() + (1- X.array()) * (1 - y.array()).log()).sum() / L / M;\n",
    "\n",
    "        // decoder back for reconstruction loss\n",
    "        d4 = y - X; // M by dx\n",
    "        tie(t_dW1, t_dW2, t_dW3, t_dW4, t_dW5, t_db1, t_db2, t_db3, t_db4, t_db5) = \n",
    "        decoder_back(X, q_W2, q_W3, p_W4, p_W5, q_s2, q_h1, q_mu, p_h2, eps, z, d4);\n",
    "        \n",
    "        dW1 = dW1 + t_dW1;\n",
    "        dW2 = dW2 + t_dW2;\n",
    "        dW3 = dW3 + t_dW3;\n",
    "        dW4 = dW4 + t_dW4;\n",
    "        dW5 = dW5 + t_dW5;\n",
    "        db1 = db1 + t_db1;\n",
    "        db2 = db2 + t_db2;\n",
    "        db3 = db3 + t_db3;\n",
    "        db4 = db4 + t_db4;\n",
    "        db5 = db5 + t_db5;\n",
    "    }\n",
    "    \n",
    "    dW1 = (dW1 / L + R_dW1) / M;\n",
    "    dW2 = (dW2 / L + R_dW2) / M;\n",
    "    dW3 = (dW3 / L + R_dW3) / M;\n",
    "    dW4 = dW4 / M;\n",
    "    dW5 = dW5 / M;\n",
    "    db1 = (db1 / L + R_db1) / M;\n",
    "    db2 = (db2 / L + R_db2) / M;\n",
    "    db3 = (db3 / L + R_db3) / M;\n",
    "    db4 = db4 / M;\n",
    "    db5 = db5 / M;\n",
    "\n",
    "    return make_tuple(dW1, dW2, dW3, dW4, dW5, db1, db2, db3, db4, db5, loss);\n",
    "}\n",
    "\n",
    "\n",
    "// ADAM\n",
    "tuple<MatrixXd, MatrixXd, MatrixXd, MatrixXd, MatrixXd, VectorXd, VectorXd, VectorXd, VectorXd, VectorXd, VectorXd>\n",
    "train_ADAM(Ref<const MatrixXd> trainX, MatrixXd q_W1, MatrixXd q_W2, MatrixXd q_W3, MatrixXd p_W4, MatrixXd p_W5,\n",
    "           VectorXd q_b1, VectorXd q_b2, VectorXd q_b3, VectorXd p_b4, VectorXd p_b5, \n",
    "           int nBatch, int M, int L, int std_const, int dm, int dz, \n",
    "           double alpha, double beta1, double beta2, double eps_stable, int nP){\n",
    "    \n",
    "    VectorXd loss = VectorXd::Zero(nBatch);\n",
    "    MatrixXd X;\n",
    "    MatrixXd dW1, dW2, dW3, dW4, dW5;\n",
    "    VectorXd db1, db2, db3, db4, db5;\n",
    "    double div1, div2;\n",
    "    \n",
    "    // parameters initialization for ADAM\n",
    "    MatrixXd v_dW1, v_dW2, v_dW3, v_dW4, v_dW5, s_dW1, s_dW2, s_dW3, s_dW4, s_dW5;\n",
    "    VectorXd v_db1, v_db2, v_db3, v_db4, v_db5, s_db1, s_db2, s_db3, s_db4, s_db5;\n",
    "\n",
    "    int dx = trainX.cols();\n",
    "    \n",
    "    tie(v_dW1, v_dW2, v_dW3, v_dW4, v_dW5, v_db1, v_db2, v_db3, v_db4, v_db5) = init_para(dx, dm, dz, \"zeros\"); \n",
    "    tie(s_dW1, s_dW2, s_dW3, s_dW4, s_dW5, s_db1, s_db2, s_db3, s_db4, s_db5) = init_para(dx, dm, dz, \"zeros\"); \n",
    "    \n",
    "    for (int i=0; i<nBatch; i++) {\n",
    "        \n",
    "        X = get_batch(M, trainX) / std_const;\n",
    "        div1 = 1 - pow(beta1, i+1);\n",
    "        div2 = 1 - pow(beta2, i+1);\n",
    "        \n",
    "        tie(dW1, dW2, dW3, dW4, dW5, db1, db2, db3, db4, db5, loss[i]) = \n",
    "        batch_gradient(X, L, q_W1, q_W2, q_W3, p_W4, p_W5, q_b1, q_b2, q_b3, p_b4, p_b5);\n",
    "        \n",
    "        v_dW1 = beta1 * v_dW1 + (1-beta1) * dW1;\n",
    "        v_dW2 = beta1 * v_dW2 + (1-beta1) * dW2;\n",
    "        v_dW3 = beta1 * v_dW3 + (1-beta1) * dW3;\n",
    "        v_dW4 = beta1 * v_dW4 + (1-beta1) * dW4;\n",
    "        v_dW5 = beta1 * v_dW5 + (1-beta1) * dW5;\n",
    "        v_db1 = beta1 * v_db1 + (1-beta1) * db1;   \n",
    "        v_db2 = beta1 * v_db2 + (1-beta1) * db2; \n",
    "        v_db3 = beta1 * v_db3 + (1-beta1) * db3; \n",
    "        v_db4 = beta1 * v_db4 + (1-beta1) * db4; \n",
    "        v_db5 = beta1 * v_db5 + (1-beta1) * db5; \n",
    "\n",
    "        s_dW1 = beta2 * s_dW1.array() + (1-beta2) * dW1.array().pow(2);\n",
    "        s_dW2 = beta2 * s_dW2.array() + (1-beta2) * dW2.array().pow(2);\n",
    "        s_dW3 = beta2 * s_dW3.array() + (1-beta2) * dW3.array().pow(2);\n",
    "        s_dW4 = beta2 * s_dW4.array() + (1-beta2) * dW4.array().pow(2);\n",
    "        s_dW5 = beta2 * s_dW5.array() + (1-beta2) * dW5.array().pow(2);\n",
    "        s_db1 = beta2 * s_db1.array() + (1-beta2) * db1.array().pow(2);\n",
    "        s_db2 = beta2 * s_db2.array() + (1-beta2) * db2.array().pow(2);\n",
    "        s_db3 = beta2 * s_db3.array() + (1-beta2) * db3.array().pow(2);\n",
    "        s_db4 = beta2 * s_db4.array() + (1-beta2) * db4.array().pow(2);\n",
    "        s_db5 = beta2 * s_db5.array() + (1-beta2) * db5.array().pow(2);\n",
    "        \n",
    "        dW1 = v_dW1.array() / div1 / ((s_dW1 / div2).array().sqrt() + eps_stable);\n",
    "        dW2 = v_dW2.array() / div1 / ((s_dW2 / div2).array().sqrt() + eps_stable);\n",
    "        dW3 = v_dW3.array() / div1 / ((s_dW3 / div2).array().sqrt() + eps_stable);\n",
    "        dW4 = v_dW4.array() / div1 / ((s_dW4 / div2).array().sqrt() + eps_stable);\n",
    "        dW5 = v_dW5.array() / div1 / ((s_dW5 / div2).array().sqrt() + eps_stable);\n",
    "        db1 = v_db1.array() / div1 / ((s_db1 / div2).array().sqrt() + eps_stable);\n",
    "        db2 = v_db2.array() / div1 / ((s_db2 / div2).array().sqrt() + eps_stable);\n",
    "        db3 = v_db3.array() / div1 / ((s_db3 / div2).array().sqrt() + eps_stable);\n",
    "        db4 = v_db4.array() / div1 / ((s_db4 / div2).array().sqrt() + eps_stable);\n",
    "        db5 = v_db5.array() / div1 / ((s_db5 / div2).array().sqrt() + eps_stable);\n",
    "    \n",
    "        q_W1 = q_W1 - alpha * dW1;\n",
    "        q_W2 = q_W2 - alpha * dW2;\n",
    "        q_W3 = q_W3 - alpha * dW3;\n",
    "        p_W4 = p_W4 - alpha * dW4;\n",
    "        p_W5 = p_W5 - alpha * dW5;\n",
    "        q_b1 = q_b1 - alpha * db1;\n",
    "        q_b2 = q_b2 - alpha * db2;\n",
    "        q_b3 = q_b3 - alpha * db3;\n",
    "        p_b4 = p_b4 - alpha * db4;\n",
    "        p_b5 = p_b5 - alpha * db5; \n",
    "        \n",
    "        if ((nP !=0) && ((i+1) % nP == 0)){\n",
    "            py::print(\"Batch\", (i+1), \"completed.\\n\");\n",
    "        }   \n",
    "    }    \n",
    "    \n",
    "    return make_tuple(q_W1, q_W2, q_W3, p_W4, p_W5, q_b1, q_b2, q_b3, p_b4, p_b5, loss);\n",
    "}\n",
    "\n",
    "PYBIND11_MODULE(eigen_lib, m) {\n",
    "    m.doc() = \"auto-compiled c++ extension\";\n",
    "    m.def(\"sigmoid\", &sigmoid);\n",
    "    m.def(\"sigmoid_gradient\", &sigmoid_gradient);\n",
    "    m.def(\"tanh_gradient\", &tanh_gradient);\n",
    "    m.def(\"tanh\", &mtanh);\n",
    "    m.def(\"get_batch\", &get_batch);\n",
    "    m.def(\"init_para\", &init_para);\n",
    "    m.def(\"encoder_forward\", &encoder_forward);\n",
    "    m.def(\"decoder_forward\", &decoder_forward);\n",
    "    m.def(\"encoder_back\", &encoder_back);\n",
    "    m.def(\"decoder_back\", &decoder_back);\n",
    "    m.def(\"batch_gradient\", &batch_gradient);\n",
    "    m.def(\"train_ADAM\", &train_ADAM);\n",
    "}"
   ]
  },
  {
   "cell_type": "markdown",
   "metadata": {},
   "source": [
    "##### Python code for model v5"
   ]
  },
  {
   "cell_type": "code",
   "execution_count": 82,
   "metadata": {},
   "outputs": [],
   "source": [
    "def train_AEVB_v5(trainX, nBatch, M = 100, L = 1, std_const = 255, dm = 500, dz = 3, alpha = 0.005, beta1 = 0.9, beta2 = 0.999, eps_stable = 1e-8, W = \"\", b = \"\", loss = \"\", nP = 0):\n",
    "    \"\"\"\n",
    "    AEVB model as described in the paper\n",
    "    Diederik P Kingma, Max Welling\n",
    "    Auto-Encoding Variational Bayes (2013).\n",
    "    \n",
    "    Training using ADAM algorithm as described in the paper\n",
    "    Diederik P Kingma, Jimmy Ba\n",
    "    Adam: A Method for Stochastic Optimization (2014).\n",
    "    \n",
    "    Input parameters：\n",
    "    ----------\n",
    "    trainX: array-like\n",
    "            Training dataset inputs.\n",
    "            Dimension: number of sample (M) by dx\n",
    "    nBatch: integer\n",
    "            Number of mini-batch to train.\n",
    "    M: integer, optional\n",
    "            Size of mini-batch.\n",
    "            Default at 100 as recommended in the paper.\n",
    "    L: integer, optional\n",
    "            Number of latent variable to sample.\n",
    "            Default at 1 as recommended in the paper.\n",
    "    std_const: scalar, optional\n",
    "            Normlizing constant for data.\n",
    "            Currently default at 255 which is usually used for black and white image data.\n",
    "    dm: integer, optional\n",
    "            Dimension for middle layer of the encoder and decoder.\n",
    "            Default at 500 which used for MNIST dataset in the paper.\n",
    "    dz: integer, optional\n",
    "            Dimension for latent variables. \n",
    "            Currently default at 3\n",
    "    alpha: float, optional\n",
    "            Learning rate.\n",
    "            Default at 0.005.\n",
    "    beta1: float, optional\n",
    "            Parameter for ADAM.\n",
    "            Default at 0.9.\n",
    "    beta2: float, optional\n",
    "            Parameter for ADAM.\n",
    "            Default at 0.999.\n",
    "    eps_stable: float, optional\n",
    "            Parameter for ADAM.\n",
    "            Default at 1e-08.\n",
    "    W: list, optional\n",
    "            List of model weights parameters, same format as function output variable W.\n",
    "            In case user wants to start training from existing parameters.\n",
    "    b: list, optional\n",
    "            List of model bias parameters, same format as function output variable b.\n",
    "            In case user wants to start training from existing parameters.\n",
    "    loss: array-like, optional\n",
    "            Vector of total loss, same format as function output variable loss.\n",
    "            In case user wants to start training from existing parameters.\n",
    "    nP: integer, optional\n",
    "            If specified with non-zero number, function will print out \n",
    "            status message after completing every nP batches.\n",
    "    \n",
    "    Returns:\n",
    "    ----------\n",
    "    W: list\n",
    "            List of model weights parameters in the order of: q_W1, q_W2, q_W3, p_W4, p_W5.\n",
    "            q_W1, q_W2, q_W3: weights for Gaussian MLP encoder as specified in paper Appendix C.\n",
    "            p_W4, p_W5: weights for Bernoulli MLP decoder as specified in paper Appendix C\n",
    "    b: list\n",
    "            List of model bias parameters in the order of q_b1, q_b2, q_b3, p_b4, p_b5.\n",
    "            q_b1, q_b2, q_b3: bias for Gaussian MLP encoder as specified in paper Appendix C.\n",
    "            p_b4, p_b5: weights for Bernoulli MLP decoder as specified in paper Appendix C.\n",
    "    loss: array-like\n",
    "            Array which stores total loss for each mini-batch.\n",
    "    \"\"\"\n",
    "    \n",
    "    eigen_lib = cppimport.imp(\"eigen_lib\")\n",
    "    \n",
    "    dx = trainX.shape[1]\n",
    "    if len(W) == len(b) == 0:\n",
    "        (q_W1, q_W2, q_W3, p_W4, p_W5, q_b1, q_b2, q_b3, p_b4, p_b5) = eigen_lib.init_para(dx, dm, dz, \"xavier\")\n",
    "    else:\n",
    "        q_W1, q_W2, q_W3, p_W4, p_W5 = W\n",
    "        q_b1, q_b2, q_b3, p_b4, p_b5 = b\n",
    "\n",
    "    (q_W1, q_W2, q_W3, p_W4, p_W5, q_b1, q_b2, q_b3, p_b4, p_b5, loss_out) = eigen_lib.train_ADAM(trainX, \\\n",
    "        q_W1, q_W2, q_W3, p_W4, p_W5, q_b1, q_b2, q_b3, p_b4, p_b5, nBatch, M, L, std_const, dm, dz, \\\n",
    "        alpha, beta1, beta2, eps_stable, nP)\n",
    "    \n",
    "    if len(loss) == 0:\n",
    "        loss = loss_out;\n",
    "    else:\n",
    "        loss = np.concatenate((loss, loss_out))\n",
    "    \n",
    "    W = [q_W1, q_W2, q_W3, p_W4, p_W5]\n",
    "    b = [q_b1, q_b2, q_b3, p_b4, p_b5]\n",
    "    \n",
    "    return W, b, loss"
   ]
  },
  {
   "cell_type": "markdown",
   "metadata": {},
   "source": [
    "#### 7.7.3 Testing\n",
    "\n",
    "This section is for Model v5 testing vs existing functions in python (i.e., model v4 and past models). "
   ]
  },
  {
   "cell_type": "markdown",
   "metadata": {},
   "source": [
    "##### pybind11 + Eigen test functions\n",
    "\n",
    "This subsection are pybind11+Eigen functions used for testing only, but not included in the final eigen library file.\n",
    "\n",
    "1.The first is \"test_total_loss\" function. When L is set to 1, can use this function to compare the output between eigen library and existing python functions. If want to use this function, copy the function and add the \"m.def\" line of codes back."
   ]
  },
  {
   "cell_type": "markdown",
   "metadata": {},
   "source": [
    "// test total loss\n",
    "double test_total_loss(Ref<const MatrixXd> X, Ref<const MatrixXd> y, Ref<const MatrixXd> q_a2,\n",
    "                      Ref<const MatrixXd> q_mu, Ref<const MatrixXd> q_s2, int M, int L){\n",
    "    \n",
    "    double loss;\n",
    "    \n",
    "    loss = (q_mu.array().pow(2) + q_s2.array() - q_a2.array() - 1).sum()/ 2/ M;\n",
    "    loss = loss - (X.array() * y.array().log() + (1- X.array()) * (1 - y.array()).log()).sum() / L / M;\n",
    "    \n",
    "    return loss;\n",
    "}\n",
    "\n",
    "m.def(\"test_total_loss\", &test_total_loss);"
   ]
  },
  {
   "cell_type": "markdown",
   "metadata": {},
   "source": [
    "2.The following are changes that I needed to make to batch_gradient and train_ADAM in order to be able to use the same \"eps\" and \"z\" to test for gradient calculations."
   ]
  },
  {
   "cell_type": "markdown",
   "metadata": {},
   "source": [
    "// batch gradient\n",
    "tuple<MatrixXd, MatrixXd, MatrixXd, MatrixXd, MatrixXd, VectorXd, VectorXd, VectorXd, VectorXd, VectorXd, double>\n",
    "batch_gradient(Ref<const MatrixXd> X, int L, Ref<const MatrixXd> q_W1, Ref<const MatrixXd> q_W2, \n",
    "              Ref<const MatrixXd> q_W3, Ref<const MatrixXd> p_W4, Ref<const MatrixXd> p_W5, \n",
    "              Ref<const VectorXd> q_b1, Ref<const VectorXd> q_b2, Ref<const VectorXd> q_b3, \n",
    "              Ref<const VectorXd> p_b4, Ref<const VectorXd> p_b5){\n",
    "    \n",
    "    int M = X.rows();\n",
    "    int dx = X.cols();\n",
    "    int dm = p_W4.rows();\n",
    "    int dz = p_W4.cols();\n",
    "    \n",
    "    MatrixXd q_h1, q_a2, q_mu, q_s2, y, p_h2; //, z, eps\n",
    "    MatrixXd d22, d21, d4;\n",
    "    MatrixXd R_dW1, R_dW2, R_dW3, dW1, dW2, dW3, dW4, dW5, t_dW1, t_dW2, t_dW3, t_dW4, t_dW5;\n",
    "    VectorXd R_db1, R_db2, R_db3, db1, db2, db3, db4, db5, t_db1, t_db2, t_db3, t_db4, t_db5;\n",
    "    double loss;\n",
    "    \n",
    "    // initialize parameters\n",
    "    tie(dW1, dW2, dW3, dW4, dW5, db1, db2, db3, db4, db5) = init_para(dx, dm, dz, \"zeros\");\n",
    "    tie(t_dW1, t_dW2, t_dW3, t_dW4, t_dW5, t_db1, t_db2, t_db3, t_db4, t_db5) = \n",
    "    init_para(dx, dm, dz, \"zeros\"); // t for temp\n",
    "\n",
    "    // encoder forward\n",
    "    tie(q_h1, q_a2, q_mu, q_s2) = encoder_forward(X, q_W1, q_W2, q_W3, q_b1, q_b2, q_b3);\n",
    "    \n",
    "    // KL divergence/ regularization\n",
    "    loss = (q_mu.array().pow(2) + q_s2.array() - q_a2.array() - 1).sum()/ 2/ M;\n",
    "    \n",
    "    // encoder back for KL divergence/ regularization\n",
    "    d22 = (q_s2.array() - 1)/ 2; // M by dz\n",
    "    d21 = q_mu; // M by dz\n",
    "    tie(R_dW1, R_dW2, R_dW3, R_db1, R_db2, R_db3) = encoder_back(X, q_W2, q_W3, q_s2, q_h1, q_mu, d22, d21);\n",
    "\n",
    "    for (int i=0; i<L; i++) {\n",
    "        // random normal noise M by dz\n",
    "        // eps = MatrixXd::Zero(M, dz).unaryExpr([](double x) { return rnorm(); });\n",
    "        \n",
    "        // sample z, M by dz\n",
    "        // z = q_mu.array() + q_s2.array().sqrt() * eps.array();\n",
    "        \n",
    "        // decoder forward\n",
    "        tie(y, p_h2) = decoder_forward(p_W4, p_W5, p_b4, p_b5, z);\n",
    "        \n",
    "        // reconstruction loss for each sample of latent variable\n",
    "        loss = loss - (X.array() * y.array().log() + (1- X.array()) * (1 - y.array()).log()).sum() / L / M;\n",
    "\n",
    "        // decoder back for reconstruction loss\n",
    "        d4 = y - X; // M by dx\n",
    "        tie(t_dW1, t_dW2, t_dW3, t_dW4, t_dW5, t_db1, t_db2, t_db3, t_db4, t_db5) = \n",
    "        decoder_back(X, q_W2, q_W3, p_W4, p_W5, q_s2, q_h1, q_mu, p_h2, eps, z, d4);\n",
    "        \n",
    "        dW1 = dW1 + t_dW1;\n",
    "        dW2 = dW2 + t_dW2;\n",
    "        dW3 = dW3 + t_dW3;\n",
    "        dW4 = dW4 + t_dW4;\n",
    "        dW5 = dW5 + t_dW5;\n",
    "        db1 = db1 + t_db1;\n",
    "        db2 = db2 + t_db2;\n",
    "        db3 = db3 + t_db3;\n",
    "        db4 = db4 + t_db4;\n",
    "        db5 = db5 + t_db5;\n",
    "    }\n",
    "    \n",
    "    dW1 = (dW1 / L + R_dW1) / M;\n",
    "    dW2 = (dW2 / L + R_dW2) / M;\n",
    "    dW3 = (dW3 / L + R_dW3) / M;\n",
    "    dW4 = dW4 / M;\n",
    "    dW5 = dW5 / M;\n",
    "    db1 = (db1 / L + R_db1) / M;\n",
    "    db2 = (db2 / L + R_db2) / M;\n",
    "    db3 = (db3 / L + R_db3) / M;\n",
    "    db4 = db4 / M;\n",
    "    db5 = db5 / M;\n",
    "\n",
    "    return make_tuple(dW1, dW2, dW3, dW4, dW5, db1, db2, db3, db4, db5, loss);\n",
    "}\n"
   ]
  },
  {
   "cell_type": "markdown",
   "metadata": {},
   "source": [
    "For trian_ADAM function, make the following changes\n",
    "\n",
    "// this line is new\n",
    "MatrixXd temp = MatrixXd::Zero(M, dz);\n",
    "\n",
    "// changes to this line is in the end\n",
    "tie(dW1, dW2, dW3, dW4, dW5, db1, db2, db3, db4, db5, loss[i]) = \n",
    "        batch_gradient(X, L, q_W1, q_W2, q_W3, p_W4, p_W5, q_b1, q_b2, q_b3, p_b4, p_b5, temp, temp);"
   ]
  },
  {
   "cell_type": "markdown",
   "metadata": {},
   "source": [
    "##### Testing vs existing functions\n",
    "\n",
    "Note that if we just run these codes without making changes in the section above, then total loss and the gradients will be different because eps and z are different, they are generated in the eigen library. Also here I've temporarily comma out test_total_loss function relevant checkings."
   ]
  },
  {
   "cell_type": "code",
   "execution_count": 83,
   "metadata": {},
   "outputs": [],
   "source": [
    "def encoder_back(q_s2, q_h1, q_W2, q_W3, X):\n",
    "    \"\"\"for testing vs pybind11 + Eigen function\"\"\"\n",
    "    \n",
    "    R_d22 = (q_s2 - 1)/2 # M by dz\n",
    "    dR_dW3 = R_d22.T @ q_h1 # dz by dm\n",
    "    dR_db3 = np.sum(R_d22, axis = 0).reshape(-1,1) # dz by 1\n",
    "    \n",
    "    R_d21 = q_mu # M by dz\n",
    "    dR_dW2 = R_d21.T @ q_h1 # dz by dm\n",
    "    dR_db2 = np.sum(R_d21, axis = 0).reshape(-1,1) # dm by 1\n",
    "\n",
    "    R_d1 = (R_d22 @ q_W3 + R_d21 @ q_W2) * tanh_gradient_nb(q_h1) # M by dm\n",
    "    dR_dW1 = R_d1.T @ X # dm by dx\n",
    "    dR_db1 = np.sum(R_d1, axis = 0).reshape(-1,1) # dm by 1\n",
    "    \n",
    "    return dR_dW1, dR_dW2, dR_dW3, dR_db1, dR_db2, dR_db3"
   ]
  },
  {
   "cell_type": "code",
   "execution_count": 84,
   "metadata": {},
   "outputs": [
    {
     "name": "stdout",
     "output_type": "stream",
     "text": [
      "sigmoid:  True\n",
      "sigmoid_gradient:  True\n",
      "tanh_gradient:  True\n",
      "tanh:  True\n",
      "encoder_forward:  True\n",
      "decoder_forward:  True\n",
      "encoder_back:  True\n",
      "loss:  False\n",
      "dW:  False\n"
     ]
    }
   ],
   "source": [
    "eigen_lib = cppimport.imp(\"eigen_lib\")\n",
    "\n",
    "# model parameters\n",
    "nBatch = 1 # number of mini-batch to train\n",
    "M = 100 # batch size\n",
    "L = 1 # sample size\n",
    "std_const = 255 # to standardize data\n",
    "dx = 784 # dimension of the input\n",
    "dm = 500 # dimension of the hidden layer\n",
    "dz = 3 # dimension of latent variable\n",
    "alpha = 0.005 # learning rate\n",
    "nP = 1000 # print out status every nP batches\n",
    "\n",
    "# training data\n",
    "trainX = trainX.reshape(trainX.shape[0],-1)\n",
    "\n",
    "X = eigen_lib.get_batch(M, trainX) / std_const;\n",
    "(q_W1, q_W2, q_W3, p_W4, p_W5, q_b1, q_b2, q_b3, p_b4, p_b5) = eigen_lib.init_para(dx, dm, dz, \"xavier\")\n",
    "\n",
    "W = [q_W1, q_W2, q_W3, p_W4, p_W5]\n",
    "b = [q_b1, q_b2, q_b3, p_b4, p_b5]\n",
    "b1 = [q_b1.reshape(-1,1), q_b2.reshape(-1,1), q_b3.reshape(-1,1), p_b4.reshape(-1,1), p_b5.reshape(-1,1)]\n",
    "\n",
    "# encoder forward\n",
    "(eigen_q_h1, eigen_q_a2, eigen_q_mu, eigen_q_s2) = eigen_lib.encoder_forward(X, q_W1, q_W2, q_W3, q_b1, q_b2, q_b3)\n",
    "\n",
    "q_h1, q_a2, q_mu, q_s2 = encoder_forward_vec_nb1(X, W, b1)\n",
    "\n",
    "# decoder forward\n",
    "eps = np.random.randn(M, L, dz)\n",
    "z = sample_z_vec_nb(q_mu, q_s2, eps)\n",
    "\n",
    "eigen_eps = eps.reshape(M, dz)\n",
    "eigen_z = z.reshape(M, dz)\n",
    "\n",
    "eigen_y, eigen_p_h2 = eigen_lib.decoder_forward(p_W4, p_W5, p_b4, p_b5, eigen_z);\n",
    "\n",
    "y, p_h2 = decoder_forward_vec_nb1(W, b1, z)\n",
    "com_y = y.reshape(y.shape[0], y.shape[2])\n",
    "com_p_h2 = p_h2.reshape(p_h2.shape[0], p_h2.shape[2])\n",
    "\n",
    "# decoder back\n",
    "dR_dW1, dR_dW2, dR_dW3, dR_db1, dR_db2, dR_db3 = encoder_back(q_s2, q_h1, q_W2, q_W3, X)\n",
    "\n",
    "d22 = (q_s2 - 1)/2\n",
    "d21 = q_mu\n",
    "eigen_dR_dW1, eigen_dR_dW2, eigen_dR_dW3, eigen_dR_db1, eigen_dR_db2, eigen_dR_db3 = \\\n",
    "eigen_lib.encoder_back(X, q_W2, q_W3, q_s2, q_h1, q_mu, d22, d21)\n",
    "\n",
    "\n",
    "# total loss\n",
    "loss = total_loss_vec_nb(X, y, q_a2, q_mu, q_s2)\n",
    "\n",
    "# eigen_test_loss = eigen_lib.test_total_loss(X, eigen_y, q_a2, q_mu, q_s2, M, L)\n",
    "\n",
    "# batch gradient\n",
    "(eigen_dW1, eigen_dW2, eigen_dW3, eigen_dW4, eigen_dW5, eigen_db1, eigen_db2, eigen_db3, eigen_db4, eigen_db5, \\\n",
    "     eigen_loss) = eigen_lib.batch_gradient(X, L, q_W1, q_W2, q_W3, p_W4, p_W5, q_b1, q_b2, q_b3, p_b4, p_b5)\n",
    "\n",
    "dW1, dW2, dW3, dW4, dW5, db1, db2, db3, db4, db5 =\\\n",
    "    grad_vec2_nb3(X, y, q_W1, q_W2, q_W3, p_W4, p_W5, q_b1.reshape(-1,1), q_b2.reshape(-1,1), \\\n",
    "    q_b3.reshape(-1,1), p_b4.reshape(-1,1), p_b5.reshape(-1,1), q_h1, p_h2, q_mu, q_s2, z, eps)\n",
    "    \n",
    "A = np.array([[1,2,1],\n",
    "              [2,1,0],\n",
    "              [-1,1,2]])\n",
    "\n",
    "B = np.ones((3,3))\n",
    "print(\"sigmoid: \", np.allclose(eigen_lib.sigmoid(A), sigmoid(A)))\n",
    "print(\"sigmoid_gradient: \", np.allclose(eigen_lib.sigmoid_gradient(A), sigmoid_gradient(A)))\n",
    "print(\"tanh_gradient: \", np.allclose(eigen_lib.tanh_gradient(A), tanh_gradient(A)))\n",
    "print(\"tanh: \", np.allclose(eigen_lib.tanh(A), tanh(A)))\n",
    "print(\"encoder_forward: \", np.allclose(eigen_q_h1, q_h1) and np.allclose(eigen_q_a2, q_a2) and \\\n",
    "     np.allclose(eigen_q_mu, q_mu) and np.allclose(eigen_q_s2, q_s2))\n",
    "print(\"decoder_forward: \", np.allclose(eigen_y, com_y) and np.allclose(eigen_p_h2, com_p_h2))\n",
    "print(\"encoder_back: \", np.allclose(eigen_dR_dW1, dR_dW1) and np.allclose(eigen_dR_dW2, dR_dW2) and \\\n",
    "      np.allclose(eigen_dR_dW3, dR_dW3) and np.allclose(eigen_dR_db1.reshape(-1,1), dR_db1) and \\\n",
    "      np.allclose(eigen_dR_db2.reshape(-1,1), dR_db2) and np.allclose(eigen_dR_db3.reshape(-1,1), dR_db3))\n",
    "print(\"loss: \", np.allclose(eigen_loss, loss))\n",
    "print(\"dW: \", np.allclose(eigen_dW1, dW1))\n",
    "# print(eigen_loss, eigen_test_loss, loss)"
   ]
  },
  {
   "cell_type": "markdown",
   "metadata": {},
   "source": [
    "##### Test Run"
   ]
  },
  {
   "cell_type": "code",
   "execution_count": 85,
   "metadata": {},
   "outputs": [
    {
     "name": "stdout",
     "output_type": "stream",
     "text": [
      "Batch 500 completed.\n",
      "\n",
      "Batch 1000 completed.\n",
      "\n"
     ]
    }
   ],
   "source": [
    "W, b, loss = train_AEVB_v5(trainX, 1000, nP = 500)"
   ]
  },
  {
   "cell_type": "code",
   "execution_count": 86,
   "metadata": {},
   "outputs": [
    {
     "data": {
      "text/plain": [
       "[<matplotlib.lines.Line2D at 0x7f01f0fe47b8>]"
      ]
     },
     "execution_count": 86,
     "metadata": {},
     "output_type": "execute_result"
    },
    {
     "data": {
      "image/png": "[encoded data removed]",
      "text/plain": [
       "<Figure size 432x288 with 1 Axes>"
      ]
     },
     "metadata": {},
     "output_type": "display_data"
    }
   ],
   "source": [
    "plt.plot(loss)"
   ]
  },
  {
   "cell_type": "code",
   "execution_count": 94,
   "metadata": {},
   "outputs": [
    {
     "name": "stdout",
     "output_type": "stream",
     "text": [
      "Batch 500 completed.\n",
      "Batch 1000 completed.\n"
     ]
    }
   ],
   "source": [
    "W1, b1, loss1 = train_AEVB_v4(trainX, trainy, 1000, nP = 500)"
   ]
  },
  {
   "cell_type": "code",
   "execution_count": 91,
   "metadata": {},
   "outputs": [],
   "source": [
    "def plot_samples(trainX, trainy, W, b, Xdim1 = 0, fig1=\"\", fig2=\"\", std_const = 255):\n",
    "    \"\"\"\n",
    "    Randomly sample 36 figures from training data, reconstruct based on \n",
    "    user specified model parameters and plot for comparison.\n",
    "    \n",
    "    Input parameters：\n",
    "    ----------\n",
    "    trainX: array_like\n",
    "            Training dataset inputs.\n",
    "            Dimension: number of sample by dx\n",
    "    trainy: array_like\n",
    "            Training dataset labels. \n",
    "            This variable is not currently used in the function. For further developments.\n",
    "    W: list\n",
    "            List of model weights parameters, same format as train_AEVB function output variable W.\n",
    "    b: list\n",
    "            List of model bias parameters, same format as train_AEVB function output variable b.\n",
    "    Xdim1: integer, optional\n",
    "            Dimension1 for X. If not specified, Xdim1 will be set to = Xdim2 = sqrt(dx).\n",
    "    std_const: integer, optional\n",
    "            Normlizing constant to reconstruct data.\n",
    "            Currently default at 255 which is usually used for black and white image data.            \n",
    "    \n",
    "    Output:\n",
    "    ----------\n",
    "    36 random sampled figures from training data and the model-reconstructed ones for comparison\n",
    "    \"\"\"\n",
    "    \n",
    "    dx = trainX.shape[1]\n",
    "    if Xdim1 == 0:\n",
    "        Xdim1 = Xdim2 = int(np.sqrt(dx))\n",
    "    else:\n",
    "        Xdim2 = int(dx / Xdim1)\n",
    "        assert(Xdim2 == int(Xdim2))\n",
    "        \n",
    "    M = 36\n",
    "    n = int(np.sqrt(M))\n",
    "    L = 1\n",
    "    dz, dm = W[1].shape[0], W[1].shape[1]\n",
    "    Spec = [1, M, L, std_const, dx, dm, dz, 0.005, 0]\n",
    "\n",
    "    X = eigen_lib.get_batch(M, trainX) / std_const\n",
    "    eps = np.zeros((M, L, dz))\n",
    "\n",
    "    y, q_h1, p_h2, q_mu, q_s2, z, loss = batch_forward_vec_nb2(Spec, X, W, b, eps)\n",
    "    \n",
    "    fig, ax = plt.subplots(M)\n",
    "    #fig.suptitle('Sample Images')\n",
    "    \n",
    "    for i in range(M):\n",
    "        # define subplot\n",
    "        plt.subplot(n,n,i+1)\n",
    "        plt.axis('off')\n",
    "        # plot raw pixel data\n",
    "        plt.imshow(X[i].reshape(Xdim1, Xdim2) * std_const, cmap=plt.get_cmap('gray'))\n",
    "    # show the figure\n",
    "    plt.axis('off')\n",
    "    plt.show()\n",
    "    if fig1 != \"\":\n",
    "        fig.savefig(fig1)\n",
    "\n",
    "    fig, ax = plt.subplots(M)\n",
    "    #fig.suptitle('Reconstructed Images')\n",
    "    \n",
    "    for i in range(M):\n",
    "        # define subplot\n",
    "        plt.subplot(n,n,i+1)\n",
    "        plt.axis('off')\n",
    "        # plot raw pixel data\n",
    "        plt.imshow(y[i,L-1,].reshape(Xdim1, Xdim2) * std_const, cmap=plt.get_cmap('gray'))\n",
    "    # show the figure\n",
    "    plt.show()\n",
    "    if fig2 != \"\":\n",
    "        fig.savefig(fig2)"
   ]
  },
  {
   "cell_type": "code",
   "execution_count": 88,
   "metadata": {},
   "outputs": [
    {
     "data": {
      "text/plain": [
       "[<matplotlib.lines.Line2D at 0x7f01eeaf3160>]"
      ]
     },
     "execution_count": 88,
     "metadata": {},
     "output_type": "execute_result"
    },
    {
     "data": {
      "image/png": "[encoded data removed]",
      "text/plain": [
       "<Figure size 432x288 with 1 Axes>"
      ]
     },
     "metadata": {},
     "output_type": "display_data"
    }
   ],
   "source": [
    "plt.plot(loss)"
   ]
  },
  {
   "cell_type": "code",
   "execution_count": 89,
   "metadata": {},
   "outputs": [],
   "source": [
    "# note that the data format returned by eigen lib for b is different\n",
    "q_b1, q_b2, q_b3, p_b4, p_b5 = b\n",
    "b = [q_b1.reshape(-1,1), q_b2.reshape(-1,1), q_b3.reshape(-1,1), p_b4.reshape(-1,1), p_b5.reshape(-1,1)]"
   ]
  },
  {
   "cell_type": "code",
   "execution_count": 92,
   "metadata": {},
   "outputs": [
    {
     "data": {
      "image/png": "[encoded data removed]",
      "text/plain": [
       "<Figure size 432x288 with 36 Axes>"
      ]
     },
     "metadata": {},
     "output_type": "display_data"
    },
    {
     "data": {
      "image/png": "[encoded data removed]",
      "text/plain": [
       "<Figure size 432x288 with 36 Axes>"
      ]
     },
     "metadata": {},
     "output_type": "display_data"
    }
   ],
   "source": [
    "plot_samples(trainX, trainy, W, b)"
   ]
  },
  {
   "cell_type": "code",
   "execution_count": 93,
   "metadata": {},
   "outputs": [
    {
     "data": {
      "image/png": "[encoded data removed]",
      "text/plain": [
       "<Figure size 432x288 with 36 Axes>"
      ]
     },
     "metadata": {},
     "output_type": "display_data"
    },
    {
     "data": {
      "image/png": "[encoded data removed]",
      "text/plain": [
       "<Figure size 432x288 with 36 Axes>"
      ]
     },
     "metadata": {},
     "output_type": "display_data"
    }
   ],
   "source": [
    "plot_samples(trainX, trainy, W1, b1)"
   ]
  },
  {
   "cell_type": "markdown",
   "metadata": {},
   "source": [
    "#### 7.7.4 Model v5 Profiling"
   ]
  },
  {
   "cell_type": "markdown",
   "metadata": {},
   "source": [
    "The following are codes used for profiling. Currently comma out for documentation"
   ]
  },
  {
   "cell_type": "code",
   "execution_count": 95,
   "metadata": {},
   "outputs": [],
   "source": [
    "#profile_filename = get_filename(\"profiling_v5\", ext = \".prof\")"
   ]
  },
  {
   "cell_type": "code",
   "execution_count": 96,
   "metadata": {},
   "outputs": [
    {
     "name": "stdout",
     "output_type": "stream",
     "text": [
      " \n",
      "*** Profile stats marshalled to file '2020_05_14_22_04_06_Model_v5_profiling_v5.prof'. \n"
     ]
    }
   ],
   "source": [
    "#%prun -q -D $profile_filename train_AEVB_v2(trainX, 100)"
   ]
  },
  {
   "cell_type": "code",
   "execution_count": 99,
   "metadata": {},
   "outputs": [],
   "source": [
    "#p = pstats.Stats(profile_filename)\n",
    "#p.sort_stats('time', 'cumulative').print_stats(5)\n",
    "#pass"
   ]
  },
  {
   "cell_type": "markdown",
   "metadata": {},
   "source": [
    "### 7.6 Timing"
   ]
  },
  {
   "cell_type": "markdown",
   "metadata": {},
   "source": [
    "#### 7.6.1 Total training time on 10 mini-batches"
   ]
  },
  {
   "cell_type": "code",
   "execution_count": 139,
   "metadata": {},
   "outputs": [],
   "source": [
    "Spec = [10, M, 1, std_const, dx, dm, dz, alpha, 10]"
   ]
  },
  {
   "cell_type": "code",
   "execution_count": 140,
   "metadata": {},
   "outputs": [
    {
     "name": "stdout",
     "output_type": "stream",
     "text": [
      "4.96 s ± 121 ms per loop (mean ± std. dev. of 7 runs, 1 loop each)\n"
     ]
    }
   ],
   "source": [
    "%timeit train_ADAM(trainX, trainy, Spec, batch_forward, grad)"
   ]
  },
  {
   "cell_type": "code",
   "execution_count": 141,
   "metadata": {},
   "outputs": [
    {
     "name": "stdout",
     "output_type": "stream",
     "text": [
      "3.59 s ± 86.3 ms per loop (mean ± std. dev. of 7 runs, 1 loop each)\n"
     ]
    }
   ],
   "source": [
    "%timeit train_ADAM_nb1(trainX, trainy, Spec, batch_forward_nb1, grad_nb1)"
   ]
  },
  {
   "cell_type": "code",
   "execution_count": 142,
   "metadata": {},
   "outputs": [
    {
     "name": "stdout",
     "output_type": "stream",
     "text": [
      "4.94 s ± 69.5 ms per loop (mean ± std. dev. of 7 runs, 1 loop each)\n"
     ]
    }
   ],
   "source": [
    "%timeit train_ADAM_nb1(trainX, trainy, Spec, batch_forward_vec, grad_vec)"
   ]
  },
  {
   "cell_type": "code",
   "execution_count": 143,
   "metadata": {},
   "outputs": [
    {
     "name": "stdout",
     "output_type": "stream",
     "text": [
      "609 ms ± 19.1 ms per loop (mean ± std. dev. of 7 runs, 1 loop each)\n"
     ]
    }
   ],
   "source": [
    "%timeit train_ADAM_nb1(trainX, trainy, Spec, batch_forward_vec, grad_vec2)"
   ]
  },
  {
   "cell_type": "code",
   "execution_count": 144,
   "metadata": {},
   "outputs": [
    {
     "name": "stdout",
     "output_type": "stream",
     "text": [
      "730 ms ± 45.5 ms per loop (mean ± std. dev. of 7 runs, 1 loop each)\n"
     ]
    }
   ],
   "source": [
    "%timeit train_ADAM_nb1(trainX, trainy, Spec, batch_forward_vec_nb1, grad_vec2_nb1)"
   ]
  },
  {
   "cell_type": "code",
   "execution_count": 145,
   "metadata": {},
   "outputs": [
    {
     "name": "stdout",
     "output_type": "stream",
     "text": [
      "3.47 s ± 64.4 ms per loop (mean ± std. dev. of 7 runs, 1 loop each)\n"
     ]
    }
   ],
   "source": [
    "%timeit train_ADAM_nb2(trainX, trainy, 10, M, L, std_const, dx, dm, dz, alpha, batch_forward_nb2, grad_nb2)"
   ]
  },
  {
   "cell_type": "code",
   "execution_count": 146,
   "metadata": {},
   "outputs": [
    {
     "name": "stdout",
     "output_type": "stream",
     "text": [
      "3.66 s ± 115 ms per loop (mean ± std. dev. of 7 runs, 1 loop each)\n"
     ]
    }
   ],
   "source": [
    "%timeit train_ADAM_v2(trainX, trainy, Spec, batch_forward_nb2, grad_nb2)"
   ]
  },
  {
   "cell_type": "code",
   "execution_count": 147,
   "metadata": {},
   "outputs": [],
   "source": [
    "#%timeit train_ADAM_nb1_pl(trainX, trainy, Spec, batch_forward_vec_nb1, grad_vec2_nb1)"
   ]
  },
  {
   "cell_type": "code",
   "execution_count": 148,
   "metadata": {},
   "outputs": [
    {
     "name": "stdout",
     "output_type": "stream",
     "text": [
      "668 ms ± 28.1 ms per loop (mean ± std. dev. of 7 runs, 1 loop each)\n"
     ]
    }
   ],
   "source": [
    "%timeit train_ADAM_nb1_pl(trainX, trainy, Spec, batch_forward_vec_nb2, grad_vec2_nb2)"
   ]
  },
  {
   "cell_type": "code",
   "execution_count": 149,
   "metadata": {},
   "outputs": [
    {
     "name": "stdout",
     "output_type": "stream",
     "text": [
      "631 ms ± 12.8 ms per loop (mean ± std. dev. of 7 runs, 1 loop each)\n"
     ]
    }
   ],
   "source": [
    "%timeit train_AEVB_v4(trainX, trainy, 10)"
   ]
  },
  {
   "cell_type": "code",
   "execution_count": 150,
   "metadata": {},
   "outputs": [
    {
     "name": "stdout",
     "output_type": "stream",
     "text": [
      "1.22 s ± 18.8 ms per loop (mean ± std. dev. of 7 runs, 1 loop each)\n"
     ]
    }
   ],
   "source": [
    "%timeit train_AEVB_v5(trainX, 10)"
   ]
  },
  {
   "cell_type": "markdown",
   "metadata": {},
   "source": [
    "#### 7.6.2 Gradient function"
   ]
  },
  {
   "cell_type": "markdown",
   "metadata": {},
   "source": [
    "Notice that weirdly, *grad_vec_nb1* can be called and used in training but when timing it will trigger \"cannot unbox heterogenous list\" error."
   ]
  },
  {
   "cell_type": "code",
   "execution_count": 151,
   "metadata": {},
   "outputs": [],
   "source": [
    "delta = 0.00001\n",
    "nBatch = 10 # number of mini-batch to train\n",
    "M = 100 # batch size\n",
    "L = 1 # sample size\n",
    "std_const = 255 # to standardize data\n",
    "dx = trainX.shape[1] # dimension of the input\n",
    "dm = 500 # dimension of the hidden layer\n",
    "dz = 3 # dimension of latent variable\n",
    "alpha = 0.005 # learning rate\n",
    "nP = 1000 # print out status every nP batches\n",
    "\n",
    "Spec = [nBatch, M, L, std_const, dx, dm, dz, alpha, nP]\n",
    "\n",
    "W,b = init_random(dx, dm, dz)\n",
    "eps = np.random.randn(L, dz)\n",
    "eps1 = np.random.randn(M,L,dz)\n",
    "batchX, batchy = get_Batch(M, trainX, trainy)\n",
    "X = batchX.reshape(M, dx) / std_const\n",
    "\n",
    "y, H, Lt, loss = batch_forward(Spec, X, W, b, eps)\n",
    "q_W1, q_W2, q_W3, p_W4, p_W5 = W\n",
    "q_b1, q_b2, q_b3, p_b4, p_b5 = b\n",
    "q_h1, p_h2 = H\n",
    "q_mu, q_s2, z, eps = Lt"
   ]
  },
  {
   "cell_type": "code",
   "execution_count": 133,
   "metadata": {},
   "outputs": [
    {
     "name": "stdout",
     "output_type": "stream",
     "text": [
      "421 ms ± 15.1 ms per loop (mean ± std. dev. of 7 runs, 1 loop each)\n",
      "286 ms ± 27.6 ms per loop (mean ± std. dev. of 7 runs, 1 loop each)\n",
      "449 ms ± 53.5 ms per loop (mean ± std. dev. of 7 runs, 1 loop each)\n",
      "13.3 ms ± 243 µs per loop (mean ± std. dev. of 7 runs, 100 loops each)\n",
      "13.1 ms ± 381 µs per loop (mean ± std. dev. of 7 runs, 100 loops each)\n",
      "301 ms ± 17.8 ms per loop (mean ± std. dev. of 7 runs, 1 loop each)\n",
      "14.7 ms ± 720 µs per loop (mean ± std. dev. of 7 runs, 100 loops each)\n",
      "75.1 ms ± 2.01 ms per loop (mean ± std. dev. of 7 runs, 10 loops each)\n"
     ]
    }
   ],
   "source": [
    "%timeit grad(X, y, W, b, H, Lt)\n",
    "%timeit grad_nb1(X, y, W, b, H, Lt)\n",
    "%timeit grad_vec(X, y, W, b, H, Lt)\n",
    "%timeit grad_vec2(X, y, W, b, H, Lt)\n",
    "%timeit grad_vec2_nb1(X, y, W, b, H, Lt)\n",
    "%timeit grad_nb2(X, y, q_W1, q_W2, q_W3, p_W4, p_W5, q_b1, q_b2, q_b3, p_b4, p_b5, q_h1, p_h2, q_mu, q_s2, z, eps)\n",
    "%timeit grad_vec2_nb3(X, y, q_W1, q_W2, q_W3, p_W4, p_W5, q_b1, q_b2, q_b3, p_b4, p_b5, q_h1, p_h2, q_mu, q_s2, z, eps1)\n",
    "%timeit eigen_lib.batch_gradient(X, L, q_W1, q_W2, q_W3, p_W4, p_W5, q_b1, q_b2, q_b3, p_b4, p_b5)"
   ]
  },
  {
   "cell_type": "code",
   "execution_count": null,
   "metadata": {},
   "outputs": [],
   "source": [
    "# %timeit grad_vec_nb1(X, y, W, b, H, Lt)"
   ]
  },
  {
   "cell_type": "markdown",
   "metadata": {},
   "source": [
    "## 8. Checking and Testing"
   ]
  },
  {
   "cell_type": "markdown",
   "metadata": {},
   "source": [
    "### 8.1 Gradient checking"
   ]
  },
  {
   "cell_type": "code",
   "execution_count": null,
   "metadata": {},
   "outputs": [],
   "source": [
    "delta = 0.00001\n",
    "nBatch = 1 # number of mini-batch to train\n",
    "M = 100 # batch size\n",
    "L = 2 # sample size\n",
    "std_const = 255 # to standardize data\n",
    "\n",
    "Xdim1, Xdim2 = trainX[0].shape[0], trainX[0].shape[1]\n",
    "dx = Xdim1 * Xdim2 # dimension of the input\n",
    "dm = 500 # dimension of the hidden layer\n",
    "dz = 3 # dimension of latent variable\n",
    "\n",
    "alpha = 0.005 # learning rate\n",
    "\n",
    "nP = 1000 # print out status every nP batches\n",
    "\n",
    "Spec = [nBatch, M, L, std_const, dx, dm, dz, alpha, nP]\n",
    "\n",
    "W,b = init_random(dx, dm, dz)\n",
    "q_W1, q_W2, q_W3, p_W4, p_W5 = W\n",
    "q_b1, q_b2, q_b3, p_b4, p_b5 = b\n",
    "eps = np.random.randn(L, dz)\n",
    "batchX, batchy = get_Batch(M, trainX, trainy)\n",
    "X = batchX.reshape(M, dx) / std_const"
   ]
  },
  {
   "cell_type": "code",
   "execution_count": null,
   "metadata": {},
   "outputs": [],
   "source": [
    "y, H, Lt, loss1 = batch_forward(Spec, X, W, b, eps)\n",
    "q_h1, p_h2 = H\n",
    "q_mu, q_s2, z, eps = Lt"
   ]
  },
  {
   "cell_type": "markdown",
   "metadata": {},
   "source": [
    "Gradient checking for \"listed\" versions of the \"grad\" functions"
   ]
  },
  {
   "cell_type": "code",
   "execution_count": null,
   "metadata": {},
   "outputs": [],
   "source": [
    "dW, db = grad_2(X, y, W, b, H, Lt)\n",
    "dL_dW1, dL_dW2, dL_dW3, dL_dW4, dL_dW5 = dW\n",
    "dL_db1, dL_db2, dL_db3, dL_db4, dL_db5 = db"
   ]
  },
  {
   "cell_type": "markdown",
   "metadata": {},
   "source": [
    "Gradient checking for \"unlisted\" versions of the \"grad\" functions"
   ]
  },
  {
   "cell_type": "code",
   "execution_count": null,
   "metadata": {},
   "outputs": [],
   "source": [
    "dL_dW1, dL_dW2, dL_dW3, dL_dW4, dL_dW5, dL_db1, dL_db2, dL_db3, dL_db4, dL_db5 =\\\n",
    "grad_vec2_nb2(X, y, q_W1, q_W2, q_W3, p_W4, p_W5, q_b1, q_b2, q_b3, p_b4, p_b5, q_h1, p_h2, q_mu, q_s2, z, eps)"
   ]
  },
  {
   "cell_type": "code",
   "execution_count": null,
   "metadata": {},
   "outputs": [],
   "source": [
    "# gradient checking\n",
    "p_W5_add = p_W5 + delta\n",
    "p_W5_red = p_W5 - delta\n",
    "\n",
    "p_b5_add = p_b5 + delta\n",
    "p_b5_red = p_b5 - delta\n",
    "\n",
    "p_W4_add = p_W4 + delta\n",
    "p_W4_red = p_W4 - delta\n",
    "\n",
    "p_b4_add = p_b4 + delta\n",
    "p_b4_red = p_b4 - delta\n",
    "\n",
    "q_W3_add = q_W3 + delta\n",
    "q_W3_red = q_W3 - delta\n",
    "\n",
    "q_b3_add = q_b3 + delta\n",
    "q_b3_red = q_b3 - delta\n",
    "\n",
    "q_W2_add = q_W2 + delta\n",
    "q_W2_red = q_W2 - delta\n",
    "\n",
    "q_b2_add = q_b2 + delta\n",
    "q_b2_red = q_b2 - delta\n",
    "\n",
    "q_W1_add = q_W1 + delta\n",
    "q_W1_red = q_W1 - delta\n",
    "\n",
    "q_b1_add = q_b1 + delta\n",
    "q_b1_red = q_b1 - delta\n",
    "\n",
    "W5_add = [q_W1, q_W2, q_W3, p_W4, p_W5_add]\n",
    "W5_red = [q_W1, q_W2, q_W3, p_W4, p_W5_red]\n",
    "\n",
    "b5_add = [q_b1, q_b2, q_b3, p_b4, p_b5_add]\n",
    "b5_red = [q_b1, q_b2, q_b3, p_b4, p_b5_red]\n",
    "\n",
    "W4_add = [q_W1, q_W2, q_W3, p_W4_add, p_W5]\n",
    "W4_red = [q_W1, q_W2, q_W3, p_W4_red, p_W5]\n",
    "\n",
    "b4_add = [q_b1, q_b2, q_b3, p_b4_add, p_b5]\n",
    "b4_red = [q_b1, q_b2, q_b3, p_b4_red, p_b5]\n",
    "\n",
    "W3_add = [q_W1, q_W2, q_W3_add, p_W4, p_W5]\n",
    "W3_red = [q_W1, q_W2, q_W3_red, p_W4, p_W5]\n",
    "\n",
    "b3_add = [q_b1, q_b2, q_b3_add, p_b4, p_b5]\n",
    "b3_red = [q_b1, q_b2, q_b3_red, p_b4, p_b5]\n",
    "\n",
    "W2_add = [q_W1, q_W2_add, q_W3, p_W4, p_W5]\n",
    "W2_red = [q_W1, q_W2_red, q_W3, p_W4, p_W5]\n",
    "\n",
    "b2_add = [q_b1, q_b2_add, q_b3, p_b4, p_b5]\n",
    "b2_red = [q_b1, q_b2_red, q_b3, p_b4, p_b5]\n",
    "\n",
    "W1_add = [q_W1_add, q_W2, q_W3, p_W4, p_W5]\n",
    "W1_red = [q_W1_red, q_W2, q_W3, p_W4, p_W5]\n",
    "\n",
    "b1_add = [q_b1_add, q_b2, q_b3, p_b4, p_b5]\n",
    "b1_red = [q_b1_red, q_b2, q_b3, p_b4, p_b5]\n",
    "\n",
    "d,d,d,loss_W5_add = batch_forward(Spec, X, W5_add, b, eps)\n",
    "d,d,d,loss_W5_red = batch_forward(Spec, X, W5_red, b, eps)\n",
    "\n",
    "d,d,d,loss_b5_add = batch_forward(Spec, X, W, b5_add, eps)\n",
    "d,d,d,loss_b5_red = batch_forward(Spec, X, W, b5_red, eps)\n",
    "\n",
    "d,d,d,loss_W4_add = batch_forward(Spec, X, W4_add, b, eps)\n",
    "d,d,d,loss_W4_red = batch_forward(Spec, X, W4_red, b, eps)\n",
    "\n",
    "d,d,d,loss_b4_add = batch_forward(Spec, X, W, b4_add, eps)\n",
    "d,d,d,loss_b4_red = batch_forward(Spec, X, W, b4_red, eps)\n",
    "\n",
    "d,d,d,loss_W3_add = batch_forward(Spec, X, W3_add, b, eps)\n",
    "d,d,d,loss_W3_red = batch_forward(Spec, X, W3_red, b, eps)\n",
    "\n",
    "d,d,d,loss_b3_add = batch_forward(Spec, X, W, b3_add, eps)\n",
    "d,d,d,loss_b3_red = batch_forward(Spec, X, W, b3_red, eps)\n",
    "\n",
    "d,d,d,loss_W2_add = batch_forward(Spec, X, W2_add, b, eps)\n",
    "d,d,d,loss_W2_red = batch_forward(Spec, X, W2_red, b, eps)\n",
    "\n",
    "d,d,d,loss_b2_add = batch_forward(Spec, X, W, b2_add, eps)\n",
    "d,d,d,loss_b2_red = batch_forward(Spec, X, W, b2_red, eps)\n",
    "\n",
    "d,d,d,loss_W1_add = batch_forward(Spec, X, W1_add, b, eps)\n",
    "d,d,d,loss_W1_red = batch_forward(Spec, X, W1_red, b, eps)\n",
    "\n",
    "d,d,d,loss_b1_add = batch_forward(Spec, X, W, b1_add, eps)\n",
    "d,d,d,loss_b1_red = batch_forward(Spec, X, W, b1_red, eps)\n",
    "\n",
    "print(\"var\", \"manual\", \"grad func\")\n",
    "print(\"W5: \", (loss_W5_add - loss_W5_red)/2/delta, np.sum(dL_dW5))\n",
    "print(\"b5: \", (loss_b5_add - loss_b5_red)/2/delta, np.sum(dL_db5))\n",
    "print(\"W4: \", (loss_W4_add - loss_W4_red)/2/delta, np.sum(dL_dW4))\n",
    "print(\"b4: \", (loss_b4_add - loss_b4_red)/2/delta, np.sum(dL_db4))\n",
    "print(\"W3: \", (loss_W3_add - loss_W3_red)/2/delta, np.sum(dL_dW3))\n",
    "print(\"b3: \", (loss_b3_add - loss_b3_red)/2/delta, np.sum(dL_db3))\n",
    "print(\"W2: \", (loss_W2_add - loss_W2_red)/2/delta, np.sum(dL_dW2))\n",
    "print(\"b2: \", (loss_b2_add - loss_b2_red)/2/delta, np.sum(dL_db2))\n",
    "print(\"W1: \", (loss_W1_add - loss_W1_red)/2/delta, np.sum(dL_dW1))\n",
    "print(\"b1: \", (loss_b1_add - loss_b1_red)/2/delta, np.sum(dL_db1))"
   ]
  },
  {
   "cell_type": "markdown",
   "metadata": {},
   "source": [
    "### 8.2 Optimized functions vs original"
   ]
  },
  {
   "cell_type": "markdown",
   "metadata": {},
   "source": [
    "In this section we test the optimized function vs the original ones to ensure the new functions are correct. Although the implementation involves more than $10$ functions, we can ensure the accuracy by testing the two key functions *grad* and *batch_forward* as they utilize most of the other functions."
   ]
  },
  {
   "cell_type": "code",
   "execution_count": null,
   "metadata": {},
   "outputs": [],
   "source": [
    "nBatch = 1 # number of mini-batch to train\n",
    "M = 100 # batch size\n",
    "L = 2 # sample size\n",
    "std_const = 255 # to standardize data\n",
    "\n",
    "Xdim1, Xdim2 = trainX[0].shape[0], trainX[0].shape[1]\n",
    "dx = Xdim1 * Xdim2 # dimension of the input\n",
    "dm = 500 # dimension of the hidden layer\n",
    "dz = 3 # dimension of latent variable\n",
    "\n",
    "alpha = 0.005 # learning rate\n",
    "\n",
    "nP = 1000 # print out status every nP batches\n",
    "\n",
    "Spec = [nBatch, M, L, std_const, dx, dm, dz, alpha, nP]\n",
    "\n",
    "W,b = init_random(dx, dm, dz)\n",
    "q_W1, q_W2, q_W3, p_W4, p_W5 = W\n",
    "q_b1, q_b2, q_b3, p_b4, p_b5 = b\n",
    "eps = np.random.randn(L, dz)\n",
    "batchX, batchy = get_Batch(M, trainX, trainy)\n",
    "X = batchX.reshape(M, dx) / std_const"
   ]
  },
  {
   "cell_type": "markdown",
   "metadata": {},
   "source": [
    "#### 8.2.1 batch_forward"
   ]
  },
  {
   "cell_type": "code",
   "execution_count": null,
   "metadata": {},
   "outputs": [],
   "source": [
    "y_original, H_original, Lt_original, loss_original = batch_forward(Spec, X, W, b, eps)\n",
    "q_h1_original, p_h2_original = H_original\n",
    "q_mu_original, q_s2_original, z_original, eps_original = Lt_original"
   ]
  },
  {
   "cell_type": "code",
   "execution_count": null,
   "metadata": {},
   "outputs": [],
   "source": [
    "y_new, q_h1_new, p_h2_new, q_mu_new, q_s2_new, z_new, loss_new = batch_forward_vec_nb2(Spec, X, W, b, eps)"
   ]
  },
  {
   "cell_type": "code",
   "execution_count": null,
   "metadata": {},
   "outputs": [],
   "source": [
    "y_new, q_h1_new, p_h2_new, q_mu_new, q_s2_new, z_new, loss_new = \\\n",
    "batch_forward_nb2(M, L, dm, dz, X, q_W1, q_W2, q_W3, p_W4, p_W5, q_b1, q_b2, q_b3, p_b4, p_b5, eps)"
   ]
  },
  {
   "cell_type": "code",
   "execution_count": null,
   "metadata": {},
   "outputs": [],
   "source": [
    "print(np.allclose(y_original, y_new))\n",
    "print(np.allclose(q_h1_original, q_h1_new))\n",
    "print(np.allclose(p_h2_original, p_h2_new))\n",
    "print(np.allclose(q_mu_original, q_mu_new))\n",
    "print(np.allclose(q_s2_original, q_s2_new))\n",
    "print(np.allclose(z_original, z_new))\n",
    "print(np.allclose(loss_original, loss_new))"
   ]
  },
  {
   "cell_type": "markdown",
   "metadata": {},
   "source": [
    "#### 2.2 grad"
   ]
  },
  {
   "cell_type": "code",
   "execution_count": null,
   "metadata": {},
   "outputs": [],
   "source": [
    "y, H, Lt, loss = batch_forward(Spec, X, W, b, eps)\n",
    "dW_ori, db_ori = grad(X, y, W, b, H, Lt)"
   ]
  },
  {
   "cell_type": "code",
   "execution_count": null,
   "metadata": {},
   "outputs": [],
   "source": [
    "nBatch, M, L, std_const, dx, dm, dz, alpha, nP = Spec\n",
    "q_W1, q_W2, q_W3, p_W4, p_W5 = W\n",
    "q_b1, q_b2, q_b3, p_b4, p_b5 = b\n",
    "q_h1, p_h2 = H\n",
    "q_mu, q_s2, z, eps = Lt\n",
    "dJ_dW1, dJ_dW2, dJ_dW3, dJ_dW4, dJ_dW5, dJ_db1, dJ_db2, dJ_db3, dJ_db4, dJ_db5 = \\\n",
    "grad_nb2(X, y, q_W1, q_W2, q_W3, p_W4, p_W5, q_b1, q_b2, q_b3, p_b4, p_b5, q_h1, p_h2, q_mu, q_s2, z, eps)"
   ]
  },
  {
   "cell_type": "code",
   "execution_count": null,
   "metadata": {},
   "outputs": [],
   "source": [
    "print(np.allclose(dW_ori[0], dJ_dW1))\n",
    "print(np.allclose(dW_ori[1], dJ_dW2))\n",
    "print(np.allclose(dW_ori[2], dJ_dW3))\n",
    "print(np.allclose(dW_ori[3], dJ_dW4))\n",
    "print(np.allclose(dW_ori[4], dJ_dW5))\n",
    "\n",
    "print(np.allclose(db_ori[0], dJ_db1))\n",
    "print(np.allclose(db_ori[1], dJ_db2))\n",
    "print(np.allclose(db_ori[2], dJ_db3))\n",
    "print(np.allclose(db_ori[3], dJ_db4))\n",
    "print(np.allclose(db_ori[4], dJ_db5))"
   ]
  },
  {
   "cell_type": "code",
   "execution_count": null,
   "metadata": {},
   "outputs": [],
   "source": [
    "dW_new, db_new = grad_vec_nb1(X, y, W, b, H, Lt)"
   ]
  },
  {
   "cell_type": "code",
   "execution_count": null,
   "metadata": {},
   "outputs": [],
   "source": [
    "for i in range(5):\n",
    "    print(np.allclose(dW_ori[i], dW_new[i]))\n",
    "    print(np.allclose(db_ori[i], db_new[i]))"
   ]
  },
  {
   "cell_type": "markdown",
   "metadata": {},
   "source": [
    "### 8.3 Other Testings"
   ]
  },
  {
   "cell_type": "markdown",
   "metadata": {},
   "source": [
    "#### 8.3.1 sample_z function testing"
   ]
  },
  {
   "cell_type": "markdown",
   "metadata": {},
   "source": [
    "This is to test the implementation of *sample_z* function in Model v0."
   ]
  },
  {
   "cell_type": "code",
   "execution_count": null,
   "metadata": {},
   "outputs": [],
   "source": [
    "# test sample_z\n",
    "a = np.array([1,2])\n",
    "b = np.array([4,9])\n",
    "eps = np.array([0.1,0.2])\n",
    "\n",
    "sample_z(a,b,eps) # returns (dz,)\n",
    "\n",
    "tz = np.zeros((M, L, dz))\n",
    "tz[0,0,] = sample_z(a,b,eps)\n",
    "tz[0,0,].shape"
   ]
  },
  {
   "cell_type": "markdown",
   "metadata": {},
   "source": [
    "#### 8.3.2 parameter update function testing"
   ]
  },
  {
   "cell_type": "markdown",
   "metadata": {},
   "source": [
    "During development of the *para_update* function, we encountered weird results and these are testings to find out the reasons behind."
   ]
  },
  {
   "cell_type": "code",
   "execution_count": null,
   "metadata": {},
   "outputs": [],
   "source": [
    "# check parameter update\n",
    "W1, b1 = para_update(W, b, dW, db, alpha)\n",
    "q_W1_n, q_W2_n, q_W3_n, p_W4_n, p_W5_n = W1\n",
    "q_b1_n, q_b2_n, q_b3_n, p_b4_n, p_b5_n = b1\n",
    "\n",
    "dJ_dW1, dJ_dW2, dJ_dW3, dJ_dW4, dJ_dW5 = dW\n",
    "dJ_db1, dJ_db2, dJ_db3, dJ_db4, dJ_db5 = db\n",
    "\n",
    "print(np.allclose(q_W1_n+alpha*dJ_dW1, q_W1))\n",
    "print(np.allclose(q_b1_n+alpha*dJ_db1, q_b1))\n",
    "print(np.allclose(q_W2_n+alpha*dJ_dW2, q_W2))\n",
    "print(np.allclose(q_b2_n+alpha*dJ_db2, q_b2))\n",
    "print(np.allclose(q_W3_n+alpha*dJ_dW3, q_W3))\n",
    "print(np.allclose(q_b3_n+alpha*dJ_db3, q_b3))\n",
    "print(np.allclose(p_W4_n+alpha*dJ_dW4, p_W4))\n",
    "print(np.allclose(p_b4_n+alpha*dJ_db4, p_b4))\n",
    "print(np.allclose(p_W5_n+alpha*dJ_dW5, p_W5))\n",
    "print(np.allclose(p_b5_n+alpha*dJ_db5, p_b5))"
   ]
  },
  {
   "cell_type": "code",
   "execution_count": null,
   "metadata": {},
   "outputs": [],
   "source": [
    "# test for function return list\n",
    "\"\"\"\n",
    "during implementation of ADAM, I first initiated all the s/v/sc/vc variables in one line of codes \n",
    "by assigning them to the same function returns from init_random.\n",
    "Later I realized in this way, they share the same reference that by changing one of them,\n",
    "I'll accidentally change the values of everything else.\n",
    "This test is to prove this.\n",
    "\"\"\"\n",
    "def test_by_ref():\n",
    "    a = [1,2,3]\n",
    "    b = [4,5,6]\n",
    "    return a,b\n",
    "\n",
    "a1,b1 = a2, b2 = test_by_ref()\n",
    "print(\"before any change: \", a1[0], a2[0])\n",
    "a2[0] = a2[0]* 2 + 5\n",
    "print(\"after chancing a2[0] only: \",a1[0], a2[0])"
   ]
  },
  {
   "cell_type": "markdown",
   "metadata": {},
   "source": [
    "## 9. Figures for Final Reports"
   ]
  },
  {
   "cell_type": "code",
   "execution_count": null,
   "metadata": {},
   "outputs": [],
   "source": [
    "import matplotlib.pyplot as plt\n",
    "import matplotlib.image as mpimg\n",
    "from matplotlib import rcParams\n",
    "\n",
    "%matplotlib inline"
   ]
  },
  {
   "cell_type": "code",
   "execution_count": null,
   "metadata": {},
   "outputs": [],
   "source": [
    "def plot_samples_final(trainX, trainy, W, b, fig1, fig2, std_const = 255):\n",
    "    \"\"\"\n",
    "    Randomly sample 9 figures from training data, reconstruct based on \n",
    "    user specified model parameters and plot for comparison.\n",
    "    \n",
    "    Input parameters：\n",
    "    ----------\n",
    "    trainX: array_like\n",
    "            Training dataset inputs.\n",
    "            Dimension: number of sample by dim1 by dim2\n",
    "    trainy: array_like\n",
    "            Training dataset labels. \n",
    "            This variable is not currently used in the function. For further developments.\n",
    "    W: list\n",
    "            List of model weights parameters, same format as train_AEVB function output variable W.\n",
    "    b: list\n",
    "            List of model bias parameters, same format as train_AEVB function output variable b.\n",
    "    std_const: integer, optional\n",
    "            Normlizing constant to reconstruct data.\n",
    "            Currently default at 255 which is usually used for black and white image data.            \n",
    "    \n",
    "    Output:\n",
    "    ----------\n",
    "    9 random sampled figures from training data and the model-reconstructed ones for comparison\n",
    "    \"\"\"\n",
    "\n",
    "    Xdim1, Xdim2 = trainX[0].shape[0], trainX[0].shape[1]\n",
    "    M = 36\n",
    "    L = 1\n",
    "    dx = Xdim1 * Xdim2\n",
    "    dz, dm = W[1].shape[0], W[1].shape[1]\n",
    "    Spec = [1, M, L, 255, dx, dm, dz, 0.005, 0]\n",
    "    n = int(np.sqrt(M))\n",
    "\n",
    "    batchX, batchy = get_Batch_nb(M, trainX, trainy)\n",
    "    X = batchX.reshape(M, dx) / std_const\n",
    "    eps = np.zeros((L, dz))\n",
    "\n",
    "    y, q_h1, p_h2, q_mu, q_s2, z, loss = batch_forward_vec_nb2(Spec, X, W, b, eps)\n",
    "    \n",
    "    fig, ax = plt.subplots(M)\n",
    "    #fig.suptitle('Sample Images')\n",
    "    \n",
    "    for i in range(M):\n",
    "        # define subplot\n",
    "        plt.subplot(n,n,i+1)\n",
    "        plt.axis('off')\n",
    "        # plot raw pixel data\n",
    "        plt.imshow(batchX[i], cmap=plt.get_cmap('gray'))\n",
    "    # show the figure\n",
    "    plt.axis('off')\n",
    "    plt.show()\n",
    "    fig.savefig(fig1)\n",
    "\n",
    "    fig, ax = plt.subplots(M)\n",
    "    #fig.suptitle('Reconstructed Images')\n",
    "    \n",
    "    for i in range(M):\n",
    "        # define subplot\n",
    "        plt.subplot(n,n,i+1)\n",
    "        plt.axis('off')\n",
    "        # plot raw pixel data\n",
    "        plt.imshow(y[i,L-1,].reshape(Xdim1, Xdim2) * std_const, cmap=plt.get_cmap('gray'))\n",
    "    # show the figure\n",
    "\n",
    "    plt.show()\n",
    "    fig.savefig(fig2)"
   ]
  },
  {
   "cell_type": "code",
   "execution_count": null,
   "metadata": {},
   "outputs": [],
   "source": [
    "def combine_fig(fig1, fig2, output):\n",
    "    \"\"\"helper function for final report\"\"\"\n",
    "    # figure size in inches optional\n",
    "    # rcParams['figure.figsize'] = 11,8\n",
    "\n",
    "    # read images\n",
    "    img_A = mpimg.imread(fig1)\n",
    "    img_B = mpimg.imread(fig2)\n",
    "\n",
    "    # display images\n",
    "    fig, ax = plt.subplots(1,2)\n",
    "    plt.subplot(1,2,1)\n",
    "    plt.axis('off')\n",
    "    plt.imshow(img_A)\n",
    "    plt.subplot(1,2,2)\n",
    "    plt.axis('off')\n",
    "    plt.imshow(img_B)\n",
    "    plt.show()\n",
    "    fig.set_size_inches(60, 20)\n",
    "    fig.savefig(output)"
   ]
  },
  {
   "cell_type": "markdown",
   "metadata": {},
   "source": [
    "### 9.1 Section 2.2.2 baseline model performance reasonabless checking"
   ]
  },
  {
   "cell_type": "code",
   "execution_count": null,
   "metadata": {},
   "outputs": [],
   "source": [
    "filename = \"Files/2020_04_22_Model_v1.0.txt\"\n",
    "para = get_para(filename)\n",
    "doc = para['doc']\n",
    "W = para['W']\n",
    "b = para['b']\n",
    "loss = para['loss']"
   ]
  },
  {
   "cell_type": "code",
   "execution_count": null,
   "metadata": {},
   "outputs": [],
   "source": [
    "fig1 = \"Figs_Raw/Fig1_Sample.png\"\n",
    "fig2 = \"Figs_Raw/Fig1_Reconstructed.png\"\n",
    "plot_samples_final(trainX, trainy, W, b, fig1, fig2)"
   ]
  },
  {
   "cell_type": "code",
   "execution_count": null,
   "metadata": {},
   "outputs": [],
   "source": [
    "combine_fig(fig1, fig2, \"Figs/Fig2.png\")"
   ]
  },
  {
   "cell_type": "code",
   "execution_count": null,
   "metadata": {},
   "outputs": [],
   "source": [
    "fig, ax = plt.subplots(1,1)\n",
    "plt.plot(loss)\n",
    "fig.savefig(\"Figs/Fig1.png\")"
   ]
  },
  {
   "cell_type": "markdown",
   "metadata": {},
   "source": [
    "### 9.2 Section 2.3 ADAM"
   ]
  },
  {
   "cell_type": "code",
   "execution_count": null,
   "metadata": {},
   "outputs": [],
   "source": [
    "filename = \"Files/2020_04_24_12_38_14_Model_v1.1_parameter.txt\"\n",
    "para = get_para(filename)\n",
    "doc = para['doc']\n",
    "W = para['W']\n",
    "b = para['b']\n",
    "loss = para['loss']"
   ]
  },
  {
   "cell_type": "code",
   "execution_count": null,
   "metadata": {},
   "outputs": [],
   "source": [
    "fig, ax = plt.subplots(1,1)\n",
    "plt.plot(loss)\n",
    "fig.savefig(\"Figs/Fig3.png\")"
   ]
  },
  {
   "cell_type": "code",
   "execution_count": null,
   "metadata": {},
   "outputs": [],
   "source": [
    "filename = \"Files/2020_04_24_22_18_49_Model_v1.1_parameter.txt\"\n",
    "para = get_para(filename)\n",
    "doc = para['doc']\n",
    "W = para['W']\n",
    "b = para['b']\n",
    "loss = para['loss']"
   ]
  },
  {
   "cell_type": "code",
   "execution_count": null,
   "metadata": {},
   "outputs": [],
   "source": [
    "fig1 = \"Figs_Raw/Fig4_Sample.png\"\n",
    "fig2 = \"Figs_Raw/Reconstructed.png\"\n",
    "plot_samples_final(trainX, trainy, W, b, fig1, fig2)"
   ]
  },
  {
   "cell_type": "code",
   "execution_count": null,
   "metadata": {},
   "outputs": [],
   "source": [
    "combine_fig(fig1, fig2, \"Figs/Fig4.png\")"
   ]
  },
  {
   "cell_type": "markdown",
   "metadata": {},
   "source": [
    "### 9.3 Section 2.4 Profiling"
   ]
  },
  {
   "cell_type": "code",
   "execution_count": null,
   "metadata": {},
   "outputs": [],
   "source": [
    "profile_filename = \"Files/2020_04_24_11_18_59_Model_v1.1_profiling_v1.prof\"\n",
    "p = pstats.Stats(profile_filename)\n",
    "p.sort_stats('time', 'cumulative').print_stats(5)\n",
    "pass"
   ]
  },
  {
   "cell_type": "markdown",
   "metadata": {},
   "source": [
    "### 9.4 Section 3.1 MNIST Dataset"
   ]
  },
  {
   "cell_type": "code",
   "execution_count": null,
   "metadata": {},
   "outputs": [],
   "source": [
    "filename = \"Files/2020_04_30_Final_Model_dz3_100k_parameter.txt\"\n",
    "para = get_para(filename)\n",
    "doc = para['doc']\n",
    "W = para['W']\n",
    "b = para['b']\n",
    "loss = para['loss']"
   ]
  },
  {
   "cell_type": "code",
   "execution_count": null,
   "metadata": {},
   "outputs": [],
   "source": [
    "fig1 = \"Figs_Raw/Fig9_Sample.png\"\n",
    "fig2 = \"Figs_Raw/Fig9_Reconstructed.png\"\n",
    "plot_samples_final(trainX, trainy, W, b, fig1, fig2)"
   ]
  },
  {
   "cell_type": "code",
   "execution_count": null,
   "metadata": {},
   "outputs": [],
   "source": [
    "combine_fig(fig1, fig2, \"Figs/Fig9.png\")"
   ]
  },
  {
   "cell_type": "code",
   "execution_count": null,
   "metadata": {},
   "outputs": [],
   "source": [
    "filename = \"Files/2020_04_30_Final_Model_dz5_100k_parameter.txt\"\n",
    "para = get_para(filename)\n",
    "doc = para['doc']\n",
    "W = para['W']\n",
    "b = para['b']\n",
    "loss = para['loss']"
   ]
  },
  {
   "cell_type": "code",
   "execution_count": null,
   "metadata": {},
   "outputs": [],
   "source": [
    "fig1 = \"Figs_Raw/Fig10_Sample.png\"\n",
    "fig2 = \"Figs_Raw/Fig10_Reconstructed.png\"\n",
    "plot_samples_final(trainX, trainy, W, b, fig1, fig2)"
   ]
  },
  {
   "cell_type": "code",
   "execution_count": null,
   "metadata": {},
   "outputs": [],
   "source": [
    "combine_fig(fig1, fig2, \"Figs/Fig10.png\")"
   ]
  },
  {
   "cell_type": "code",
   "execution_count": null,
   "metadata": {},
   "outputs": [],
   "source": [
    "filename = \"Files/2020_04_30_Final_Model_dz10_100k_parameter.txt\"\n",
    "para = get_para(filename)\n",
    "doc = para['doc']\n",
    "W = para['W']\n",
    "b = para['b']\n",
    "loss = para['loss']"
   ]
  },
  {
   "cell_type": "code",
   "execution_count": null,
   "metadata": {},
   "outputs": [],
   "source": [
    "fig1 = \"Figs_Raw/Fig11_Sample.png\"\n",
    "fig2 = \"Figs_Raw/Fig11_Reconstructed.png\"\n",
    "plot_samples_final(trainX, trainy, W, b, fig1, fig2)"
   ]
  },
  {
   "cell_type": "code",
   "execution_count": null,
   "metadata": {},
   "outputs": [],
   "source": [
    "combine_fig(fig1, fig2, \"Figs/Fig11.png\")"
   ]
  },
  {
   "cell_type": "markdown",
   "metadata": {},
   "source": [
    "### 9.5 Section 3.2 Caltech Dataset"
   ]
  },
  {
   "cell_type": "code",
   "execution_count": null,
   "metadata": {},
   "outputs": [],
   "source": [
    "filename = \"Files/2020_04_30_22_41_05_Model_v1.3_parameter_Caltech.txt\"\n",
    "para = get_para(filename)\n",
    "doc = para['doc']\n",
    "W = para['W']\n",
    "b = para['b']\n",
    "loss = para['loss']"
   ]
  },
  {
   "cell_type": "code",
   "execution_count": null,
   "metadata": {},
   "outputs": [],
   "source": [
    "def plot_samples_caltech(trainX, trainy, W, b, fig1, fig2, std_const = 255):\n",
    "    \"\"\"\n",
    "    Randomly sample 9 figures from training data, reconstruct based on \n",
    "    user specified model parameters and plot for comparison.\n",
    "    \n",
    "    Input parameters：\n",
    "    ----------\n",
    "    trainX: array_like\n",
    "            Training dataset inputs.\n",
    "            Dimension: number of sample by dim1 by dim2 ...\n",
    "    trainy: array_like\n",
    "            Training dataset labels. \n",
    "            This variable is not currently used in the function. For further developments.\n",
    "    W: list\n",
    "            List of model weights parameters, same format as train_AEVB function output variable W.\n",
    "    b: list\n",
    "            List of model bias parameters, same format as train_AEVB function output variable b.\n",
    "    std_const: integer, optional\n",
    "            Normlizing constant to reconstruct data.\n",
    "            Currently default at 255 which is usually used for black and white image data.            \n",
    "    \n",
    "    Output:\n",
    "    ----------\n",
    "    9 random sampled figures from training data and the model-reconstructed ones for comparison\n",
    "    \"\"\"\n",
    "\n",
    "    dx = trainX.shape[1]\n",
    "    M = 36\n",
    "    L = 1\n",
    "    dz, dm = W[1].shape[0], W[1].shape[1]\n",
    "    Xdim1 = Xdim2 = int(np.sqrt(dx))\n",
    "    Spec = [1, M, L, 255, dx, dm, dz, 0.005, 0]\n",
    "    n = int(np.sqrt(M))\n",
    "    \n",
    "    batchX, batchy = get_Batch_nb(M, trainX, trainy)\n",
    "    X = batchX.reshape(M, dx) / std_const\n",
    "    eps = np.zeros((L, dz))\n",
    "    \n",
    "    y, q_h1, p_h2, q_mu, q_s2, z, loss = batch_forward_vec_nb2(Spec, X, W, b, eps)\n",
    "    \n",
    "    fig, ax = plt.subplots(M)\n",
    "    #fig.suptitle('Sample Images')\n",
    "    \n",
    "    for i in range(M):\n",
    "        # define subplot\n",
    "        plt.subplot(n,n,i+1)\n",
    "        plt.axis('off')\n",
    "        # plot raw pixel data\n",
    "        plt.imshow(batchX[i].reshape(Xdim1,Xdim2), cmap=plt.get_cmap('gray'))\n",
    "    # show the figure\n",
    "    plt.axis('off')\n",
    "    plt.show()\n",
    "    fig.savefig(fig1)\n",
    "\n",
    "    fig, ax = plt.subplots(M)\n",
    "    #fig.suptitle('Reconstructed Images')\n",
    "    \n",
    "    for i in range(M):\n",
    "        # define subplot\n",
    "        plt.subplot(n,n,i+1)\n",
    "        plt.axis('off')\n",
    "        # plot raw pixel data\n",
    "        plt.imshow(y[i,L-1,].reshape(Xdim1, Xdim2) * std_const, cmap=plt.get_cmap('gray'))\n",
    "    # show the figure\n",
    "\n",
    "    plt.show()\n",
    "    fig.savefig(fig2)"
   ]
  },
  {
   "cell_type": "code",
   "execution_count": null,
   "metadata": {},
   "outputs": [],
   "source": [
    "from scipy.io import loadmat\n",
    "caltech = loadmat('Files/caltech101_silhouettes_16.mat')\n",
    "calX = caltech['X']\n",
    "caly = caltech['Y'].reshape(-1,1)"
   ]
  },
  {
   "cell_type": "code",
   "execution_count": null,
   "metadata": {},
   "outputs": [],
   "source": [
    "fig1 = \"Figs_Raw/Fig12_Sample.png\"\n",
    "fig2 = \"Figs_Raw/Fig12_Reconstructed.png\"\n",
    "plot_samples_caltech(calX, caly, W, b, fig1, fig2, std_const = 1)"
   ]
  },
  {
   "cell_type": "code",
   "execution_count": null,
   "metadata": {},
   "outputs": [],
   "source": [
    "combine_fig(fig1, fig2, \"Figs/Fig12.png\")"
   ]
  }
 ],
 "metadata": {
  "kernelspec": {
   "display_name": "Python 3",
   "language": "python",
   "name": "python3"
  },
  "language_info": {
   "codemirror_mode": {
    "name": "ipython",
    "version": 3
   },
   "file_extension": ".py",
   "mimetype": "text/x-python",
   "name": "python",
   "nbconvert_exporter": "python",
   "pygments_lexer": "ipython3",
   "version": "3.6.10"
  }
 },
 "nbformat": 4,
 "nbformat_minor": 2
}
