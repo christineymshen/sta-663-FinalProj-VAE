{
 "cells": [
  {
   "cell_type": "markdown",
   "metadata": {},
   "source": [
    "# STA 663 Final Project"
   ]
  },
  {
   "cell_type": "markdown",
   "metadata": {},
   "source": [
    "## Implementation of Auto-Encoding Variational Bayes"
   ]
  },
  {
   "cell_type": "markdown",
   "metadata": {},
   "source": [
    "In this file we have the final codes as well as gradient testing, and testing vs basline version to ensure accuracy."
   ]
  },
  {
   "cell_type": "markdown",
   "metadata": {},
   "source": [
    "## Final Codes"
   ]
  },
  {
   "cell_type": "code",
   "execution_count": 9,
   "metadata": {},
   "outputs": [],
   "source": [
    "import numpy as np\n",
    "import matplotlib.pyplot as plt\n",
    "from numba import jit, njit"
   ]
  },
  {
   "cell_type": "code",
   "execution_count": 10,
   "metadata": {},
   "outputs": [],
   "source": [
    "def sigmoid(x):\n",
    "    \"\"\"sigmoid function\"\"\"\n",
    "    return 1/(1+np.exp(-x))\n",
    "\n",
    "def sigmoid_gradient(x):\n",
    "    \"\"\"gradient of sigmoid function\"\"\"\n",
    "    return x * (1-x)\n",
    "\n",
    "def tanh(x):\n",
    "    \"\"\"tanh function\"\"\"\n",
    "    return np.tanh(x)\n",
    "    \n",
    "def tanh_gradient(x):\n",
    "    \"\"\"gradient of tanh function\"\"\"\n",
    "    return 1-np.power(x,2)"
   ]
  },
  {
   "cell_type": "code",
   "execution_count": 11,
   "metadata": {},
   "outputs": [],
   "source": [
    "def get_Batch(M, trainX, trainy):\n",
    "    \"\"\"randomly sample a mini batch of size M from the training data\"\"\"\n",
    "    \n",
    "    N = trainX.shape[0]\n",
    "    sample = np.random.choice(N,M)\n",
    "    \n",
    "    return trainX[sample], trainy[sample]"
   ]
  },
  {
   "cell_type": "code",
   "execution_count": 12,
   "metadata": {},
   "outputs": [],
   "source": [
    "def init_random(dx, dm, dz, option = \"xavier\"):\n",
    "    \"\"\"\n",
    "    parameter initialization\n",
    "    xavier initialization for weights\n",
    "    all zero for bias\n",
    "    can be used to initialize all zero variables for ADAM by setting \"option = zeros\"\n",
    "    \"\"\"\n",
    "    \n",
    "    # weights initialization\n",
    "    if option == \"zeros\":\n",
    "        # only for variables in ADAM algorithm, not to be used for true model parameters\n",
    "        q_W1 = np.zeros((dm, dx))\n",
    "        p_W5 = np.zeros((dx, dm))\n",
    "        q_W2 = np.zeros((dz, dm))\n",
    "        q_W3 = np.zeros((dz, dm))\n",
    "        p_W4 = np.zeros((dm, dz))\n",
    "    elif option == \"xavier\":\n",
    "        bound = np.sqrt(6)/ np.sqrt(dx + dm)\n",
    "        q_W1 = np.random.uniform(-bound, bound, (dm, dx))\n",
    "        p_W5 = np.random.uniform(-bound, bound, (dx, dm))\n",
    "        bound = np.sqrt(6)/ np.sqrt(dm + dz)\n",
    "        q_W2 = np.random.uniform(-bound, bound, (dz, dm))\n",
    "        q_W3 = np.random.uniform(-bound, bound, (dz, dm))\n",
    "        p_W4 = np.random.uniform(-bound, bound, (dm, dz))\n",
    "    \n",
    "    # bias initialization\n",
    "    q_b1 = np.zeros((dm, 1))\n",
    "    p_b5 = np.zeros((dx, 1))\n",
    "    q_b2 = np.zeros((dz, 1))\n",
    "    q_b3 = np.zeros((dz, 1))\n",
    "    p_b4 = np.zeros((dm, 1))\n",
    "    \n",
    "    W = [q_W1, q_W2, q_W3, p_W4, p_W5]\n",
    "    b = [q_b1, q_b2, q_b3, p_b4, p_b5]\n",
    "    \n",
    "    return W, b"
   ]
  },
  {
   "cell_type": "code",
   "execution_count": 13,
   "metadata": {},
   "outputs": [],
   "source": [
    "def encoder_forward_vec(X, W, b):\n",
    "    \"\"\"\n",
    "    encoder forward propagation - vectorized version\n",
    "    X: M by dx\n",
    "    \"\"\"\n",
    "    \n",
    "    q_W1, q_W2, q_W3, d,d = W\n",
    "    q_b1, q_b2, q_b3, d,d = b\n",
    "    \n",
    "    q_a1 = q_W1 @ X.T + q_b1 # dm by M\n",
    "    q_h1 = tanh_nb(q_a1) # dm by M\n",
    "    q_mu = q_W2 @ q_h1 + q_b2 # dz by M\n",
    "    q_a2 = q_W3 @ q_h1 + q_b3 # dz by M\n",
    "    q_s2 = np.exp(q_a2) # dz by M\n",
    "    \n",
    "    return q_h1.T, q_a2.T, q_mu.T, q_s2.T"
   ]
  },
  {
   "cell_type": "code",
   "execution_count": 14,
   "metadata": {},
   "outputs": [],
   "source": [
    "def sample_z_vec(q_mu, q_s2, eps):\n",
    "    \"\"\"sample latent variable z - vectorized version\"\"\"\n",
    "    \n",
    "    M, dz = q_mu.shape \n",
    "\n",
    "    return q_mu.reshape(M,1,dz) + np.sqrt(q_s2).reshape(M,1,dz) * eps"
   ]
  },
  {
   "cell_type": "code",
   "execution_count": 15,
   "metadata": {},
   "outputs": [],
   "source": [
    "def decoder_forward_vec(W, b, z):\n",
    "    \"\"\"\n",
    "    decoder forward propagation - vectorized version\n",
    "    z: M by L by dz\n",
    "    \"\"\"\n",
    "    \n",
    "    d,d,d, p_W4, p_W5 = W\n",
    "    d,d,d, p_b4, p_b5 = b\n",
    "    \n",
    "    p_a3 = z @ p_W4.T + p_b4.T # M by L by dm\n",
    "    p_h2 = tanh_nb(p_a3) # M by L by dm\n",
    "            \n",
    "    p_a4 = p_h2 @ p_W5.T + p_b5.T # M by L by dx\n",
    "    y = sigmoid_nb(p_a4) # M by L by dx\n",
    "    \n",
    "    return y, p_h2"
   ]
  },
  {
   "cell_type": "code",
   "execution_count": 16,
   "metadata": {},
   "outputs": [],
   "source": [
    "def total_loss_vec(X, y, q_a2, q_mu, q_s2):\n",
    "    \"\"\"target total loss function - to minimize - vectorized version\"\"\"\n",
    "    \n",
    "    M, dx, L = X.shape[0], X.shape[1], y.shape[1]\n",
    "    \n",
    "    # reconstruction loss for each sample of latent variable\n",
    "    loss = -np.sum(X.reshape(M,1,dx) * np.log(y) + (1-X.reshape(M,1,dx))* np.log(1-y)) / L\n",
    "    \n",
    "    # KL divergence/ regularization\n",
    "    loss = (loss + np.sum(np.power(q_mu,2) + q_s2 - q_a2 - 1)/2)/M\n",
    "    \n",
    "    return loss"
   ]
  },
  {
   "cell_type": "code",
   "execution_count": 17,
   "metadata": {},
   "outputs": [],
   "source": [
    "def para_update(W, b, dW, db, alpha):\n",
    "    \"\"\"update weights and bias for gradient descent\"\"\"\n",
    "    \n",
    "    assert len(W) == len(b) == len(dW) == len(db)\n",
    "    n = len(W)\n",
    "    \n",
    "    for i in range(n):\n",
    "        W[i] = W[i] - alpha * dW[i]\n",
    "        b[i] = b[i] - alpha * db[i]\n",
    "    \n",
    "    return W, b"
   ]
  },
  {
   "cell_type": "code",
   "execution_count": 18,
   "metadata": {},
   "outputs": [],
   "source": [
    "sigmoid_nb = jit(sigmoid, nopython=True, cache=True)\n",
    "sigmoid_gradient_nb = jit(sigmoid_gradient, nopython=True, cache=True)\n",
    "tanh_nb = jit(tanh, nopython=True, cache=True)\n",
    "tanh_gradient_nb = jit(tanh_gradient, nopython=True, cache=True)\n",
    "get_Batch_nb = jit(get_Batch, nopython=True)\n",
    "init_random_nb1 = jit(init_random, nopython=True)\n",
    "sample_z_vec_nb = jit(sample_z_vec, nopython=True, cache=True)\n",
    "encoder_forward_vec_nb1 = jit(encoder_forward_vec, nopython=True, cache=True)\n",
    "decoder_forward_vec_nb1 = jit(decoder_forward_vec, cache=True)\n",
    "total_loss_vec_nb = jit(total_loss_vec, nopython=True, cache=True)\n",
    "para_update_nb = jit(para_update, nopython=True, cache=True)"
   ]
  },
  {
   "cell_type": "code",
   "execution_count": 19,
   "metadata": {},
   "outputs": [],
   "source": [
    "@jit(cache=True)\n",
    "def batch_forward_vec_nb2(Spec, X, W, b, eps):\n",
    "    \"\"\"forward propagation for one mini batch - full vectorized version\"\"\"\n",
    "    d, M, L, d, dx, dm, dz, d, d = Spec\n",
    "\n",
    "    p_h2 = np.zeros((M, L, dm))\n",
    "    z = np.zeros((M, L, dz))\n",
    "    y = np.zeros((M, L, dx))\n",
    "    \n",
    "    q_h1, q_a2, q_mu, q_s2 = encoder_forward_vec_nb1(X, W, b)\n",
    "    z = sample_z_vec_nb(q_mu, q_s2, eps)\n",
    "    y, p_h2 = decoder_forward_vec_nb1(W, b, z)\n",
    "    \n",
    "    loss = total_loss_vec_nb(X, y, q_a2, q_mu, q_s2)\n",
    "\n",
    "    return y, q_h1, p_h2, q_mu, q_s2, z, loss"
   ]
  },
  {
   "cell_type": "code",
   "execution_count": 20,
   "metadata": {},
   "outputs": [],
   "source": [
    "@njit\n",
    "def grad_vec2_nb2(X, y, q_W1, q_W2, q_W3, p_W4, p_W5, q_b1, q_b2, q_b3, p_b4, p_b5, q_h1, p_h2, q_mu, q_s2, z, eps):\n",
    "    \"\"\"\"\n",
    "    batch gradient calculation - vectorized version\n",
    "    not using lists for parameters to enable numba nopython\n",
    "    \n",
    "    inputs:\n",
    "        X: Data [M by dx]\n",
    "        y: Model results [M by L by dx]\n",
    "        q_W1, q_W2, q_W3: Weights for encoder\n",
    "        p_W4, p_W5: Weights for decoder\n",
    "        q_b1, q_b2, q_b3: Bias for encoder\n",
    "        p_b4, p_b5: Bias for decoder\n",
    "        q_h1 (M by dm), p_h2 (M by L by dm): intermediate activation variables\n",
    "        eps (L by dz), z (M by L by dz), q_s2 (M by dz), q_mu (M by dz): for sampling latent variables from posterior\n",
    "    \"\"\"\n",
    "    \n",
    "    M = X.shape[0]\n",
    "    L = y.shape[1]\n",
    "    \n",
    "    # initialize gradient variables\n",
    "    \n",
    "    # L: loss; R: regularization; J: total target\n",
    "    dL_dW1 = dJ_dW1 = dR_dW1 = np.zeros_like(q_W1)\n",
    "    dL_db1 = dJ_db1 = dR_db1 = np.zeros_like(q_b1)\n",
    "    dL_dW2 = dJ_dW2 = dR_dW2 = np.zeros_like(q_W2)\n",
    "    dL_db2 = dJ_db2 = dR_db2 = np.zeros_like(q_b2)\n",
    "    dL_dW3 = dJ_dW3 = dR_dW3 = np.zeros_like(q_W3)\n",
    "    dL_db3 = dJ_db3 = dR_db3 = np.zeros_like(q_b3)\n",
    "    dL_dW4 = dJ_dW4 = np.zeros_like(p_W4)\n",
    "    dL_db4 = dJ_db4 = np.zeros_like(p_b4)    \n",
    "    dL_dW5 = dJ_dW5 = np.zeros_like(p_W5)\n",
    "    dL_db5 = dJ_db5 = np.zeros_like(p_b5)\n",
    "\n",
    "    # back propagation for loss\n",
    "    for iL in range(L):\n",
    "        y_iL = y[:,iL,:] # M by dx\n",
    "        p_h2_iL = p_h2[:,iL,:] # M by dm\n",
    "        z_iL = z[:,iL,:] # M by dz\n",
    "        \n",
    "        L_d4 = y_iL - X # M by dx\n",
    "        dL_dW5 = dL_dW5 + L_d4.T @ p_h2_iL # dx by dm\n",
    "        dL_db5 = dL_db5 + np.sum(L_d4, axis = 0).reshape(-1,1) # dx by 1\n",
    "        \n",
    "        L_d3 = L_d4 @ p_W5 * tanh_gradient_nb(p_h2_iL) # M by dm\n",
    "        dL_dW4 = dL_dW4 + L_d3.T @ z_iL # dm by dz\n",
    "        dL_db4 = dL_db4 + np.sum(L_d3, axis = 0).reshape(-1,1) # dm by 1\n",
    "        \n",
    "        L_d22 = L_d3 @ p_W4 * eps[iL,] * np.sqrt(q_s2) / 2  # M by dz\n",
    "        dL_dW3 = dL_dW3 + L_d22.T @ q_h1 # dz by dm\n",
    "        dL_db3 = dL_db3 + np.sum(L_d22, axis = 0).reshape(-1,1) # dz by 1\n",
    "        \n",
    "        L_d21 = L_d3 @ p_W4 # M by dz\n",
    "        dL_dW2 = dL_dW2 + L_d21.T @ q_h1 # dz by dm\n",
    "        dL_db2 = dL_db2 + np.sum(L_d21, axis = 0).reshape(-1,1) # dz by 1\n",
    "\n",
    "        L_d1 = (L_d21 @ q_W2 + L_d22 @ q_W3) * tanh_gradient_nb(q_h1) # M by dm\n",
    "        dL_dW1 = dL_dW1 + L_d1.T @ X # dm by dx\n",
    "        dL_db1 = dL_db1 + np.sum(L_d1, axis = 0).reshape(-1,1) # dm by 1\n",
    "\n",
    "    # back propagation for regularization\n",
    "    R_d22 = (q_s2 - 1)/2 # M by dz\n",
    "    dR_dW3 = dR_dW3 + R_d22.T @ q_h1 # dz by dm\n",
    "    dR_db3 = dR_db3 + np.sum(R_d22, axis = 0).reshape(-1,1) # dz by 1\n",
    "    \n",
    "    R_d21 = q_mu # M by dz\n",
    "    dR_dW2 = dR_dW2 + R_d21.T @ q_h1 # dz by dm\n",
    "    dR_db2 = dR_db2 + np.sum(R_d21, axis = 0).reshape(-1,1) # dm by 1\n",
    "\n",
    "    R_d1 = (R_d22 @ q_W3 + R_d21 @ q_W2) * tanh_gradient_nb(q_h1) # M by dm\n",
    "    dR_dW1 = dR_dW1 + R_d1.T @ X # dm by dx\n",
    "    dR_db1 = dR_db1 + np.sum(R_d1, axis = 0).reshape(-1,1) # dm by 1\n",
    "    \n",
    "    dJ_dW1 = dL_dW1 / L / M + dR_dW1 / M\n",
    "    dJ_db1 = dL_db1 / L / M + dR_db1 / M\n",
    "    dJ_dW2 = dL_dW2 / L / M + dR_dW2 / M\n",
    "    dJ_db2 = dL_db2 / L / M + dR_db2 / M    \n",
    "    dJ_dW3 = dL_dW3 / L / M + dR_dW3 / M\n",
    "    dJ_db3 = dL_db3 / L / M + dR_db3 / M\n",
    "    dJ_dW4 = dL_dW4 / L / M\n",
    "    dJ_db4 = dL_db4 / L / M \n",
    "    dJ_dW5 = dL_dW5 / L / M\n",
    "    dJ_db5 = dL_db5 / L / M\n",
    "    \n",
    "    return dJ_dW1, dJ_dW2, dJ_dW3, dJ_dW4, dJ_dW5, dJ_db1, dJ_db2, dJ_db3, dJ_db4, dJ_db5"
   ]
  },
  {
   "cell_type": "code",
   "execution_count": 21,
   "metadata": {},
   "outputs": [],
   "source": [
    "@jit(parallel=True, cache=True)\n",
    "def train_AEVB(trainX, trainy, nBatch, M = 100, L = 1, std_const = 255, dm = 500, dz = 3, alpha = 0.005, beta1 = 0.9, beta2 = 0.999, eps_stable = 1e-8, W = \"\", b = \"\", nP = 0):\n",
    "    \"\"\"\n",
    "    AEVB model as described in the paper\n",
    "    Diederik P Kingma, Max Welling\n",
    "    Auto-Encoding Variational Bayes (2013).\n",
    "    \n",
    "    Training using ADAM algorithm as described in the paper\n",
    "    Diederik P Kingma, Jimmy Ba\n",
    "    Adam: A Method for Stochastic Optimization (2014).\n",
    "    \n",
    "    Input parameters：\n",
    "    ----------\n",
    "    trainX: array_like\n",
    "            Training dataset inputs.\n",
    "            Dimension: number of sample by dim1 by dim2 ...\n",
    "    trainy: array_like\n",
    "            Training dataset labels. \n",
    "            This variable is not currently used in the function. For further developments.\n",
    "    nBatch: integer\n",
    "            Number of mini-batch to train.\n",
    "    M: integer, optional\n",
    "            Size of mini-batch.\n",
    "            Default at 100 as recommended in the paper.\n",
    "    L: integer, optional\n",
    "            Number of latent variable to sample.\n",
    "            Default at 1 as recommended in the paper.\n",
    "    std_const: scalar, optional\n",
    "            Normlizing constant for data.\n",
    "            Currently default at 255 which is usually used for black and white image data.\n",
    "    dm: integer, optional\n",
    "            Dimension for middle layer of the encoder and decoder.\n",
    "            Default at 500 which used for MNIST dataset in the paper.\n",
    "    dz: integer, optional\n",
    "            Dimension for latent variables. \n",
    "            Currently default at 3\n",
    "    alpha: float, optional\n",
    "            Learning rate.\n",
    "            Default at 0.005.\n",
    "    beta1: float, optional\n",
    "            Parameter for ADAM.\n",
    "            Default at 0.9.\n",
    "    beta2: float, optional\n",
    "            Parameter for ADAM.\n",
    "            Default at 0.999.\n",
    "    eps_stable: float, optional\n",
    "            Parameter for ADAM.\n",
    "            Default at 1e-08.\n",
    "    W: list, optional\n",
    "            List of model weights parameters, same format as function output variable W.\n",
    "            In case user wants to start training from existing parameters.\n",
    "    b: list, optional\n",
    "            List of model bias parameters, same format as function output variable b.\n",
    "            In case user wants to start training from existing parameters.\n",
    "    nP: integer, optional\n",
    "            If specified with non-zero number, function will print out \n",
    "            status message after completing every nP batches.\n",
    "    \n",
    "    Returns:\n",
    "    ----------\n",
    "    W: list\n",
    "            List of model weights parameters in the order of: q_W1, q_W2, q_W3, p_W4, p_W5.\n",
    "            q_W1, q_W2, q_W3: weights for Gaussian MLP encoder as specified in paper Appendix C.\n",
    "            p_W4, p_W5: weights for Bernoulli MLP decoder as specified in paper Appendix C\n",
    "    b: list\n",
    "            List of model bias parameters in the order of q_b1, q_b2, q_b3, p_b4, p_b5.\n",
    "            q_b1, q_b2, q_b3: bias for Gaussian MLP encoder as specified in paper Appendix C.\n",
    "            p_b4, p_b5: weights for Bernoulli MLP decoder as specified in paper Appendix C.\n",
    "    loss: array-like\n",
    "            Array which stores total loss for each mini-batch.\n",
    "    \"\"\"\n",
    "    \n",
    "    dx = trainX.shape[1]\n",
    "    Spec = [nBatch, M, L, std_const, dx, dm, dz, alpha, nP]\n",
    "    \n",
    "    # initiate parameters for ADAM\n",
    "    # need to use separate lines of codes otherwise they share the same reference\n",
    "    v_dW, v_db = init_random_nb1(dx, dm, dz, option = \"zeros\")\n",
    "    s_dW, s_db = init_random_nb1(dx, dm, dz, option = \"zeros\")\n",
    "    vc_dW, vc_db = init_random_nb1(dx, dm, dz, option = \"zeros\")\n",
    "    sc_dW, sc_db = init_random_nb1(dx, dm, dz, option = \"zeros\")\n",
    "    num_para = len(v_dW)\n",
    "    \n",
    "    # weights and bias initialization\n",
    "    if len(W) == len(b) == 0:\n",
    "        W, b = init_random_nb1(dx, dm, dz)\n",
    "    \n",
    "    q_W1, q_W2, q_W3, p_W4, p_W5 = W\n",
    "    q_b1, q_b2, q_b3, p_b4, p_b5 = b\n",
    "\n",
    "    # loss\n",
    "    loss = np.zeros(nBatch)\n",
    "    \n",
    "    for iB in range(nBatch):\n",
    "        # sample a random batch\n",
    "        batchX, batchy = get_Batch_nb(M, trainX, trainy)\n",
    "        X = batchX.reshape(M, dx) / std_const\n",
    "\n",
    "        # sample random noise for latent variable, assuming each batch uses the same random noise for now\n",
    "        eps = np.random.randn(L, dz)\n",
    "\n",
    "        y, q_h1, p_h2, q_mu, q_s2, z, loss[iB] = batch_forward_vec_nb2(Spec, X, W, b, eps)\n",
    "        \n",
    "        dJ_dW1, dJ_dW2, dJ_dW3, dJ_dW4, dJ_dW5, dJ_db1, dJ_db2, dJ_db3, dJ_db4, dJ_db5 =\\\n",
    "        grad_vec2_nb2(X, y, q_W1, q_W2, q_W3, p_W4, p_W5, q_b1, q_b2, q_b3, p_b4, p_b5, q_h1, p_h2, q_mu, q_s2, z, eps)\n",
    "        \n",
    "        dW = [dJ_dW1, dJ_dW2, dJ_dW3, dJ_dW4, dJ_dW5]\n",
    "        db = [dJ_db1, dJ_db2, dJ_db3, dJ_db4, dJ_db5]\n",
    "        \n",
    "        # ADAM\n",
    "        for i in range(num_para):\n",
    "            v_dW[i] = beta1*v_dW[i] + (1-beta1)*dW[i]\n",
    "            v_db[i] = beta1*v_db[i] + (1-beta1)*db[i]\n",
    "            s_dW[i] = beta2*s_dW[i] + (1-beta2)*np.power(dW[i],2)\n",
    "            s_db[i] = beta2*s_db[i] + (1-beta2)*np.power(db[i],2)\n",
    "        \n",
    "            vc_dW[i] = v_dW[i]/(1-beta1**(iB+1))\n",
    "            vc_db[i] = v_db[i]/(1-beta1**(iB+1))\n",
    "            sc_dW[i] = s_dW[i]/(1-beta2**(iB+1))\n",
    "            sc_db[i] = s_db[i]/(1-beta2**(iB+1))\n",
    "        \n",
    "            dW[i] = vc_dW[i] / (np.sqrt(sc_dW[i]) + eps_stable)\n",
    "            db[i] = vc_db[i] / (np.sqrt(sc_db[i]) + eps_stable)\n",
    "        \n",
    "        W, b = para_update_nb(W, b, dW, db, alpha)\n",
    "        \n",
    "        if (nP != 0) and (iB+1) % nP == 0:\n",
    "            print(\"Batch \" + str(iB+1) + \" completed.\")\n",
    "\n",
    "    return W, b, loss"
   ]
  },
  {
   "cell_type": "code",
   "execution_count": 32,
   "metadata": {},
   "outputs": [],
   "source": [
    "def plot_samples(trainX, trainy, W, b, Xdim1=0, Xdim2=0, std_const = 255):\n",
    "    \"\"\"\n",
    "    Randomly sample 9 figures from training data, reconstruct based on \n",
    "    user specified model parameters and plot for comparison.\n",
    "    \n",
    "    Input parameters：\n",
    "    ----------\n",
    "    trainX: array_like\n",
    "            Training dataset inputs.\n",
    "            Dimension: number of sample by dim1 by dim2 ...\n",
    "    trainy: array_like\n",
    "            Training dataset labels. \n",
    "            This variable is not currently used in the function. For further developments.\n",
    "    W: list\n",
    "            List of model weights parameters, same format as train_AEVB function output variable W.\n",
    "    b: list\n",
    "            List of model bias parameters, same format as train_AEVB function output variable b.\n",
    "    std_const: integer, optional\n",
    "            Normlizing constant to reconstruct data.\n",
    "            Currently default at 255 which is usually used for black and white image data.            \n",
    "    \n",
    "    Output:\n",
    "    ----------\n",
    "    9 random sampled figures from training data and the model-reconstructed ones for comparison\n",
    "    \"\"\"\n",
    "\n",
    "    dx = trainX.shape[1]\n",
    "    M = 9\n",
    "    L = 1\n",
    "    dz, dm = W[1].shape[0], W[1].shape[1]\n",
    "    if Xdim1 == 0 and Xdim2 == 0:\n",
    "        Xdim1 = Xdim2 = int(np.sqrt(dx))\n",
    "    Spec = [1, M, L, 255, dx, dm, dz, 0.005, 0]\n",
    "\n",
    "    batchX, batchy = get_Batch_nb(M, trainX, trainy)\n",
    "    X = batchX.reshape(M, dx) / std_const\n",
    "    eps = np.zeros((L, dz))\n",
    "\n",
    "    y, q_h1, p_h2, q_mu, q_s2, z, loss = batch_forward_vec_nb2(Spec, X, W, b, eps)\n",
    "    \n",
    "    for i in range(M):\n",
    "        # define subplot\n",
    "        plt.subplot(330 + 1 + i)\n",
    "        # plot raw pixel data\n",
    "        plt.imshow(batchX[i].reshape(Xdim1, Xdim2), cmap=plt.get_cmap('gray'))\n",
    "    # show the figure\n",
    "    plt.show()\n",
    "    \n",
    "    for i in range(M):\n",
    "        # define subplot\n",
    "        plt.subplot(330 + 1 + i)\n",
    "        # plot raw pixel data\n",
    "        plt.imshow(y[i,L-1,].reshape(Xdim1, Xdim2) * std_const, cmap=plt.get_cmap('gray'))\n",
    "    # show the figure\n",
    "    plt.show()"
   ]
  },
  {
   "cell_type": "markdown",
   "metadata": {},
   "source": [
    "The following is to plot random 9 figures from MNIST dataset based on our own learned parameters."
   ]
  },
  {
   "cell_type": "code",
   "execution_count": 16,
   "metadata": {},
   "outputs": [],
   "source": [
    "# load dataset\n",
    "from keras.datasets import mnist\n",
    "import matplotlib.pyplot as plt\n",
    "import pickle\n",
    "\n",
    "(trainX, trainy), (testX, testy) = mnist.load_data()"
   ]
  },
  {
   "cell_type": "code",
   "execution_count": 31,
   "metadata": {},
   "outputs": [],
   "source": [
    "def save_para(filename, **kwargs):\n",
    "    \"\"\"save weights and bias parameters\"\"\"\n",
    "    file = open(filename, 'wb')\n",
    "    pickle.dump(kwargs, file)\n",
    "    file.close()"
   ]
  },
  {
   "cell_type": "markdown",
   "metadata": {},
   "source": [
    "## Checking"
   ]
  },
  {
   "cell_type": "markdown",
   "metadata": {},
   "source": [
    "### 1.Gradient checking"
   ]
  },
  {
   "cell_type": "code",
   "execution_count": 19,
   "metadata": {},
   "outputs": [],
   "source": [
    "delta = 0.00001\n",
    "nBatch = 1 # number of mini-batch to train\n",
    "M = 100 # batch size\n",
    "L = 2 # sample size\n",
    "std_const = 255 # to standardize data\n",
    "\n",
    "Xdim1, Xdim2 = trainX[0].shape[0], trainX[0].shape[1]\n",
    "dx = Xdim1 * Xdim2 # dimension of the input\n",
    "dm = 500 # dimension of the hidden layer\n",
    "dz = 3 # dimension of latent variable\n",
    "\n",
    "alpha = 0.005 # learning rate\n",
    "\n",
    "nP = 1000 # print out status every nP batches\n",
    "\n",
    "Spec = [nBatch, M, L, std_const, dx, dm, dz, alpha, nP]\n",
    "\n",
    "W,b = init_random(dx, dm, dz)\n",
    "q_W1, q_W2, q_W3, p_W4, p_W5 = W\n",
    "q_b1, q_b2, q_b3, p_b4, p_b5 = b\n",
    "eps = np.random.randn(L, dz)\n",
    "batchX, batchy = get_Batch(M, trainX, trainy)\n",
    "X = batchX.reshape(M, dx) / std_const"
   ]
  },
  {
   "cell_type": "code",
   "execution_count": 20,
   "metadata": {},
   "outputs": [],
   "source": [
    "def batch_forward(Spec, X, W, b, eps):\n",
    "    \"\"\"forward propagation for one batch\"\"\"\n",
    "    d, M, L, d, d, dm, dz, d, d = Spec\n",
    "    \n",
    "    # initialize variables for calculating gradients/ loss by batch\n",
    "    q_h1 = np.zeros((M, dm))\n",
    "    q_mu = np.zeros((M, dz))\n",
    "    q_s2 = np.zeros((M, dz))\n",
    "    q_a2 = np.zeros((M, dz))\n",
    "    p_h2 = np.zeros((M, L, dm))\n",
    "    z = np.zeros((M, L, dz))\n",
    "    y = np.zeros((M, L, dx))\n",
    "    \n",
    "    for iD in range(M):\n",
    "        q_h1[iD,], q_a2[iD,], q_mu[iD,], q_s2[iD,] = encoder_forward(X[iD,].reshape(-1,1), W, b)\n",
    "\n",
    "        for iL in range(L):\n",
    "            z[iD,iL,] = sample_z(q_mu[iD,], q_s2[iD,], eps[iL,])\n",
    "            y[iD,iL,], p_h2[iD,iL,] = decoder_forward(W, b, z[iD,iL,].reshape(-1,1))\n",
    "    \n",
    "    H = [q_h1, p_h2]\n",
    "    Lt = [q_mu, q_s2, z, eps]\n",
    "    loss = total_loss(X, y, q_a2, q_mu, q_s2)\n",
    "    return y, H, Lt, loss"
   ]
  },
  {
   "cell_type": "code",
   "execution_count": 22,
   "metadata": {},
   "outputs": [],
   "source": [
    "def encoder_forward(X, W, b):\n",
    "    \"\"\"\n",
    "    encoder forward propagation for each data point\n",
    "    X: dx by 1\n",
    "    \"\"\"\n",
    "    \n",
    "    q_W1, q_W2, q_W3, d,d = W\n",
    "    q_b1, q_b2, q_b3, d,d = b\n",
    "    \n",
    "    q_a1 = q_W1 @ X + q_b1\n",
    "    q_h1 = tanh(q_a1)\n",
    "    q_mu = q_W2 @ q_h1 + q_b2\n",
    "    q_a2 = q_W3 @ q_h1 + q_b3\n",
    "    q_s2 = np.exp(q_a2)\n",
    "    \n",
    "    return q_h1.T, q_a2.T, q_mu.T, q_s2.T"
   ]
  },
  {
   "cell_type": "code",
   "execution_count": 23,
   "metadata": {},
   "outputs": [],
   "source": [
    "def sample_z(q_mu, q_s2, eps):\n",
    "    \"\"\"sample z\"\"\"\n",
    "    return q_mu + np.sqrt(q_s2) * eps"
   ]
  },
  {
   "cell_type": "code",
   "execution_count": 24,
   "metadata": {},
   "outputs": [],
   "source": [
    "def decoder_forward(W, b, z):\n",
    "    \"\"\"\n",
    "    decoder forward propagation for each data point and each sample latent variable\n",
    "    z: dz by 1\n",
    "    \"\"\"\n",
    "    \n",
    "    d,d,d, p_W4, p_W5 = W\n",
    "    d,d,d, p_b4, p_b5 = b\n",
    "    \n",
    "    p_a3 = p_W4 @ z + p_b4\n",
    "    p_h2 = tanh(p_a3)\n",
    "            \n",
    "    p_a4 = p_W5 @ p_h2 + p_b5\n",
    "    y = sigmoid(p_a4)\n",
    "    \n",
    "    return y.T, p_h2.T"
   ]
  },
  {
   "cell_type": "code",
   "execution_count": 26,
   "metadata": {},
   "outputs": [],
   "source": [
    "def total_loss(X, y, q_a2, q_mu, q_s2):\n",
    "    \"\"\"target total loss function - to minimize\"\"\"\n",
    "    \n",
    "    M = X.shape[0]\n",
    "    L = y.shape[1]\n",
    "    \n",
    "    loss = 0\n",
    "    for iD in range(M):\n",
    "        for iL in range(L):\n",
    "            # reconstruction loss for each sample of latent variable\n",
    "            loss = loss - np.sum(X[iD,] * np.log(y[iD,iL,]) + (1-X[iD,]) * np.log(1-y[iD,iL,])) / L\n",
    "        \n",
    "        # KL divergence/ regularization\n",
    "        loss = loss + np.sum(np.power(q_mu[iD,],2) + q_s2[iD,] - q_a2[iD,] - 1)/2\n",
    "    \n",
    "    return loss / M"
   ]
  },
  {
   "cell_type": "code",
   "execution_count": 35,
   "metadata": {},
   "outputs": [],
   "source": [
    "def grad(X, y, W, b, H, Lt):\n",
    "    \"\"\"\"\n",
    "    batch gradient\n",
    "    inputs:\n",
    "        X: M by dx\n",
    "        y: M by L by dx\n",
    "        W: weights\n",
    "        b: bias\n",
    "        H: q_h1 (M by dm), p_h2 (M by L by dm)\n",
    "        Lt: eps (L by dz), z (M by L by dz), q_s2 (M by dz), q_mu (M by dz)\n",
    "    \"\"\"\n",
    "    q_W1, q_W2, q_W3, p_W4, p_W5 = W\n",
    "    q_b1, q_b2, q_b3, p_b4, p_b5 = b\n",
    "    q_h1, p_h2 = H\n",
    "    q_mu, q_s2, z, eps = Lt\n",
    "    \n",
    "    M = X.shape[0]\n",
    "    L = y.shape[1]\n",
    "    \n",
    "    # initialize gradient variables\n",
    "    \n",
    "    # L: loss; R: regularization; J: total target\n",
    "    dL_dW1 = dJ_dW1 = dR_dW1 = np.zeros_like(q_W1)\n",
    "    dL_db1 = dJ_db1 = dR_db1 = np.zeros_like(q_b1)\n",
    "    dL_dW2 = dJ_dW2 = dR_dW2 = np.zeros_like(q_W2)\n",
    "    dL_db2 = dJ_db2 = dR_db2 = np.zeros_like(q_b2)\n",
    "    dL_dW3 = dJ_dW3 = dR_dW3 = np.zeros_like(q_W3)\n",
    "    dL_db3 = dJ_db3 = dR_db3 = np.zeros_like(q_b3)\n",
    "    dL_dW4 = dJ_dW4 = np.zeros_like(p_W4)\n",
    "    dL_db4 = dJ_db4 = np.zeros_like(p_b4)    \n",
    "    dL_dW5 = dJ_dW5 = np.zeros_like(p_W5)\n",
    "    dL_db5 = dJ_db5 = np.zeros_like(p_b5)\n",
    "    \n",
    "    for iD in range(M):\n",
    "        for iL in range(L):\n",
    "            # back propagation for loss\n",
    "\n",
    "            #L_d4 = (np.divide(y[iD,iL,]-X[iD,], y[iD,iL,] * (1-y[iD,iL,])) * sigmoid_gradient(y[iD,iL,])).reshape(-1,1)\n",
    "            \n",
    "            # simplied L_d4\n",
    "            L_d4 = (y[iD,iL,]-X[iD,]).reshape(-1,1)\n",
    "            dL_dW5 = dL_dW5 + L_d4 @ p_h2[iD,iL,].reshape(1,-1)\n",
    "            dL_db5 = dL_db5 + L_d4\n",
    "            \n",
    "            L_d3 = p_W5.T @ L_d4 * tanh_gradient(p_h2[iD,iL,]).reshape(-1,1)\n",
    "            dL_dW4 = dL_dW4 + L_d3 @ z[iD,iL,].reshape(1,-1)\n",
    "            dL_db4 = dL_db4 + L_d3\n",
    "            \n",
    "            L_d22 = p_W4.T @ L_d3 * eps[iL,].reshape(-1,1) * np.sqrt(q_s2[iD,]).reshape(-1,1) / 2\n",
    "            dL_dW3 = dL_dW3 + L_d22 @ q_h1[iD,].reshape(1,-1)\n",
    "            dL_db3 = dL_db3 + L_d22\n",
    "            \n",
    "            L_d21 = p_W4.T @ L_d3\n",
    "            dL_dW2 = dL_dW2 + L_d21 @ q_h1[iD,].reshape(1,-1)\n",
    "            dL_db2 = dL_db2 + L_d21\n",
    "            \n",
    "            L_d1 = (q_W2.T @ L_d21 + q_W3.T @ L_d22) * tanh_gradient(q_h1[iD,]).reshape(-1,1)\n",
    "            dL_dW1 = dL_dW1 + L_d1 @ X[iD,].reshape(1,-1)\n",
    "            dL_db1 = dL_db1 + L_d1\n",
    "        \n",
    "        # back propagation for regularization\n",
    "        R_d22 = ((q_s2[iD,]-1)/2).reshape(-1,1)\n",
    "        dR_dW3 = dR_dW3 + R_d22 @ q_h1[iD,].reshape(1,-1)\n",
    "        dR_db3 = dR_db3 + R_d22\n",
    "\n",
    "        R_d21 = q_mu[iD,].reshape(-1,1)\n",
    "        dR_dW2 = dR_dW2 + R_d21 @ q_h1[iD,].reshape(1,-1)\n",
    "        dR_db2 = dR_db2 + R_d21\n",
    "\n",
    "        R_d1 = (q_W3.T @ R_d22 + q_W2.T @ R_d21) * tanh_gradient(q_h1[iD,]).reshape(-1,1)\n",
    "        dR_dW1 = dR_dW1 + R_d1 @ X[iD,].reshape(1,-1)\n",
    "        dR_db1 = dR_db1 + R_d1\n",
    "    \n",
    "    dJ_dW1 = dL_dW1 / L / M + dR_dW1 / M\n",
    "    dJ_db1 = dL_db1 / L / M + dR_db1 / M\n",
    "    dJ_dW2 = dL_dW2 / L / M + dR_dW2 / M\n",
    "    dJ_db2 = dL_db2 / L / M + dR_db2 / M    \n",
    "    dJ_dW3 = dL_dW3 / L / M + dR_dW3 / M\n",
    "    dJ_db3 = dL_db3 / L / M + dR_db3 / M\n",
    "    dJ_dW4 = dL_dW4 / L / M\n",
    "    dJ_db4 = dL_db4 / L / M \n",
    "    dJ_dW5 = dL_dW5 / L / M\n",
    "    dJ_db5 = dL_db5 / L / M\n",
    "    \n",
    "    dW = [dJ_dW1, dJ_dW2, dJ_dW3, dJ_dW4, dJ_dW5]\n",
    "    db = [dJ_db1, dJ_db2, dJ_db3, dJ_db4, dJ_db5]\n",
    "    \n",
    "    return dW, db"
   ]
  },
  {
   "cell_type": "code",
   "execution_count": 27,
   "metadata": {},
   "outputs": [],
   "source": [
    "y, H, Lt, loss1 = batch_forward(Spec, X, W, b, eps)\n",
    "q_h1, p_h2 = H\n",
    "q_mu, q_s2, z, eps = Lt"
   ]
  },
  {
   "cell_type": "code",
   "execution_count": 28,
   "metadata": {},
   "outputs": [
    {
     "name": "stderr",
     "output_type": "stream",
     "text": [
      "<ipython-input-12-b95d3c7e2b3a>:42: NumbaPerformanceWarning: '@' is faster on contiguous arrays, called on (array(float64, 2d, F), array(float64, 2d, A))\n",
      "  dL_dW5 = dL_dW5 + L_d4.T @ p_h2_iL # dx by dm\n",
      "<ipython-input-12-b95d3c7e2b3a>:46: NumbaPerformanceWarning: '@' is faster on contiguous arrays, called on (array(float64, 2d, F), array(float64, 2d, A))\n",
      "  dL_dW4 = dL_dW4 + L_d3.T @ z_iL # dm by dz\n",
      "/opt/conda/lib/python3.6/site-packages/numba/typing/npydecl.py:958: NumbaPerformanceWarning: '@' is faster on contiguous arrays, called on (array(float64, 2d, F), array(float64, 2d, A))\n",
      "  warnings.warn(NumbaPerformanceWarning(msg))\n",
      "/opt/conda/lib/python3.6/site-packages/numba/typing/npydecl.py:958: NumbaPerformanceWarning: '@' is faster on contiguous arrays, called on (array(float64, 2d, F), array(float64, 2d, A))\n",
      "  warnings.warn(NumbaPerformanceWarning(msg))\n"
     ]
    }
   ],
   "source": [
    "dL_dW1, dL_dW2, dL_dW3, dL_dW4, dL_dW5, dL_db1, dL_db2, dL_db3, dL_db4, dL_db5 =\\\n",
    "grad_vec2_nb2(X, y, q_W1, q_W2, q_W3, p_W4, p_W5, q_b1, q_b2, q_b3, p_b4, p_b5, q_h1, p_h2, q_mu, q_s2, z, eps)"
   ]
  },
  {
   "cell_type": "code",
   "execution_count": 29,
   "metadata": {},
   "outputs": [
    {
     "name": "stdout",
     "output_type": "stream",
     "text": [
      "var manual grad func\n",
      "W5:  742.0446729668128 742.0446729570698\n",
      "b5:  297.2612658709295 297.2612658696403\n",
      "W4:  15.756503574948509 15.75650358300687\n",
      "b4:  -8.287481102797756 -8.287481116570488\n",
      "W3:  5.787541698509812 5.787541682365959\n",
      "b3:  1.800083208536307 1.8000831970383162\n",
      "W2:  -8.895183037793686 -8.895183020498987\n",
      "b2:  -3.4511241267409782 -3.451124101918673\n",
      "W1:  -352.4493544034612 -352.4495336590897\n",
      "b1:  -3.7860770135011985 -3.7860770110999162\n"
     ]
    }
   ],
   "source": [
    "# gradient checking\n",
    "p_W5_add = p_W5 + delta\n",
    "p_W5_red = p_W5 - delta\n",
    "\n",
    "p_b5_add = p_b5 + delta\n",
    "p_b5_red = p_b5 - delta\n",
    "\n",
    "p_W4_add = p_W4 + delta\n",
    "p_W4_red = p_W4 - delta\n",
    "\n",
    "p_b4_add = p_b4 + delta\n",
    "p_b4_red = p_b4 - delta\n",
    "\n",
    "q_W3_add = q_W3 + delta\n",
    "q_W3_red = q_W3 - delta\n",
    "\n",
    "q_b3_add = q_b3 + delta\n",
    "q_b3_red = q_b3 - delta\n",
    "\n",
    "q_W2_add = q_W2 + delta\n",
    "q_W2_red = q_W2 - delta\n",
    "\n",
    "q_b2_add = q_b2 + delta\n",
    "q_b2_red = q_b2 - delta\n",
    "\n",
    "q_W1_add = q_W1 + delta\n",
    "q_W1_red = q_W1 - delta\n",
    "\n",
    "q_b1_add = q_b1 + delta\n",
    "q_b1_red = q_b1 - delta\n",
    "\n",
    "W5_add = [q_W1, q_W2, q_W3, p_W4, p_W5_add]\n",
    "W5_red = [q_W1, q_W2, q_W3, p_W4, p_W5_red]\n",
    "\n",
    "b5_add = [q_b1, q_b2, q_b3, p_b4, p_b5_add]\n",
    "b5_red = [q_b1, q_b2, q_b3, p_b4, p_b5_red]\n",
    "\n",
    "W4_add = [q_W1, q_W2, q_W3, p_W4_add, p_W5]\n",
    "W4_red = [q_W1, q_W2, q_W3, p_W4_red, p_W5]\n",
    "\n",
    "b4_add = [q_b1, q_b2, q_b3, p_b4_add, p_b5]\n",
    "b4_red = [q_b1, q_b2, q_b3, p_b4_red, p_b5]\n",
    "\n",
    "W3_add = [q_W1, q_W2, q_W3_add, p_W4, p_W5]\n",
    "W3_red = [q_W1, q_W2, q_W3_red, p_W4, p_W5]\n",
    "\n",
    "b3_add = [q_b1, q_b2, q_b3_add, p_b4, p_b5]\n",
    "b3_red = [q_b1, q_b2, q_b3_red, p_b4, p_b5]\n",
    "\n",
    "W2_add = [q_W1, q_W2_add, q_W3, p_W4, p_W5]\n",
    "W2_red = [q_W1, q_W2_red, q_W3, p_W4, p_W5]\n",
    "\n",
    "b2_add = [q_b1, q_b2_add, q_b3, p_b4, p_b5]\n",
    "b2_red = [q_b1, q_b2_red, q_b3, p_b4, p_b5]\n",
    "\n",
    "W1_add = [q_W1_add, q_W2, q_W3, p_W4, p_W5]\n",
    "W1_red = [q_W1_red, q_W2, q_W3, p_W4, p_W5]\n",
    "\n",
    "b1_add = [q_b1_add, q_b2, q_b3, p_b4, p_b5]\n",
    "b1_red = [q_b1_red, q_b2, q_b3, p_b4, p_b5]\n",
    "\n",
    "d,d,d,loss_W5_add = batch_forward(Spec, X, W5_add, b, eps)\n",
    "d,d,d,loss_W5_red = batch_forward(Spec, X, W5_red, b, eps)\n",
    "\n",
    "d,d,d,loss_b5_add = batch_forward(Spec, X, W, b5_add, eps)\n",
    "d,d,d,loss_b5_red = batch_forward(Spec, X, W, b5_red, eps)\n",
    "\n",
    "d,d,d,loss_W4_add = batch_forward(Spec, X, W4_add, b, eps)\n",
    "d,d,d,loss_W4_red = batch_forward(Spec, X, W4_red, b, eps)\n",
    "\n",
    "d,d,d,loss_b4_add = batch_forward(Spec, X, W, b4_add, eps)\n",
    "d,d,d,loss_b4_red = batch_forward(Spec, X, W, b4_red, eps)\n",
    "\n",
    "d,d,d,loss_W3_add = batch_forward(Spec, X, W3_add, b, eps)\n",
    "d,d,d,loss_W3_red = batch_forward(Spec, X, W3_red, b, eps)\n",
    "\n",
    "d,d,d,loss_b3_add = batch_forward(Spec, X, W, b3_add, eps)\n",
    "d,d,d,loss_b3_red = batch_forward(Spec, X, W, b3_red, eps)\n",
    "\n",
    "d,d,d,loss_W2_add = batch_forward(Spec, X, W2_add, b, eps)\n",
    "d,d,d,loss_W2_red = batch_forward(Spec, X, W2_red, b, eps)\n",
    "\n",
    "d,d,d,loss_b2_add = batch_forward(Spec, X, W, b2_add, eps)\n",
    "d,d,d,loss_b2_red = batch_forward(Spec, X, W, b2_red, eps)\n",
    "\n",
    "d,d,d,loss_W1_add = batch_forward(Spec, X, W1_add, b, eps)\n",
    "d,d,d,loss_W1_red = batch_forward(Spec, X, W1_red, b, eps)\n",
    "\n",
    "d,d,d,loss_b1_add = batch_forward(Spec, X, W, b1_add, eps)\n",
    "d,d,d,loss_b1_red = batch_forward(Spec, X, W, b1_red, eps)\n",
    "\n",
    "print(\"var\", \"manual\", \"grad func\")\n",
    "print(\"W5: \", (loss_W5_add - loss_W5_red)/2/delta, np.sum(dL_dW5))\n",
    "print(\"b5: \", (loss_b5_add - loss_b5_red)/2/delta, np.sum(dL_db5))\n",
    "print(\"W4: \", (loss_W4_add - loss_W4_red)/2/delta, np.sum(dL_dW4))\n",
    "print(\"b4: \", (loss_b4_add - loss_b4_red)/2/delta, np.sum(dL_db4))\n",
    "print(\"W3: \", (loss_W3_add - loss_W3_red)/2/delta, np.sum(dL_dW3))\n",
    "print(\"b3: \", (loss_b3_add - loss_b3_red)/2/delta, np.sum(dL_db3))\n",
    "print(\"W2: \", (loss_W2_add - loss_W2_red)/2/delta, np.sum(dL_dW2))\n",
    "print(\"b2: \", (loss_b2_add - loss_b2_red)/2/delta, np.sum(dL_db2))\n",
    "print(\"W1: \", (loss_W1_add - loss_W1_red)/2/delta, np.sum(dL_dW1))\n",
    "print(\"b1: \", (loss_b1_add - loss_b1_red)/2/delta, np.sum(dL_db1))"
   ]
  },
  {
   "cell_type": "markdown",
   "metadata": {},
   "source": [
    "### 2. Functions checking"
   ]
  },
  {
   "cell_type": "markdown",
   "metadata": {},
   "source": [
    "#### 2.1 batch_forward_vec_nb2"
   ]
  },
  {
   "cell_type": "code",
   "execution_count": 30,
   "metadata": {},
   "outputs": [],
   "source": [
    "nBatch = 1 # number of mini-batch to train\n",
    "M = 100 # batch size\n",
    "L = 2 # sample size\n",
    "std_const = 255 # to standardize data\n",
    "\n",
    "Xdim1, Xdim2 = trainX[0].shape[0], trainX[0].shape[1]\n",
    "dx = Xdim1 * Xdim2 # dimension of the input\n",
    "dm = 500 # dimension of the hidden layer\n",
    "dz = 3 # dimension of latent variable\n",
    "\n",
    "alpha = 0.005 # learning rate\n",
    "\n",
    "nP = 1000 # print out status every nP batches\n",
    "\n",
    "Spec = [nBatch, M, L, std_const, dx, dm, dz, alpha, nP]\n",
    "\n",
    "W,b = init_random(dx, dm, dz)\n",
    "q_W1, q_W2, q_W3, p_W4, p_W5 = W\n",
    "q_b1, q_b2, q_b3, p_b4, p_b5 = b\n",
    "eps = np.random.randn(L, dz)\n",
    "batchX, batchy = get_Batch(M, trainX, trainy)\n",
    "X = batchX.reshape(M, dx) / std_const"
   ]
  },
  {
   "cell_type": "code",
   "execution_count": 31,
   "metadata": {},
   "outputs": [],
   "source": [
    "y_original, H_original, Lt_original, loss_original = batch_forward(Spec, X, W, b, eps)\n",
    "q_h1_original, p_h2_original = H_original\n",
    "q_mu_original, q_s2_original, z_original, eps_original = Lt_original"
   ]
  },
  {
   "cell_type": "code",
   "execution_count": 32,
   "metadata": {},
   "outputs": [],
   "source": [
    "y_new, q_h1_new, p_h2_new, q_mu_new, q_s2_new, z_new, loss_new = batch_forward_vec_nb2(Spec, X, W, b, eps)"
   ]
  },
  {
   "cell_type": "code",
   "execution_count": 33,
   "metadata": {},
   "outputs": [
    {
     "name": "stdout",
     "output_type": "stream",
     "text": [
      "True\n",
      "True\n",
      "True\n",
      "True\n",
      "True\n",
      "True\n",
      "True\n"
     ]
    }
   ],
   "source": [
    "print(np.allclose(y_original, y_new))\n",
    "print(np.allclose(q_h1_original, q_h1_new))\n",
    "print(np.allclose(p_h2_original, p_h2_new))\n",
    "print(np.allclose(q_mu_original, q_mu_new))\n",
    "print(np.allclose(q_s2_original, q_s2_new))\n",
    "print(np.allclose(z_original, z_new))\n",
    "print(np.allclose(loss_original, loss_new))"
   ]
  },
  {
   "cell_type": "markdown",
   "metadata": {},
   "source": [
    "#### 2.2 grad_vec2_nb2"
   ]
  },
  {
   "cell_type": "code",
   "execution_count": 36,
   "metadata": {},
   "outputs": [],
   "source": [
    "y, H, Lt, loss = batch_forward(Spec, X, W, b, eps)\n",
    "dW_ori, db_ori = grad(X, y, W, b, H, Lt)"
   ]
  },
  {
   "cell_type": "code",
   "execution_count": 37,
   "metadata": {},
   "outputs": [],
   "source": [
    "nBatch, M, L, std_const, dx, dm, dz, alpha, nP = Spec\n",
    "q_W1, q_W2, q_W3, p_W4, p_W5 = W\n",
    "q_b1, q_b2, q_b3, p_b4, p_b5 = b\n",
    "q_h1, p_h2 = H\n",
    "q_mu, q_s2, z, eps = Lt\n",
    "dJ_dW1, dJ_dW2, dJ_dW3, dJ_dW4, dJ_dW5, dJ_db1, dJ_db2, dJ_db3, dJ_db4, dJ_db5 = \\\n",
    "grad_vec2_nb2(X, y, q_W1, q_W2, q_W3, p_W4, p_W5, q_b1, q_b2, q_b3, p_b4, p_b5, q_h1, p_h2, q_mu, q_s2, z, eps)"
   ]
  },
  {
   "cell_type": "code",
   "execution_count": 38,
   "metadata": {},
   "outputs": [
    {
     "name": "stdout",
     "output_type": "stream",
     "text": [
      "True\n",
      "True\n",
      "True\n",
      "True\n",
      "True\n",
      "True\n",
      "True\n",
      "True\n",
      "True\n",
      "True\n"
     ]
    }
   ],
   "source": [
    "print(np.allclose(dW_ori[0], dJ_dW1))\n",
    "print(np.allclose(dW_ori[1], dJ_dW2))\n",
    "print(np.allclose(dW_ori[2], dJ_dW3))\n",
    "print(np.allclose(dW_ori[3], dJ_dW4))\n",
    "print(np.allclose(dW_ori[4], dJ_dW5))\n",
    "\n",
    "print(np.allclose(db_ori[0], dJ_db1))\n",
    "print(np.allclose(db_ori[1], dJ_db2))\n",
    "print(np.allclose(db_ori[2], dJ_db3))\n",
    "print(np.allclose(db_ori[3], dJ_db4))\n",
    "print(np.allclose(db_ori[4], dJ_db5))"
   ]
  },
  {
   "cell_type": "code",
   "execution_count": null,
   "metadata": {},
   "outputs": [],
   "source": []
  },
  {
   "cell_type": "code",
   "execution_count": null,
   "metadata": {},
   "outputs": [],
   "source": []
  },
  {
   "cell_type": "code",
   "execution_count": null,
   "metadata": {},
   "outputs": [],
   "source": []
  },
  {
   "cell_type": "code",
   "execution_count": 3,
   "metadata": {},
   "outputs": [],
   "source": [
    "from scipy.io import loadmat\n",
    "caltech = loadmat('caltech101_silhouettes_16.mat')"
   ]
  },
  {
   "cell_type": "code",
   "execution_count": 7,
   "metadata": {},
   "outputs": [
    {
     "data": {
      "text/plain": [
       "dict_keys(['__header__', '__version__', '__globals__', 'X', 'Y', 'classnames'])"
      ]
     },
     "execution_count": 7,
     "metadata": {},
     "output_type": "execute_result"
    }
   ],
   "source": [
    "caltech.keys()"
   ]
  },
  {
   "cell_type": "code",
   "execution_count": 8,
   "metadata": {},
   "outputs": [],
   "source": [
    "calX = caltech['X']\n",
    "caly = caltech['Y'].reshape(-1,1)"
   ]
  },
  {
   "cell_type": "code",
   "execution_count": 44,
   "metadata": {},
   "outputs": [],
   "source": [
    "W,b,loss = train_AEVB(calX, caly, 20000, dm=128, std_const = 1, W = W, b=b)"
   ]
  },
  {
   "cell_type": "code",
   "execution_count": 46,
   "metadata": {},
   "outputs": [
    {
     "data": {
      "image/png": "[encoded data removed]",
      "text/plain": [
       "<Figure size 432x288 with 9 Axes>"
      ]
     },
     "metadata": {},
     "output_type": "display_data"
    },
    {
     "data": {
      "image/png": "[encoded data removed]",
      "text/plain": [
       "<Figure size 432x288 with 9 Axes>"
      ]
     },
     "metadata": {},
     "output_type": "display_data"
    }
   ],
   "source": [
    "plot_samples(calX, caly, W, b, std_const = 1)"
   ]
  },
  {
   "cell_type": "code",
   "execution_count": 47,
   "metadata": {},
   "outputs": [],
   "source": [
    "def save_para(filename, **kwargs):\n",
    "    \"\"\"save weights and bias parameters\"\"\"\n",
    "    file = open(filename, 'wb')\n",
    "    pickle.dump(kwargs, file)\n",
    "    file.close()"
   ]
  },
  {
   "cell_type": "code",
   "execution_count": 49,
   "metadata": {},
   "outputs": [],
   "source": [
    "import pickle\n",
    "filename = \"2020_04_30_22_41_05_Model_v1.3_parameter_Caltech\"\n",
    "doc = \"model run for Caltech data, 80000 iterations\"\n",
    "save_para(filename, doc = doc, W = W, b = b, loss = loss)"
   ]
  },
  {
   "cell_type": "code",
   "execution_count": null,
   "metadata": {},
   "outputs": [],
   "source": []
  }
 ],
 "metadata": {
  "kernelspec": {
   "display_name": "Python 3",
   "language": "python",
   "name": "python3"
  },
  "language_info": {
   "codemirror_mode": {
    "name": "ipython",
    "version": 3
   },
   "file_extension": ".py",
   "mimetype": "text/x-python",
   "name": "python",
   "nbconvert_exporter": "python",
   "pygments_lexer": "ipython3",
   "version": "3.6.10"
  }
 },
 "nbformat": 4,
 "nbformat_minor": 2
}
